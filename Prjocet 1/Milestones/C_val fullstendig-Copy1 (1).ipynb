{
 "cells": [
  {
   "cell_type": "code",
   "execution_count": 2,
   "id": "c42f8e94",
   "metadata": {},
   "outputs": [],
   "source": [
    "#Importing packages\n",
    "import numpy as np\n",
    "from sklearn.model_selection import train_test_split\n",
    "from sklearn.preprocessing import StandardScaler\n",
    "import matplotlib.pyplot as plt\n",
    "from sklearn.preprocessing import PolynomialFeatures\n",
    "from sklearn import  linear_model\n",
    "from sklearn.metrics import mean_squared_error, r2_score\n",
    "from sklearn.model_selection import cross_val_score\n",
    "from sklearn.model_selection import KFold\n",
    "import pandas as pd"
   ]
  },
  {
   "cell_type": "code",
   "execution_count": 3,
   "id": "1c25ef37",
   "metadata": {},
   "outputs": [],
   "source": [
    "#creating the model based on feature matrix and optimal beta coeficients\n",
    "def betaAndYtildeGenerator(X_train,y_train):\n",
    "    beta = np.linalg.pinv(X_train.T @ X_train) @ X_train.T @ y_train\n",
    "    ytilde = X_train @ beta\n",
    "    return beta,ytilde\n"
   ]
  },
  {
   "cell_type": "code",
   "execution_count": 4,
   "id": "956552ee",
   "metadata": {},
   "outputs": [],
   "source": [
    "#Setting up the Feature matrix\n",
    "def X_generator(x, y, n ):\n",
    "    if len(x.shape) > 1:\n",
    "        x = np.ravel(x)\n",
    "        y = np.ravel(y)\n",
    "\n",
    "    N = len(x)\n",
    "    l = int((n+1)*(n+2)/2)  # Number of elements in beta\n",
    "    X = np.ones((N,l))\n",
    "\n",
    "    for i in range(1,n+1):\n",
    "        q = int((i)*(i+1)/2)\n",
    "        for k in range(i+1):\n",
    "            X[:,q+k] = (x**(i-k))*(y**k)\n",
    "\n",
    "    return X\n"
   ]
  },
  {
   "cell_type": "code",
   "execution_count": 5,
   "id": "34fc94e1",
   "metadata": {},
   "outputs": [],
   "source": [
    "# split in training and test data\n",
    "def traningDataGenerator(X,y):\n",
    "    X_train, X_test, y_train, y_test = train_test_split(X,y,test_size=0.2, random_state = 11)\n",
    "    return X_train, X_test, y_train, y_test"
   ]
  },
  {
   "cell_type": "code",
   "execution_count": 6,
   "id": "c604bad8",
   "metadata": {},
   "outputs": [],
   "source": [
    "#Functions for R2 and MSE\n",
    "def R2(y_data, y_model):\n",
    "    return 1 - np.sum((y_data - y_model) ** 2) / np.sum((y_data - np.mean(y_data)) ** 2)\n",
    "def MSE(y_data,y_model):\n",
    "    n = np.size(y_model)\n",
    "    return np.sum((y_data-y_model)**2)/n"
   ]
  },
  {
   "cell_type": "code",
   "execution_count": 7,
   "id": "9c6feb18",
   "metadata": {},
   "outputs": [],
   "source": [
    "def FrankeFunction(x,y):\n",
    "    term1 = 0.75*np.exp(-(0.25*(9*x-2)**2) - 0.25*((9*y-2)**2))\n",
    "    term2 = 0.75*np.exp(-((9*x+1)**2)/49.0 - 0.1*(9*y+1))\n",
    "    term3 = 0.5*np.exp(-(9*x-7)**2/4.0 - 0.25*((9*y-3)**2))\n",
    "    term4 = -0.2*np.exp(-(9*x-4)**2 - (9*y-7)**2)\n",
    "    return term1 + term2 + term3 + term4"
   ]
  },
  {
   "cell_type": "code",
   "execution_count": 8,
   "id": "abbcfc4f",
   "metadata": {},
   "outputs": [],
   "source": [
    "#Function for generating noise\n",
    "def noiseGeneration(z_input, scaling = 1):\n",
    "    np.random.seed(5)\n",
    "    nosyZ= z_input + np.random.randn(*z_input.shape) * scaling\n",
    "    return nosyZ"
   ]
  },
  {
   "cell_type": "code",
   "execution_count": 9,
   "id": "905eefd8",
   "metadata": {},
   "outputs": [],
   "source": [
    "#Fuction for making x and y of given size\n",
    "def makeData(n_size=20):\n",
    "    x = np.linspace(0,1,n_size)\n",
    "    y = np.linspace(0,1,n_size)\n",
    "    return x,y"
   ]
  },
  {
   "cell_type": "code",
   "execution_count": 10,
   "id": "af6ea9c7",
   "metadata": {},
   "outputs": [],
   "source": [
    "#Scaling function for the feature matrix\n",
    "def scale_data(X_train,X_test,y_train,y_test):\n",
    "    scaler = StandardScaler()\n",
    "    scaler_x = scaler.fit(X_train) # Scaling x-data\n",
    "    X_train_scaled = scaler_x.transform(X_train)\n",
    "    X_test_scaled = scaler_x.transform(X_test)\n",
    "    \n",
    "    scaler_y = scaler.fit(y_train.reshape(-1,1))\n",
    "    y_train_scaled = scaler_y.transform(y_train.reshape(-1,1)).ravel()\n",
    "    y_test_scaled = scaler_y.transform(y_test.reshape(-1,1)).ravel()\n",
    "    return X_train_scaled,X_test_scaled,y_train_scaled,y_test_scaled"
   ]
  },
  {
   "cell_type": "markdown",
   "id": "236382ed",
   "metadata": {},
   "source": [
    "# Running Cross validation with manulay calculating beta vs sickit learn"
   ]
  },
  {
   "cell_type": "code",
   "execution_count": 19,
   "id": "35618afe",
   "metadata": {
    "scrolled": true
   },
   "outputs": [
    {
     "name": "stdout",
     "output_type": "stream",
     "text": [
      "Test MSE_scaled_cross val of degree0\n",
      "1.0082684167426117\n",
      "Test MSE_scaled_cross val of degree1\n",
      "0.38468706460853336\n",
      "Test MSE_scaled_cross val of degree2\n",
      "0.32523849654239784\n",
      "Test MSE_scaled_cross val of degree3\n",
      "0.21717381839786848\n",
      "Test MSE_scaled_cross val of degree4\n",
      "0.16862175443874744\n",
      "Test MSE_scaled_cross val of degree5\n",
      "0.1425358189353874\n",
      "Test MSE_scaled_cross val of degree6\n",
      "0.13353403956789\n",
      "Test MSE_scaled_cross val of degree7\n",
      "0.12954690913723915\n",
      "Test MSE_scaled_cross val of degree8\n",
      "0.12466180434437797\n",
      "Test MSE_scaled_cross val of degree9\n",
      "0.13415708105790983\n",
      "Test MSE_scaled_cross val of degree10\n",
      "0.156487452153091\n"
     ]
    },
    {
     "data": {
      "image/png": "[encoded data removed]",
      "text/plain": [
       "<Figure size 432x288 with 1 Axes>"
      ]
     },
     "metadata": {
      "needs_background": "light"
     },
     "output_type": "display_data"
    },
    {
     "name": "stdout",
     "output_type": "stream",
     "text": [
      "1.1842378929335003e-16\n"
     ]
    }
   ],
   "source": [
    "np.random.seed(870)\n",
    "N = 20 #data size\n",
    "x, y = makeData(N)\n",
    "x_mesh, y_mesh = np.meshgrid(x,y)\n",
    "x_flat = np.ravel(x_mesh) \n",
    "y_flat = np.ravel(y_mesh)\n",
    "\n",
    "z = FrankeFunction(x_flat, y_flat)\n",
    "z = noiseGeneration(z,0.1)\n",
    "\n",
    "k = 10 #Number of folds\n",
    "kfold = KFold(n_splits = k, shuffle=True, random_state=22) \n",
    "\n",
    "#creating lists\n",
    "\n",
    "\n",
    "numOfPoly_max = 10\n",
    "\n",
    "\n",
    "numOfPoly_index = np.zeros(numOfPoly_max + 1)\n",
    "beta_index = []\n",
    "beta_index_scaled = []\n",
    "mse_ols_cross_val = np.zeros(numOfPoly_max + 1)\n",
    "mse_OLS_cval = np.zeros(numOfPoly_max + 1)\n",
    "#for loop for number of polynomials\n",
    "for i in range(numOfPoly_max +1 ):\n",
    "    numOfPoly = i  \n",
    "    X = X_generator(x_flat,y_flat, numOfPoly)\n",
    "    if i>0:\n",
    "        X = np.delete(X,0,1)\n",
    "    Xs = X_generator(x_flat,y_flat,numOfPoly)\n",
    "    if i>0:\n",
    "        Xs = np.delete(Xs,0,1)\n",
    "    mse_cross_val = np.zeros(k)\n",
    "    mse_OLS_split = np.zeros(k)\n",
    "    cv_split = 0\n",
    "    for train_slice, test_slice in kfold.split(X):\n",
    "        X_train = X[train_slice]\n",
    "        X_test = X[test_slice]\n",
    "        z_train = z[train_slice]\n",
    "        z_test = z[test_slice]\n",
    "\n",
    "        X_train, X_test, z_train,z_test = scale_data(X_train, X_test, z_train, z_test)\n",
    "        #X_train[:,0] = 1\n",
    "        #X_test[:,0] = 1\n",
    "\n",
    "\n",
    "        beta = np.linalg.pinv(X_train.T @ X_train) @ X_train.T @ z_train\n",
    "        z_intercept =  np.mean(z_train,axis=0)\n",
    "        z_predict = X_test @ beta  + z_intercept\n",
    "        mse_cross_val[cv_split] = mean_squared_error(z_test, z_predict)\n",
    "\n",
    "        cv_split += 1\n",
    "    cv_split = 0\n",
    "    for train_slice, test_slice in kfold.split(Xs):\n",
    "        X_train_s = Xs[train_slice]\n",
    "        X_test_s = Xs[test_slice]\n",
    "        z_train_s = z[train_slice]\n",
    "        z_test_s = z[test_slice]\n",
    "        X_train_s, X_test_s, z_train_s,z_test_s = scale_data(X_train_s, X_test_s, z_train_s, z_test_s)\n",
    "        #X_train_s[:,0] = 1\n",
    "        #X_test_s[:,0] = 1\n",
    "        OLS_model = linear_model.LinearRegression(fit_intercept = True)\n",
    "        OLS_model.fit(X_train_s, z_train_s)\n",
    "        \n",
    "\n",
    "        z_pred_ols = OLS_model.predict(X_test_s)\n",
    "        mse_OLS_split[cv_split] = mean_squared_error(z_test_s, z_pred_ols)\n",
    "        cv_split += 1\n",
    "        \n",
    "    numOfPoly_index[i] = numOfPoly\n",
    "    mse_OLS_cval[i] = np.mean(mse_OLS_split)\n",
    "    mse_ols_cross_val[i] = np.mean(mse_cross_val)\n",
    "    print(\"Test MSE_scaled_cross val of degree{}\".format(i))\n",
    "    print(mse_ols_cross_val[i])\n",
    "\n",
    "\n",
    "\n",
    "    \n",
    "plt.plot(numOfPoly_index, mse_ols_cross_val,\"r--\", label = \"Own code\" ) \n",
    "plt.plot(numOfPoly_index, mse_OLS_cval,\"b--\", label = \"OLS_sklearn\")\n",
    "plt.ylim(0,1)\n",
    "plt.title(\"Cross validation with ordinary least square\")\n",
    "plt.legend()\n",
    "plt.ylabel(\"MSE\")\n",
    "plt.xlabel(\"Polynomial degree\")\n",
    "plt.show()\n",
    "\n",
    "\n",
    "#print(\"Training MSE_scaled\")\n",
    "#print(MSE(y_train,ytilde_scaled))\n",
    "\n",
    "\n",
    "print(z_intercept)"
   ]
  },
  {
   "cell_type": "markdown",
   "id": "450cfe12",
   "metadata": {},
   "source": [
    "# Comparing ridge lasso and OLS with cross validation"
   ]
  },
  {
   "cell_type": "code",
   "execution_count": 1,
   "id": "40573ac4",
   "metadata": {},
   "outputs": [
    {
     "ename": "NameError",
     "evalue": "name 'np' is not defined",
     "output_type": "error",
     "traceback": [
      "\u001b[1;31m---------------------------------------------------------------------------\u001b[0m",
      "\u001b[1;31mNameError\u001b[0m                                 Traceback (most recent call last)",
      "\u001b[1;32m~\\AppData\\Local\\Temp/ipykernel_7876/1850721605.py\u001b[0m in \u001b[0;36m<module>\u001b[1;34m\u001b[0m\n\u001b[1;32m----> 1\u001b[1;33m \u001b[0mnp\u001b[0m\u001b[1;33m.\u001b[0m\u001b[0mrandom\u001b[0m\u001b[1;33m.\u001b[0m\u001b[0mseed\u001b[0m\u001b[1;33m(\u001b[0m\u001b[1;36m870\u001b[0m\u001b[1;33m)\u001b[0m\u001b[1;33m\u001b[0m\u001b[1;33m\u001b[0m\u001b[0m\n\u001b[0m\u001b[0;32m      2\u001b[0m \u001b[0mN\u001b[0m \u001b[1;33m=\u001b[0m \u001b[1;36m20\u001b[0m \u001b[1;31m#data size\u001b[0m\u001b[1;33m\u001b[0m\u001b[1;33m\u001b[0m\u001b[0m\n\u001b[0;32m      3\u001b[0m \u001b[0mx\u001b[0m\u001b[1;33m,\u001b[0m \u001b[0my\u001b[0m \u001b[1;33m=\u001b[0m \u001b[0mmakeData\u001b[0m\u001b[1;33m(\u001b[0m\u001b[0mN\u001b[0m\u001b[1;33m)\u001b[0m\u001b[1;33m\u001b[0m\u001b[1;33m\u001b[0m\u001b[0m\n\u001b[0;32m      4\u001b[0m \u001b[0mx_mesh\u001b[0m\u001b[1;33m,\u001b[0m \u001b[0my_mesh\u001b[0m \u001b[1;33m=\u001b[0m \u001b[0mnp\u001b[0m\u001b[1;33m.\u001b[0m\u001b[0mmeshgrid\u001b[0m\u001b[1;33m(\u001b[0m\u001b[0mx\u001b[0m\u001b[1;33m,\u001b[0m\u001b[0my\u001b[0m\u001b[1;33m)\u001b[0m\u001b[1;33m\u001b[0m\u001b[1;33m\u001b[0m\u001b[0m\n\u001b[0;32m      5\u001b[0m \u001b[0mx_flat\u001b[0m \u001b[1;33m=\u001b[0m \u001b[0mnp\u001b[0m\u001b[1;33m.\u001b[0m\u001b[0mravel\u001b[0m\u001b[1;33m(\u001b[0m\u001b[0mx_mesh\u001b[0m\u001b[1;33m)\u001b[0m\u001b[1;33m\u001b[0m\u001b[1;33m\u001b[0m\u001b[0m\n",
      "\u001b[1;31mNameError\u001b[0m: name 'np' is not defined"
     ]
    }
   ],
   "source": [
    "np.random.seed(870)\n",
    "N = 20 #data size\n",
    "x, y = makeData(N)\n",
    "x_mesh, y_mesh = np.meshgrid(x,y)\n",
    "x_flat = np.ravel(x_mesh) \n",
    "y_flat = np.ravel(y_mesh)\n",
    "\n",
    "z = FrankeFunction(x_flat, y_flat)\n",
    "z = noiseGeneration(z,0.1)\n",
    "max_degree = input(\"enter the max degree:\")\n",
    "max_degree = int(max_degree)\n",
    "print(\"max degree is :\",max_degree)\n",
    "\n",
    "\n",
    "degree_list = np.zeros(max_degree +1)\n",
    "scaleData = True\n",
    "lmb = 0.0001\n",
    "k = 10 #Number of folds\n",
    "kfold = KFold(n_splits = k, shuffle=True, random_state=22) \n",
    "\n",
    "#Error Lists:\n",
    "mse_Ridge_cval = np.zeros(max_degree + 1)\n",
    "mse_OLS_cval = np.zeros(max_degree + 1)\n",
    "mse_Lasso_cval = np.zeros(max_degree + 1)\n",
    "\n",
    "for degree in range(max_degree + 1):\n",
    "    degree_list[degree] = degree\n",
    "    X = X_generator(x_flat,y_flat, degree)\n",
    "    if degree > 0:\n",
    "        X = np.delete(X,0,1)\n",
    "    mse_OLS_split = np.zeros(k)\n",
    "    mse_Ridge_split = np.zeros(k)\n",
    "    mse_Lasso_split = np.zeros(k)\n",
    "    cv_split = 0\n",
    "    \n",
    "    \n",
    "    for train_ind, test_ind in kfold.split(X):\n",
    "        X_train = X[train_ind]\n",
    "        X_test = X[test_ind]\n",
    "        z_train = z[train_ind]\n",
    "        z_test = z[test_ind]\n",
    "        if scaleData == True:\n",
    "            X_train, X_test, z_train, z_test = scale_data(X_train, X_test,z_train,z_test)\n",
    "    \n",
    "        #Creating models\n",
    "        OLS_model = linear_model.LinearRegression(fit_intercept = True)\n",
    "        OLS_model.fit(X_train, z_train)\n",
    "        \n",
    "        Ridge_model = linear_model.Ridge(lmb,fit_intercept = True)\n",
    "        Ridge_model.fit(X_train,z_train)\n",
    "    \n",
    "        Lasso_model = linear_model.Lasso(lmb,max_iter=1e5, tol=0.1,fit_intercept = True)\n",
    "        Lasso_model.fit(X_train,z_train)\n",
    "    \n",
    "        #Predicting \n",
    "        z_pred_ols = OLS_model.predict(X_test)\n",
    "        z_pred_ridge = Ridge_model.predict(X_test)\n",
    "        z_pred_lasso = Lasso_model.predict(X_test)\n",
    "    \n",
    "        #Calculating MSE for each fold\n",
    "        mse_OLS_split[cv_split] = mean_squared_error(z_test, z_pred_ols)\n",
    "        mse_Ridge_split[cv_split] = mean_squared_error(z_test, z_pred_ridge)\n",
    "        mse_Lasso_split[cv_split] = mean_squared_error(z_test, z_pred_lasso)\n",
    "        \n",
    "        cv_split += 1\n",
    "    \n",
    "    mse_Ridge_cval[degree] = np.mean(mse_Ridge_split)\n",
    "    mse_OLS_cval[degree] = np.mean(mse_OLS_split)\n",
    "    mse_Lasso_cval[degree] = np.mean(mse_Lasso_split)\n",
    "\n",
    "    \n",
    "print(\"Eureka\")\n",
    "\n",
    "data = pd.DataFrame(columns =( ['mse_OLS', 'mse_ridge', 'mse_lasso']))\n",
    "\n",
    "df = pd.DataFrame({\"mse_cval_OLS\":mse_OLS_cval,\"mse_cval_Ridge\":mse_Ridge_cval,\"mse_cval_Lasso\":mse_Lasso_cval}, index= degree_list)\n",
    "df.index.name = \"polynomial degree\"\n",
    "    \n",
    "    \n",
    "plt.plot(degree_list, mse_OLS_cval, label = \"OLS\")\n",
    "plt.plot(degree_list, mse_Ridge_cval , label = \"Ridge\")\n",
    "plt.plot(degree_list, mse_Lasso_cval, label = \"Lasso\")\n",
    "plt.legend()\n",
    "plt.ylim(0,1)\n",
    "plt.title(\"Cross validation comparison\")\n",
    "plt.ylabel(\"MSE\")\n",
    "plt.xlabel(\"Polynomial degree\")\n",
    "plt.show()    \n",
    "\n",
    "\n",
    "\n",
    "\n",
    "\n",
    "# The coefficients\n"
   ]
  },
  {
   "cell_type": "code",
   "execution_count": 20,
   "id": "1dfa5381",
   "metadata": {},
   "outputs": [
    {
     "data": {
      "text/html": [
       "<div>\n",
       "<style scoped>\n",
       "    .dataframe tbody tr th:only-of-type {\n",
       "        vertical-align: middle;\n",
       "    }\n",
       "\n",
       "    .dataframe tbody tr th {\n",
       "        vertical-align: top;\n",
       "    }\n",
       "\n",
       "    .dataframe thead th {\n",
       "        text-align: right;\n",
       "    }\n",
       "</style>\n",
       "<table border=\"1\" class=\"dataframe\">\n",
       "  <thead>\n",
       "    <tr style=\"text-align: right;\">\n",
       "      <th></th>\n",
       "      <th>mse_cval_OLS</th>\n",
       "      <th>mse_cval_Ridge</th>\n",
       "      <th>mse_cval_Lasso</th>\n",
       "    </tr>\n",
       "    <tr>\n",
       "      <th>polynomial degree</th>\n",
       "      <th></th>\n",
       "      <th></th>\n",
       "      <th></th>\n",
       "    </tr>\n",
       "  </thead>\n",
       "  <tbody>\n",
       "    <tr>\n",
       "      <th>0.0</th>\n",
       "      <td>1.008268</td>\n",
       "      <td>1.008268</td>\n",
       "      <td>1.008268</td>\n",
       "    </tr>\n",
       "    <tr>\n",
       "      <th>1.0</th>\n",
       "      <td>0.384687</td>\n",
       "      <td>0.384687</td>\n",
       "      <td>0.384687</td>\n",
       "    </tr>\n",
       "    <tr>\n",
       "      <th>2.0</th>\n",
       "      <td>0.325238</td>\n",
       "      <td>0.325238</td>\n",
       "      <td>0.325225</td>\n",
       "    </tr>\n",
       "    <tr>\n",
       "      <th>3.0</th>\n",
       "      <td>0.217174</td>\n",
       "      <td>0.217173</td>\n",
       "      <td>0.223451</td>\n",
       "    </tr>\n",
       "    <tr>\n",
       "      <th>4.0</th>\n",
       "      <td>0.168622</td>\n",
       "      <td>0.168586</td>\n",
       "      <td>0.226647</td>\n",
       "    </tr>\n",
       "    <tr>\n",
       "      <th>5.0</th>\n",
       "      <td>0.142536</td>\n",
       "      <td>0.141998</td>\n",
       "      <td>0.226886</td>\n",
       "    </tr>\n",
       "    <tr>\n",
       "      <th>6.0</th>\n",
       "      <td>0.133534</td>\n",
       "      <td>0.138167</td>\n",
       "      <td>0.225294</td>\n",
       "    </tr>\n",
       "    <tr>\n",
       "      <th>7.0</th>\n",
       "      <td>0.129547</td>\n",
       "      <td>0.135061</td>\n",
       "      <td>0.223007</td>\n",
       "    </tr>\n",
       "    <tr>\n",
       "      <th>8.0</th>\n",
       "      <td>0.124662</td>\n",
       "      <td>0.133837</td>\n",
       "      <td>0.221064</td>\n",
       "    </tr>\n",
       "    <tr>\n",
       "      <th>9.0</th>\n",
       "      <td>0.134157</td>\n",
       "      <td>0.134624</td>\n",
       "      <td>0.220016</td>\n",
       "    </tr>\n",
       "    <tr>\n",
       "      <th>10.0</th>\n",
       "      <td>0.155545</td>\n",
       "      <td>0.135600</td>\n",
       "      <td>0.219859</td>\n",
       "    </tr>\n",
       "  </tbody>\n",
       "</table>\n",
       "</div>"
      ],
      "text/plain": [
       "                   mse_cval_OLS  mse_cval_Ridge  mse_cval_Lasso\n",
       "polynomial degree                                              \n",
       "0.0                    1.008268        1.008268        1.008268\n",
       "1.0                    0.384687        0.384687        0.384687\n",
       "2.0                    0.325238        0.325238        0.325225\n",
       "3.0                    0.217174        0.217173        0.223451\n",
       "4.0                    0.168622        0.168586        0.226647\n",
       "5.0                    0.142536        0.141998        0.226886\n",
       "6.0                    0.133534        0.138167        0.225294\n",
       "7.0                    0.129547        0.135061        0.223007\n",
       "8.0                    0.124662        0.133837        0.221064\n",
       "9.0                    0.134157        0.134624        0.220016\n",
       "10.0                   0.155545        0.135600        0.219859"
      ]
     },
     "execution_count": 20,
     "metadata": {},
     "output_type": "execute_result"
    }
   ],
   "source": [
    "df\n"
   ]
  },
  {
   "cell_type": "markdown",
   "id": "449747ad",
   "metadata": {},
   "source": [
    "# Creating data sett to higliht when scaling becomes more important\n",
    "So acording to the same functionalities in sickit learn, one obtains the same fit As with our own code"
   ]
  },
  {
   "cell_type": "code",
   "execution_count": 52,
   "id": "ccb16382",
   "metadata": {},
   "outputs": [],
   "source": [
    "def generate(median=630, err=12, outlier_err=100, size=80, outlier_size=10):\n",
    "    errs = err * np.random.rand(size) * np.random.choice((-1, 1), size)\n",
    "    data = median + errs\n",
    "\n",
    "    lower_errs = outlier_err * np.random.rand(outlier_size)\n",
    "    lower_outliers = median - err - lower_errs\n",
    "\n",
    "    upper_errs = outlier_err * np.random.rand(outlier_size)\n",
    "    upper_outliers = median + err + upper_errs\n",
    "\n",
    "    data = np.concatenate((data, lower_outliers, upper_outliers))\n",
    "    np.random.shuffle(data)\n",
    "\n",
    "    return data"
   ]
  },
  {
   "cell_type": "markdown",
   "id": "1299d63b",
   "metadata": {},
   "source": [
    "Plotting Data tat is generated through the code above"
   ]
  },
  {
   "cell_type": "code",
   "execution_count": 61,
   "id": "86fa2129",
   "metadata": {},
   "outputs": [
    {
     "data": {
      "text/plain": [
       "Text(0, 0.5, 'y')"
      ]
     },
     "execution_count": 61,
     "metadata": {},
     "output_type": "execute_result"
    },
    {
     "data": {
      "image/png": "[encoded data removed]",
      "text/plain": [
       "<Figure size 432x288 with 1 Axes>"
      ]
     },
     "metadata": {
      "needs_background": "light"
     },
     "output_type": "display_data"
    }
   ],
   "source": [
    "b = generate()\n",
    "\n",
    "c = 5 + 2*b\n",
    "b_mesh,c_mesh = np.meshgrid(b,c)\n",
    "plt.scatter(b_mesh,c_mesh)\n",
    "plt.xlabel(\"x\")\n",
    "plt.ylabel(\"y\")"
   ]
  },
  {
   "cell_type": "markdown",
   "id": "1a0c80d8",
   "metadata": {},
   "source": [
    "Plotting our case"
   ]
  },
  {
   "cell_type": "code",
   "execution_count": 62,
   "id": "94d8f23b",
   "metadata": {},
   "outputs": [
    {
     "data": {
      "text/plain": [
       "<matplotlib.collections.PathCollection at 0x27914df17f0>"
      ]
     },
     "execution_count": 62,
     "metadata": {},
     "output_type": "execute_result"
    },
    {
     "data": {
      "image/png": "[encoded data removed]",
      "text/plain": [
       "<Figure size 432x288 with 1 Axes>"
      ]
     },
     "metadata": {
      "needs_background": "light"
     },
     "output_type": "display_data"
    }
   ],
   "source": [
    "plt.scatter(x_mesh,y_mesh)"
   ]
  }
 ],
 "metadata": {
  "kernelspec": {
   "display_name": "Python 3 (ipykernel)",
   "language": "python",
   "name": "python3"
  },
  "language_info": {
   "codemirror_mode": {
    "name": "ipython",
    "version": 3
   },
   "file_extension": ".py",
   "mimetype": "text/x-python",
   "name": "python",
   "nbconvert_exporter": "python",
   "pygments_lexer": "ipython3",
   "version": "3.9.7"
  }
 },
 "nbformat": 4,
 "nbformat_minor": 5
}
