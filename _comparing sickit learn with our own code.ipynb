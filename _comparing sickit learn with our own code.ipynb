{
 "cells": [
  {
   "cell_type": "code",
   "execution_count": 2,
   "id": "c42f8e94",
   "metadata": {},
   "outputs": [],
   "source": [
    "#Importing packages\n",
    "import numpy as np\n",
    "from sklearn.model_selection import train_test_split\n",
    "from sklearn.preprocessing import StandardScaler\n",
    "import matplotlib.pyplot as plt\n",
    "from sklearn.preprocessing import PolynomialFeatures\n",
    "from sklearn import  linear_model\n",
    "from sklearn.metrics import mean_squared_error, r2_score"
   ]
  },
  {
   "cell_type": "code",
   "execution_count": 3,
   "id": "1c25ef37",
   "metadata": {},
   "outputs": [],
   "source": [
    "#creating the model based on feature matrix and optimal beta coeficients\n",
    "def betaAndYtildeGenerator(X_train,y_train):\n",
    "    beta = np.linalg.pinv(X_train.T @ X_train) @ X_train.T @ y_train\n",
    "    ytilde = X_train @ beta\n",
    "    return beta,ytilde\n"
   ]
  },
  {
   "cell_type": "code",
   "execution_count": 4,
   "id": "956552ee",
   "metadata": {},
   "outputs": [],
   "source": [
    "#Setting up the Feature matrix\n",
    "def X_generator(x, y, n ):\n",
    "    if len(x.shape) > 1:\n",
    "        x = np.ravel(x)\n",
    "        y = np.ravel(y)\n",
    "\n",
    "    N = len(x)\n",
    "    l = int((n+1)*(n+2)/2)  # Number of elements in beta\n",
    "    X = np.ones((N,l))\n",
    "\n",
    "    for i in range(1,n+1):\n",
    "        q = int((i)*(i+1)/2)\n",
    "        for k in range(i+1):\n",
    "            X[:,q+k] = (x**(i-k))*(y**k)\n",
    "\n",
    "    return X\n"
   ]
  },
  {
   "cell_type": "code",
   "execution_count": 5,
   "id": "34fc94e1",
   "metadata": {},
   "outputs": [],
   "source": [
    "# split in training and test data\n",
    "def traningDataGenerator(X,y):\n",
    "    X_train, X_test, y_train, y_test = train_test_split(X,y,test_size=0.2, random_state = 11)\n",
    "    return X_train, X_test, y_train, y_test"
   ]
  },
  {
   "cell_type": "code",
   "execution_count": 6,
   "id": "c604bad8",
   "metadata": {},
   "outputs": [],
   "source": [
    "#Functions for R2 and MSE\n",
    "def R2(y_data, y_model):\n",
    "    return 1 - np.sum((y_data - y_model) ** 2) / np.sum((y_data - np.mean(y_data)) ** 2)\n",
    "def MSE(y_data,y_model):\n",
    "    n = np.size(y_model)\n",
    "    return np.sum((y_data-y_model)**2)/n"
   ]
  },
  {
   "cell_type": "code",
   "execution_count": 7,
   "id": "9c6feb18",
   "metadata": {},
   "outputs": [],
   "source": [
    "def FrankeFunction(x,y):\n",
    "    term1 = 0.75*np.exp(-(0.25*(9*x-2)**2) - 0.25*((9*y-2)**2))\n",
    "    term2 = 0.75*np.exp(-((9*x+1)**2)/49.0 - 0.1*(9*y+1))\n",
    "    term3 = 0.5*np.exp(-(9*x-7)**2/4.0 - 0.25*((9*y-3)**2))\n",
    "    term4 = -0.2*np.exp(-(9*x-4)**2 - (9*y-7)**2)\n",
    "    return term1 + term2 + term3 + term4"
   ]
  },
  {
   "cell_type": "code",
   "execution_count": 16,
   "id": "abbcfc4f",
   "metadata": {},
   "outputs": [],
   "source": [
    "#Function for generating noise\n",
    "def noiseGeneration(z_input, scaling = 1):\n",
    "    np.random.seed(5)\n",
    "    nosyZ= z_input + np.random.randn(*z_input.shape) * scaling\n",
    "    return nosyZ"
   ]
  },
  {
   "cell_type": "code",
   "execution_count": 9,
   "id": "905eefd8",
   "metadata": {},
   "outputs": [],
   "source": [
    "#Fuction for making x and y of given size\n",
    "def makeData(n_size=20):\n",
    "    x = np.linspace(0,1,n_size)\n",
    "    y = np.linspace(0,1,n_size)\n",
    "    return x,y"
   ]
  },
  {
   "cell_type": "code",
   "execution_count": 132,
   "id": "f459145d",
   "metadata": {},
   "outputs": [
    {
     "name": "stdout",
     "output_type": "stream",
     "text": [
      "Training R2\n",
      "0.9297110947131236\n",
      "Training MSE\n",
      "0.0117184497822705\n",
      "Test R2\n",
      "0.8607598194227224\n",
      "Test MSE\n",
      "0.02507839449736955\n",
      "Training MSE_scaled\n",
      "0.011718449782270695\n",
      "Test MSE_scaled\n",
      "0.025078394497221147\n",
      "[0.41052573]\n"
     ]
    }
   ],
   "source": [
    "N = 20 #data size\n",
    "x, y = makeData(N)\n",
    "z = FrankeFunction(x, y)\n",
    "z = noiseGeneration(z,0.1)\n",
    "\n",
    "#creating lists\n",
    "R2_test = []\n",
    "R2_train = []\n",
    "R2_test_scaled = []\n",
    "R2_train_scaled = []\n",
    "MSE_test = []\n",
    "MSE_train = []\n",
    "MSE_test_scaled = []\n",
    "MSE_train_scaled = []\n",
    "numOfPoly_index = []\n",
    "beta_index = []\n",
    "beta_index_scaled = []\n",
    "numOfPoly_max = 5\n",
    "#for loop for number of polynomials\n",
    "for i in range(numOfPoly_max +1 ):\n",
    "    numOfPoly = i  \n",
    "    X = X_generator(x,y, numOfPoly)\n",
    "    X_train, X_test, y_train, y_test = traningDataGenerator(X,z)\n",
    "    \n",
    "    #scaling the data\n",
    "    scaler = StandardScaler()\n",
    "    scaler.fit(X_train)\n",
    "    X_train_scaled = scaler.transform(X_train)\n",
    "    X_test_scaled = scaler.transform(X_test)\n",
    "    X_train_scaled[:,0] = X_train_scaled[:,0] +1 #do this to fix intercept\n",
    "    X_test_scaled[:,0] = X_test_scaled[:,0] +1 #do this to fit intercept\n",
    "    # matrix inversion to find beta\n",
    "    beta = np.linalg.pinv(X_train.T @ X_train) @ X_train.T @ y_train\n",
    "    beta_scaled = np.linalg.pinv(X_train_scaled.T @ X_train_scaled) @ X_train_scaled.T @ y_train #scaled\n",
    "    # and then make the prediction\n",
    "    ytilde = X_train @ beta\n",
    "    ytilde_scaled = X_train_scaled @ beta_scaled   #scaled\n",
    "    ypredict = X_test @ beta\n",
    "    ypredict_scaled = X_test_scaled @ beta_scaled #scaled\n",
    "    R2_test.append(R2(y_test,ypredict))\n",
    "    R2_test_scaled.append(R2(y_test,ypredict_scaled)) #scaled\n",
    "    R2_train.append(R2(y_train,ytilde))\n",
    "    R2_train_scaled.append(R2(y_train,ytilde_scaled)) #scaled\n",
    "    MSE_train.append(MSE(y_train,ytilde))\n",
    "    MSE_train_scaled.append(MSE(y_train,ytilde_scaled)) #scaled\n",
    "    MSE_test.append(MSE(y_test,ypredict))\n",
    "    MSE_test_scaled.append(MSE(y_test,ypredict_scaled)) #scaled\n",
    "    numOfPoly_index.append(numOfPoly)\n",
    "    beta_index.append(beta)\n",
    "    beta_index_scaled.append(beta_scaled) #scaled\n",
    "     \n",
    "print(\"Training R2\")\n",
    "print(R2(y_train,ytilde))\n",
    "print(\"Training MSE\")\n",
    "print(MSE(y_train,ytilde))\n",
    "print(\"Test R2\")\n",
    "print(R2(y_test,ypredict))\n",
    "print(\"Test MSE\")\n",
    "print(MSE(y_test,ypredict))\n",
    "\n",
    "print(\"Training MSE_scaled\")\n",
    "print(MSE(y_train,ytilde_scaled))\n",
    "\n",
    "print(\"Test MSE_scaled\")\n",
    "print(MSE(y_test,ypredict_scaled))\n",
    "print(beta_index[0])"
   ]
  },
  {
   "cell_type": "code",
   "execution_count": 130,
   "id": "ab29ed39",
   "metadata": {},
   "outputs": [
    {
     "data": {
      "text/plain": [
       "<Figure size 720x432 with 0 Axes>"
      ]
     },
     "metadata": {},
     "output_type": "display_data"
    },
    {
     "data": {
      "image/png": "[encoded data removed]",
      "text/plain": [
       "<Figure size 432x288 with 1 Axes>"
      ]
     },
     "metadata": {
      "needs_background": "light"
     },
     "output_type": "display_data"
    }
   ],
   "source": [
    "plt.figure(figsize=(10, 6))\n",
    "fig, ax = plt.subplots()\n",
    "ax.set_xlabel('number of polynomials')\n",
    "ax.set_ylabel('MSE',color =\"black\")\n",
    "ax.plot(numOfPoly_index,MSE_test ,  label='MSE test',linewidth=3.0, c= \"red\")\n",
    "ax.plot(numOfPoly_index,MSE_train ,label=\"MSE train\",linewidth=3.0, c= \"black\")\n",
    "plt.title(\"MSE with own code\")\n",
    "plt.grid()\n",
    "\n",
    "leg = ax.legend();"
   ]
  },
  {
   "cell_type": "code",
   "execution_count": 131,
   "id": "3e2f3c4b",
   "metadata": {},
   "outputs": [
    {
     "data": {
      "text/plain": [
       "<Figure size 720x432 with 0 Axes>"
      ]
     },
     "metadata": {},
     "output_type": "display_data"
    },
    {
     "data": {
      "image/png": "[encoded data removed]",
      "text/plain": [
       "<Figure size 432x288 with 1 Axes>"
      ]
     },
     "metadata": {
      "needs_background": "light"
     },
     "output_type": "display_data"
    }
   ],
   "source": [
    "import matplotlib.pyplot as plt\n",
    "plt.figure(figsize=(10, 6))\n",
    "fig, ax = plt.subplots()\n",
    "ax.set_xlabel('number of polynomials')\n",
    "ax.set_ylabel('MSE',color =\"black\")\n",
    "ax.plot(numOfPoly_index,MSE_train_scaled ,  label='MSE training scaled',linewidth=3.0, c= \"black\")\n",
    "ax.plot(numOfPoly_index,MSE_test_scaled ,label=\"MSE test scaled\",linewidth=3.0, c= \"red\")\n",
    "ax.set_title('MSE scaled with own code')\n",
    "plt.grid()\n",
    "\n",
    "leg = ax.legend();"
   ]
  },
  {
   "cell_type": "code",
   "execution_count": 176,
   "id": "d9d5b2eb",
   "metadata": {},
   "outputs": [
    {
     "name": "stdout",
     "output_type": "stream",
     "text": [
      "enter the max degree:5\n",
      "max degree is : 5\n",
      "0\n",
      "1\n",
      "2\n",
      "3\n",
      "4\n",
      "5\n",
      "Coefficients: \n",
      " (21,)\n",
      "Intercept scaled: \n",
      " 0.4105257344398409\n",
      "Intercept: \n",
      " 0.0\n",
      " MSE training : \n",
      " 0.011718449782270499\n",
      " MSE test : \n",
      " 0.02507839449719575\n",
      " MSE training_scaled : \n",
      " 0.011718449782270698\n",
      " MSE test_scaled : \n",
      " 0.025078394497195355\n"
     ]
    },
    {
     "data": {
      "text/plain": [
       "(4, 21)"
      ]
     },
     "execution_count": 176,
     "metadata": {},
     "output_type": "execute_result"
    }
   ],
   "source": [
    "from sklearn.pipeline import make_pipeline\n",
    "from sklearn.utils import resample\n",
    "scaler = StandardScaler()\n",
    "\n",
    "N = 20 #data size\n",
    "x, y = makeData(N)\n",
    "z = FrankeFunction(x, y)\n",
    "z = noiseGeneration(z,0.1)\n",
    "max_degree = input(\"enter the max degree:\")\n",
    "max_degree = int(max_degree)\n",
    "print(\"max degree is :\",max_degree)\n",
    "\n",
    "max_degree = np.arange(0,max_degree + 1)\n",
    "MSE_train = []\n",
    "MSE_test = []\n",
    "numOfPoly_index = []\n",
    "beta_foef = []\n",
    "beta_foef_scaled = []\n",
    "for degree in (max_degree):\n",
    "    X = X_generator(x,y, degree)\n",
    "    X_train, X_test, y_train, y_test = traningDataGenerator(X,z)\n",
    "    \n",
    "    scaler.fit(X_train)\n",
    "    X_train_scaled = scaler.transform(X_train)\n",
    "    X_test_scaled = scaler.transform(X_test)\n",
    "    #X_train_scaled[:,0] = X_train_scaled[:,0]+1 #can do thsi and set fit intercept to false. \n",
    "    #X_test_scaled[:,0] = X_test_scaled[:,0]+1\n",
    "    \n",
    "    poly_reg_model = linear_model.LinearRegression(fit_intercept = False)\n",
    "    poly_reg_model_s = linear_model.LinearRegression(fit_intercept = True) # Can have fit intercept = True for scaled model \n",
    "    poly_reg_model.fit(X_train, y_train)\n",
    "    poly_reg_model_s.fit(X_train_scaled, y_train)\n",
    "    \n",
    "    y_tilde_scaled = poly_reg_model_s.predict(X_train_scaled)\n",
    "    y_pred_scaled = poly_reg_model_s.predict(X_test_scaled)\n",
    "    \n",
    "    y_tilde = poly_reg_model.predict(X_train)\n",
    "    y_pred = poly_reg_model.predict(X_test)\n",
    "    \n",
    "    MSE_train.append(mean_squared_error(y_train, y_tilde))\n",
    "    MSE_test.append(mean_squared_error(y_test, y_pred))\n",
    "    numOfPoly_index.append(degree)\n",
    "    beta_foef.append(poly_reg_model.coef_)\n",
    "    beta_foef_scaled.append(poly_reg_model_scaled.coef_)\n",
    "    print(degree)\n",
    "\n",
    "\n",
    "# The coefficients\n",
    "print(\"Coefficients: \\n\", poly_reg_model.coef_.shape)\n",
    "print(\"Intercept scaled: \\n\", poly_reg_model_s.intercept_)\n",
    "print(\"Intercept: \\n\", poly_reg_model.intercept_)\n",
    "\n",
    "\n",
    "print(\" MSE training : \\n\",mean_squared_error(y_tilde, y_train))\n",
    "print(\" MSE test : \\n\",mean_squared_error(y_test, y_pred))\n",
    "\n",
    "print(\" MSE training_scaled : \\n\",mean_squared_error(y_tilde_scaled,y_train))\n",
    "print(\" MSE test_scaled : \\n\",mean_squared_error(y_test, y_pred_scaled))\n",
    "\n",
    "X_test_scaled.shape\n"
   ]
  },
  {
   "cell_type": "code",
   "execution_count": 118,
   "id": "708d4bd9",
   "metadata": {},
   "outputs": [
    {
     "data": {
      "text/plain": [
       "<Figure size 720x432 with 0 Axes>"
      ]
     },
     "metadata": {},
     "output_type": "display_data"
    },
    {
     "data": {
      "image/png": "[encoded data removed]",
      "text/plain": [
       "<Figure size 432x288 with 1 Axes>"
      ]
     },
     "metadata": {
      "needs_background": "light"
     },
     "output_type": "display_data"
    }
   ],
   "source": [
    "plt.figure(figsize=(10, 6))\n",
    "fig, ax = plt.subplots()\n",
    "ax.set_xlabel('number of polynomials')\n",
    "ax.set_ylabel('MSE',color =\"black\")\n",
    "ax.plot(numOfPoly_index,MSE_test ,  label='MSE test',linewidth=3.0, c= \"red\")\n",
    "ax.plot(numOfPoly_index,MSE_train ,label=\"MSE train\",linewidth=3.0, c= \"black\")\n",
    "plt.title(\"MSE-With sklearn\")\n",
    "plt.grid()\n",
    "\n",
    "leg = ax.legend();\n"
   ]
  },
  {
   "cell_type": "code",
   "execution_count": 177,
   "id": "c773af95",
   "metadata": {},
   "outputs": [
    {
     "data": {
      "text/plain": [
       "<Figure size 720x432 with 0 Axes>"
      ]
     },
     "metadata": {},
     "output_type": "display_data"
    },
    {
     "data": {
      "image/png": "[encoded data removed]",
      "text/plain": [
       "<Figure size 432x288 with 1 Axes>"
      ]
     },
     "metadata": {
      "needs_background": "light"
     },
     "output_type": "display_data"
    }
   ],
   "source": [
    "plt.figure(figsize=(10, 6))\n",
    "fig, ax = plt.subplots()\n",
    "ax.set_xlabel('number of beta parameters')\n",
    "ax.set_ylabel('value of beta parameter',color =\"black\")\n",
    "ax.plot(beta_foef[5] ,  label='5th degree polynomial-unscaled',linewidth=3.0, c= \"red\")\n",
    "ax.plot(beta_foef_scaled[5] ,label=\"5th degree polynomial-scaled\",linewidth=3.0, c= \"black\")\n",
    "plt.title(\"Beta with sickit learn\")\n",
    "plt.grid()\n",
    "\n",
    "leg = ax.legend();\n"
   ]
  },
  {
   "cell_type": "code",
   "execution_count": 156,
   "id": "1ea8a797",
   "metadata": {},
   "outputs": [
    {
     "data": {
      "text/plain": [
       "[array([0.]),\n",
       " array([ 0.       , -0.1785829, -0.1785829]),\n",
       " array([ 0.        , -0.26341475, -0.26341475,  0.05866484,  0.05866484,\n",
       "         0.05866484]),\n",
       " array([ 0.        ,  0.23967868,  0.23967868, -0.82530922, -0.82530922,\n",
       "        -0.82530922,  0.42673269,  0.42673269,  0.42673269,  0.42673269]),\n",
       " array([ 0.        ,  1.11043777,  1.11043777, -3.61253927, -3.61253927,\n",
       "        -3.61253927,  3.5784708 ,  3.5784708 ,  3.5784708 ,  3.5784708 ,\n",
       "        -1.19934577, -1.19934577, -1.19934577, -1.19934577, -1.19934577]),\n",
       " array([-3.19522186e-13,  1.27198644e+00,  1.27198644e+00, -4.48967359e+00,\n",
       "        -4.48967359e+00, -4.48967359e+00,  5.36694714e+00,  5.36694714e+00,\n",
       "         5.36694714e+00,  5.36694714e+00, -2.78142274e+00, -2.78142274e+00,\n",
       "        -2.78142274e+00, -2.78142274e+00, -2.78142274e+00,  5.11677498e-01,\n",
       "         5.11677498e-01,  5.11677498e-01,  5.11677498e-01,  5.11677498e-01,\n",
       "         5.11677498e-01])]"
      ]
     },
     "execution_count": 156,
     "metadata": {},
     "output_type": "execute_result"
    }
   ],
   "source": [
    "(beta_foef_scaled)"
   ]
  },
  {
   "cell_type": "code",
   "execution_count": 148,
   "id": "899f602e",
   "metadata": {
    "scrolled": true
   },
   "outputs": [
    {
     "data": {
      "text/plain": [
       "[array([0.41052573]),\n",
       " array([ 1.02718887, -0.5646554 , -0.5646554 ]),\n",
       " array([ 1.10438773, -0.83288244, -0.83288244,  0.18059066,  0.18059066,\n",
       "         0.18059066]),\n",
       " array([ 0.91773791,  0.75783215,  0.75783215, -2.54058694, -2.54058694,\n",
       "        -2.54058694,  1.34299605,  1.34299605,  1.34299605,  1.34299605]),\n",
       " array([  0.73488489,   3.51105666,   3.51105666, -11.120644  ,\n",
       "        -11.120644  , -11.120644  ,  11.26202019,  11.26202019,\n",
       "         11.26202019,  11.26202019,  -3.88579816,  -3.88579816,\n",
       "         -3.88579816,  -3.88579816,  -3.88579816]),\n",
       " array([  0.71471819,   4.02185212,   4.02185212, -13.8207665 ,\n",
       "        -13.8207665 , -13.8207665 ,  16.89064142,  16.89064142,\n",
       "         16.89064142,  16.89064142,  -9.01161917,  -9.01161917,\n",
       "         -9.01161917,  -9.01161917,  -9.01161917,   1.70585158,\n",
       "          1.70585158,   1.70585158,   1.70585158,   1.70585158,\n",
       "          1.70585158])]"
      ]
     },
     "execution_count": 148,
     "metadata": {},
     "output_type": "execute_result"
    }
   ],
   "source": [
    "(beta_foef)"
   ]
  },
  {
   "cell_type": "code",
   "execution_count": 151,
   "id": "ccb16382",
   "metadata": {},
   "outputs": [
    {
     "name": "stdout",
     "output_type": "stream",
     "text": [
      "(4, 21)\n",
      "(4, 21)\n"
     ]
    }
   ],
   "source": [
    "print(X_test_scaled.shape)\n",
    "print(X_test.shape)"
   ]
  }
 ],
 "metadata": {
  "kernelspec": {
   "display_name": "Python 3 (ipykernel)",
   "language": "python",
   "name": "python3"
  },
  "language_info": {
   "codemirror_mode": {
    "name": "ipython",
    "version": 3
   },
   "file_extension": ".py",
   "mimetype": "text/x-python",
   "name": "python",
   "nbconvert_exporter": "python",
   "pygments_lexer": "ipython3",
   "version": "3.9.7"
  }
 },
 "nbformat": 4,
 "nbformat_minor": 5
}
