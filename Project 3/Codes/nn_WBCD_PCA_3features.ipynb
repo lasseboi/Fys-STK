{
 "cells": [
  {
   "cell_type": "code",
   "execution_count": 1,
   "id": "18599072",
   "metadata": {},
   "outputs": [],
   "source": [
    "import numpy as np\n",
    "from sklearn.model_selection import train_test_split\n",
    "from sklearn.preprocessing import StandardScaler\n",
    "from sklearn.metrics import mean_squared_error, r2_score\n",
    "from sklearn.model_selection import train_test_split\n",
    "from sklearn.preprocessing import StandardScaler\n",
    "import matplotlib.pyplot as plt\n",
    "from sklearn.preprocessing import PolynomialFeatures\n",
    "from sklearn import  linear_model\n",
    "from sklearn.metrics import mean_squared_error, r2_score\n",
    "from sklearn.pipeline import make_pipeline\n",
    "from sklearn.utils import resample\n",
    "from sklearn.model_selection import cross_val_score\n",
    "from sklearn.model_selection import KFold\n",
    "import pandas as pd\n",
    "from mpl_toolkits.mplot3d import Axes3D\n",
    "from matplotlib import cm\n",
    "from sklearn.model_selection import GridSearchCV\n",
    "import math as ma\n",
    "from sklearn.model_selection import GridSearchCV\n",
    "import seaborn as sns\n",
    "import autograd.numpy as np\n",
    "\n",
    "# To do elementwise differentiation:\n",
    "from autograd import elementwise_grad as egrad \n",
    "from autograd import grad"
   ]
  },
  {
   "cell_type": "code",
   "execution_count": 2,
   "id": "f77f3bbd",
   "metadata": {},
   "outputs": [],
   "source": [
    "class NN:\n",
    "    \n",
    "    def __init__(self,\n",
    "                 X_train,\n",
    "                 X_test,\n",
    "                 z_train,\n",
    "                 z_test,\n",
    "                 n_hidden_layers,\n",
    "                 n_hidden_neurons,\n",
    "                 act_function,\n",
    "                 n_outputs,\n",
    "                 innit,\n",
    "                 classify,\n",
    "                 out_func):\n",
    "\n",
    "        self.X_train = X_train\n",
    "        self.X_test = X_test\n",
    "        self.z_train = z_train\n",
    "        self.z_test = z_test\n",
    "        \n",
    "        \n",
    "        if len(X_train.shape) > 1:\n",
    "            self.n_inputs, self.n_features = self.X_train.shape\n",
    "        if len(X_train.shape) == 1:   \n",
    "            self.n_inputs = len(X_train)\n",
    "            self.n_features = 1\n",
    "        \n",
    "        self.n_outputs = n_outputs  \n",
    "        self.n_hidden_layers = n_hidden_layers\n",
    "        self.n_hidden_neurons = n_hidden_neurons\n",
    "        \n",
    "        \n",
    "        self.weights = self.weight_create(innit)\n",
    "        self.biases = self.bias_create()\n",
    "        self.classify = classify\n",
    "        \n",
    "        if classify == 1:\n",
    "            \n",
    "            if (out_func == \"tanh\"):\n",
    "                self.out_func = self.tanh\n",
    "                self.check = \"tan\"\n",
    "            elif(out_func == \"Sigmoid\"):\n",
    "                self.out_func = self.sigmoid\n",
    "                self.check = \"sig\"\n",
    "            else:\n",
    "                print(\"Choose tanh or Sigmoid\")\n",
    "\n",
    "        \n",
    "        if(act_function == \"Sigmoid\"):\n",
    "            self.act_function= self.sigmoid\n",
    "            self.d_act  = self.d_sigmoid\n",
    "        elif(act_function  == \"RELU\"):\n",
    "            self.act_function = self.relu\n",
    "            self.d_act = self.d_relu\n",
    "        elif(act_function  == \"LRELU\"):\n",
    "            self.act_function= self.lrelu\n",
    "            self.d_act  = self.d_lrelu\n",
    "        elif(act_function  == \"tanh\"):\n",
    "            self.act_function = self.tanh\n",
    "            self.d_act  = self.d_tanh\n",
    "        else:\n",
    "            print(\"please choose ,Sigmoid,RELU,LRELU or tanh\")\n",
    "            quit()\n",
    "\n",
    "    def weight_create(self,innit):  # initilazing weights. all at random between 0 and 1\n",
    "        weights = []\n",
    "        if (innit == \"explode-gradient\"):\n",
    "            \n",
    "            In_weights = np.random.randn(self.n_features, self.n_hidden_neurons)\n",
    "            weights.append(In_weights)\n",
    "            #Weights between hidden layers\n",
    "            for i in range(1, self.n_hidden_layers):\n",
    "                weights.append(np.random.randn(self.n_hidden_neurons, self.n_hidden_neurons) )\n",
    "            # weights out of last activation function   \n",
    "            Out_weights = np.random.randn(self.n_hidden_neurons, self.n_outputs) \n",
    "            weights.append(Out_weights) \n",
    "            return weights\n",
    "        elif (innit == \"Xavier\"):\n",
    "            In_weights = np.random.normal(0, np.sqrt(1.0/self.n_features), (self.n_features, self.n_hidden_neurons))\n",
    "            weights.append(In_weights)\n",
    "            for i in range(1, self.n_hidden_layers):\n",
    "                weights.append(np.random.normal(0, np.sqrt(1.0/self.n_hidden_neurons), (self.n_hidden_neurons, self.n_hidden_neurons)))\n",
    "            Out_weights = np.random.normal(0, np.sqrt(1.0/self.n_hidden_neurons), (self.n_hidden_neurons, self.n_outputs))\n",
    "            weights.append(Out_weights)\n",
    "            return weights\n",
    "        elif(innit == \"He\"):\n",
    "            In_weights = np.random.normal(0, np.sqrt(2.0/self.n_features), (self.n_features, self.n_hidden_neurons))\n",
    "            weights.append(In_weights) #First weights\n",
    "            for i in range(1, self.n_hidden_layers):\n",
    "                weights.append(np.random.normal(0, np.sqrt(2.0/self.n_hidden_neurons), (self.n_hidden_neurons, self.n_hidden_neurons)))\n",
    "            Out_weights = np.random.normal(0, np.sqrt(1.0/self.n_hidden_neurons), (self.n_hidden_neurons, self.n_outputs))\n",
    "            weights.append(Out_weights) #last weights\n",
    "            return weights\n",
    "        else:\n",
    "            return print(\"not a valid weight initilization\")\n",
    "\n",
    "    def bias_create(self):  # Starting biases all at zero\n",
    "        biases = []\n",
    "        #biases for all hidden layers and first hidden layer\n",
    "        for i in range(0, self.n_hidden_layers):\n",
    "            biases.append(np.zeros(self.n_hidden_neurons))\n",
    "        #Biases for output nodes\n",
    "        O_b = np.zeros(self.n_outputs)\n",
    "        biases.append(O_b)\n",
    "        return biases\n",
    "\n",
    "    def sigmoid(self, x):  # Active function + derivative\n",
    "        return 1.0/(1.0 + np.exp(-x))\n",
    "    def d_sigmoid(self,x):\n",
    "        return self.sigmoid(x)*(1.0-self.sigmoid(x))\n",
    "\n",
    "    def relu(self, x): # Active function + derivative\n",
    "        return x * (x > 0)\n",
    "       \n",
    "            \n",
    "          \n",
    "    def d_relu(self,x):\n",
    "        return 1.0 * (x > 0)\n",
    "        \n",
    "        \n",
    "\n",
    "    def lrelu(self, x):# Active function + derivative\n",
    "        alpha = 0.01\n",
    "        y1 = ((x >= 0) * x)\n",
    "        y2 = ((x < 0) * x * alpha)\n",
    "        y = y1 + y2\n",
    "        return y\n",
    "    def d_lrelu(self, x):\n",
    "        alpha = 0.01\n",
    "        dy1 =((x >= 0) * 1.0)\n",
    "        dy2 = ((x < 0) * alpha)\n",
    "        dy = dy1 + dy2\n",
    "        return dy\n",
    "\n",
    "    def tanh (self,x): # Active function + derivative\n",
    "        return np.tanh(x)\n",
    "    def d_tanh(self,x):\n",
    "        y = np.tanh(x)\n",
    "        dy = 1 - y**2\n",
    "        return dy\n",
    "\n",
    "\n",
    "    def mini_batch_creator(self,X, y, batch_size):\n",
    "        mini_batches = [] # empty list for the mini batchess\n",
    "        if self.n_features == 1:\n",
    "            data_matrix = np.hstack((X.reshape(-1, 1), y.reshape(-1, 1)))  # Column 0 to n-1 is data, column n is the target data\n",
    "        if self.n_features != 1:\n",
    "            data_matrix = np.hstack((X, y.reshape(-1, 1)))  # Column 0 to n-1 is data, column n is the target data\n",
    "            \n",
    "        \n",
    "\n",
    "        np.random.shuffle(data_matrix) # would not be stochastic if it didnt include random. \n",
    "\n",
    "        m = data_matrix.shape[0] // batch_size # number of minibatches number of rows/datapoints divided by selected batchsize\n",
    "        i=0\n",
    "        for i in range(m):\n",
    "            mini_batch = data_matrix[i * batch_size:(i + 1)*batch_size, :]#creating a mini batch\n",
    "            X_mini = mini_batch[:, :-1] #evry thing except the last column\n",
    "            Y_mini = mini_batch[:, -1] #exclusively the last column\n",
    "            mini_batches.append((X_mini, Y_mini)) # has 2 arrays, first array contains the minibatches for x and the second for y\n",
    "        if data_matrix.shape[0] % batch_size != 0:\n",
    "            mini_batch = data_matrix[i * batch_size:data_matrix.shape[0]]\n",
    "            X_mini = mini_batch[:, :-1]\n",
    "            Y_mini = mini_batch[:, -1]\n",
    "            mini_batches.append((X_mini, Y_mini))\n",
    "        return mini_batches\n",
    "\n",
    "    def FFD_train(self):\n",
    "        self.act_list = []\n",
    "        self.values = []\n",
    "        z_hidden = np.matmul(self.X_mini_i, self.weights[0]) + self.biases[0]\n",
    "        self.values.append(z_hidden)\n",
    "        a_hidden = self.act_function(z_hidden)\n",
    "        self.act_list.append(a_hidden)\n",
    "        for layer_i in range(1, self.n_hidden_layers):\n",
    "            z_hidden = np.matmul(a_hidden, self.weights[layer_i]) + self.biases[layer_i]\n",
    "            self.values.append(z_hidden)\n",
    "            a_hidden = self.act_function(z_hidden)\n",
    "            \n",
    "            self.act_list.append(a_hidden)\n",
    "        #Output values\n",
    "        z_out = np.matmul(a_hidden, self.weights[-1]) + self.biases[-1]\n",
    "        self.values.append(z_out)\n",
    "        a_out = z_out\n",
    "        if self.classify == 1:\n",
    "            a_out = self.out_func(z_out)\n",
    "            \n",
    "        self.act_list.append(a_out)\n",
    "        return \n",
    "    \n",
    "    def FFD_predict(self, X):  # feed forward pass for test set\n",
    "        z_hidden = np.matmul(X, self.weights[0]) + self.biases[0]\n",
    "        a_hidden = self.act_function(z_hidden)\n",
    "        for layer_i in range(1, self.n_hidden_layers):\n",
    "            z_hidden = np.matmul(a_hidden, self.weights[layer_i]) + self.biases[layer_i]\n",
    "            a_hidden = self.act_function(z_hidden)\n",
    "        z_out = np.matmul(a_hidden, self.weights[-1]) + self.biases[-1]\n",
    "        if self.classify == 1:\n",
    "            z_out = self.out_func(z_out)\n",
    "        nan_check = np.isnan(z_out).any()\n",
    "        if nan_check == True:\n",
    "            print(\"Exploding/vanishing gradient encounterd\")\n",
    "            z_out = np.zeros(z_out.shape)\n",
    "        return z_out\n",
    "            \n",
    "            \n",
    "        \n",
    "        \n",
    "    def back_prop(self):\n",
    "        #gradient descent solver algorithm \n",
    "        # Step Size = delta_l from nielsens book\n",
    "        def GD_solver(step_size,layer_i):\n",
    "            if (layer_i == 0):\n",
    "                gradient_weigths_in = np.matmul(self.X_mini_i.T, step_size)\n",
    "                gradient_biases_in = np.sum(step_size, axis=0)\n",
    "                if (self.lmb > 0.0):\n",
    "                    gradient_weigths_in += self.lmb * self.weights[layer_i]\n",
    "                self.weights[layer_i] = self.weights[layer_i] - self.eta * gradient_weigths_in\n",
    "                self.biases[layer_i] = self.biases[layer_i] - self.eta * gradient_biases_in\n",
    "            else:\n",
    "                gradient_weigths_hidden = np.matmul(self.act_list[layer_i-1].T, step_size)\n",
    "                #print(gradient_weigths)\n",
    "                gradient_biases_hidden = np.sum(step_size, axis=0)\n",
    "                if (self.lmb > 0.0):\n",
    "                    gradient_weigths_hidden += self.lmb * self.weights[layer_i]\n",
    "                self.weights[layer_i] = self.weights[layer_i] - self.eta * gradient_weigths_hidden\n",
    "                self.biases[layer_i] = self.biases[layer_i] - self.eta * gradient_biases_hidden\n",
    "            return\n",
    "        #Final/ gradient step\n",
    "        step_size = self.act_list[-1] - self.Y_mini_i\n",
    "        GD_solver(step_size,-1)\n",
    "        \n",
    "        \n",
    "        #start from the last bias and weights toward the input nodes -1 \n",
    "        for layer_i in range(self.n_hidden_layers-1, 0, -1):\n",
    "            step_size =  np.matmul(step_size, self.weights[layer_i+1].T) * self.d_act(self.values[layer_i]) # Chain rule \n",
    "            GD_solver(step_size,layer_i) #  utelizing the GD to solve for optimal\n",
    "            \n",
    "        #First gradient step \n",
    "        step_size_0 = np.matmul(step_size, self.weights[1].T) * self.d_act(self.values[0]) # chain rule\n",
    "        GD_solver(step_size_0,0)\n",
    "        \n",
    "        return\n",
    "\n",
    "\n",
    "\n",
    "\n",
    "    def train_nn(self,n_epochs,batch_size,eta = 0.1,lmb = 0):\n",
    "        self.eta = eta\n",
    "        self.lmb = lmb\n",
    "        for epoch in range(n_epochs):\n",
    "            mini_batches = self.mini_batch_creator(self.X_train,self.z_train,batch_size)\n",
    "            for batch in mini_batches:\n",
    "                self.X_mini_i,self.Y_mini_i = batch\n",
    "                self.Y_mini_i = self.Y_mini_i.reshape(-1,1) # Column vector\n",
    "                self.FFD_train()\n",
    "                self.back_prop()\n",
    "    \n",
    "    \n",
    "    def predict (self,X):\n",
    "        z = self.FFD_predict(X)\n",
    "        if self.classify == 1:\n",
    "            if self.check == \"sig\":\n",
    "                \n",
    "                for i in range(len(z)):\n",
    "                    if z[i] < 0.5:\n",
    "                        z[i] = int(0)\n",
    "                    elif z[i] >= 0.5:\n",
    "                        z[i] = int(1)\n",
    "                return z.ravel()\n",
    "            elif self.check == \"tan\":\n",
    "                \n",
    "                for i in range(len(z)):\n",
    "                    if z[i] < 0.0:\n",
    "                        z[i] = int(-1)\n",
    "                    elif z[i] >= 0.0:\n",
    "                        z[i] = int(1)\n",
    "                return z.ravel()\n",
    "                \n",
    "        else:\n",
    "            return z\n",
    "\n",
    "\n",
    "\n",
    "\n",
    "\n",
    "\n",
    "\n",
    "    \n",
    "    \n",
    "    \n",
    "    \n",
    "    "
   ]
  },
  {
   "cell_type": "markdown",
   "id": "c79dea9b",
   "metadata": {},
   "source": [
    "# Set up data"
   ]
  },
  {
   "cell_type": "code",
   "execution_count": 3,
   "id": "21428ab9",
   "metadata": {},
   "outputs": [],
   "source": [
    "from sklearn.datasets import load_breast_cancer"
   ]
  },
  {
   "cell_type": "code",
   "execution_count": 7,
   "id": "340b19c8",
   "metadata": {},
   "outputs": [
    {
     "data": {
      "text/plain": [
       "(569, 3)"
      ]
     },
     "execution_count": 7,
     "metadata": {},
     "output_type": "execute_result"
    }
   ],
   "source": [
    "# Taking in the PCA that Was created for breast cancer\n",
    "\n",
    "df_PCA_cancer = pd.read_csv(\"Breast_cancer_PCA\")\n",
    "\n",
    "X =  df_PCA_cancer.to_numpy()\n",
    "\n",
    "X.shape"
   ]
  },
  {
   "cell_type": "code",
   "execution_count": 8,
   "id": "be0cb3e2",
   "metadata": {},
   "outputs": [],
   "source": [
    "np.random.seed(644)\n",
    "BC = load_breast_cancer()\n",
    "\n",
    "\n",
    "z = BC.target.copy()\n",
    "\n",
    "X_train, X_test, z_train, z_test = train_test_split(X,z, test_size=0.2)\n",
    "\n",
    "scaler = StandardScaler()\n",
    "X_train = scaler.fit_transform(X_train)\n",
    "X_test = scaler.transform(X_test)"
   ]
  },
  {
   "cell_type": "code",
   "execution_count": 9,
   "id": "d9fd0bfc",
   "metadata": {},
   "outputs": [],
   "source": [
    "np.random.seed(644)\n",
    "BC = load_breast_cancer()\n",
    "A = X\n",
    "t = BC.target.copy()\n",
    "\n",
    "t[t==0] = -1\n",
    "\n",
    "A_train, A_test, t_train, t_test = train_test_split(A,t, test_size=0.2)\n",
    "\n",
    "scaler = StandardScaler()\n",
    "A_train = scaler.fit_transform(A_train)\n",
    "A_test = scaler.transform(A_test)"
   ]
  },
  {
   "cell_type": "markdown",
   "id": "8076e712",
   "metadata": {},
   "source": [
    "# Setting up neural network for the different parameters to be analyzed"
   ]
  },
  {
   "cell_type": "markdown",
   "id": "0aecd779",
   "metadata": {},
   "source": [
    "First i want to tune lambda and eta. For all the functions. "
   ]
  },
  {
   "cell_type": "markdown",
   "id": "86f17bb3",
   "metadata": {},
   "source": [
    "# setting up the framework for tuning lambda and eta"
   ]
  },
  {
   "cell_type": "code",
   "execution_count": 10,
   "id": "1318b437",
   "metadata": {},
   "outputs": [],
   "source": [
    "#initial values for the parameters\n",
    "n_epochs = 100\n",
    "n_layers = 2 # chosen for the analysis\n",
    "n_neurons = 35 # chosen for the analysis\n",
    "n_outputs = 1 # chosen for the analysis binary classification case\n",
    "batch_size = 20\n",
    "\n",
    "#activation functions\n",
    "act_1 = \"Sigmoid\"\n",
    "act_2 = \"tanh\"\n",
    "act_3 = \"RELU\"\n",
    "act_4 = \"LRELU\"\n",
    "\n",
    "#weight initilisation\n",
    "innit_1 = \"Xavier\"\n",
    "innit_2 = \"He\"\n",
    "\n",
    "#classification parameters\n",
    "cls = 1 # 1 for classification case\n",
    "#Output functions\n",
    "out_func = \"Sigmoid\"\n",
    "out_func_2 = \"tanh\"\n",
    "etas = np.logspace(-8,-2,5)\n",
    "lambdas = np.logspace(-7,-1,7)\n",
    "\n",
    "#NN_activationfuncton_weightinitilization_outputfunction\n",
    "\n",
    "#Sigmoid combinations\n",
    "NN_sig_xav_sig = NN(X_train,X_test,z_train,z_test,n_layers,n_neurons,act_1,n_outputs,innit_1,cls,out_func)\n",
    "NN_sig_he_sig = NN(X_train,X_test,z_train,z_test,n_layers,n_neurons,act_1,n_outputs,innit_2,cls,out_func)\n",
    "NN_sig_xav_tanh = NN(A_train,A_test,t_train,t_test,n_layers,n_neurons,act_1,n_outputs,innit_1,cls,out_func_2)\n",
    "NN_sig_he_tanh = NN(A_train,A_test,t_train,t_test,n_layers,n_neurons,act_1,n_outputs,innit_2,cls,out_func_2)\n",
    "#tanh activation function combinations\n",
    "NN_tanh_xav_sig = NN(X_train,X_test,z_train,z_test,n_layers,n_neurons,act_2,n_outputs,innit_1,cls,out_func)\n",
    "NN_tanh_he_sig = NN(X_train,X_test,z_train,z_test,n_layers,n_neurons,act_2,n_outputs,innit_2,cls,out_func)\n",
    "NN_tanh_xav_tanh = NN(A_train,A_test,t_train,t_test,n_layers,n_neurons,act_2,n_outputs,innit_1,cls,out_func_2)\n",
    "NN_tanh_he_tanh = NN(A_train,A_test,t_train,t_test,n_layers,n_neurons,act_2,n_outputs,innit_2,cls,out_func_2)\n",
    "#Relu activation function combinations\n",
    "NN_Rel_xav_sig = NN(X_train,X_test,z_train,z_test,n_layers,n_neurons,act_3,n_outputs,innit_1,cls,out_func)\n",
    "NN_Rel_he_sig = NN(X_train,X_test,z_train,z_test,n_layers,n_neurons,act_3,n_outputs,innit_2,cls,out_func)\n",
    "NN_Rel_xav_tanh = NN(A_train,A_test,t_train,t_test,n_layers,n_neurons,act_3,n_outputs,innit_1,cls,out_func_2)\n",
    "NN_Rel_he_tanh = NN(A_train,A_test,t_train,t_test,n_layers,n_neurons,act_3,n_outputs,innit_2,cls,out_func_2)\n",
    "#Leaky Relu activation function combinations\n",
    "NN_LRel_xav_sig = NN(X_train,X_test,z_train,z_test,n_layers,n_neurons,act_4,n_outputs,innit_1,cls,out_func)\n",
    "NN_LRel_he_sig = NN(X_train,X_test,z_train,z_test,n_layers,n_neurons,act_4,n_outputs,innit_2,cls,out_func)\n",
    "NN_LRel_xav_tanh = NN(A_train,A_test,t_train,t_test,n_layers,n_neurons,act_4,n_outputs,innit_1,cls,out_func_2)\n",
    "NN_LRel_he_tanh = NN(A_train,A_test,t_train,t_test,n_layers,n_neurons,act_4,n_outputs,innit_2,cls,out_func_2)\n",
    "\n",
    "\n"
   ]
  },
  {
   "cell_type": "markdown",
   "id": "7f5fad32",
   "metadata": {},
   "source": [
    "# Setting up the different Networks for grid searching lambda and eta"
   ]
  },
  {
   "cell_type": "code",
   "execution_count": 11,
   "id": "7e83b7f7",
   "metadata": {},
   "outputs": [],
   "source": [
    "#Sigmoid cost scores\n",
    "acc_sig_xav_sig = np.zeros((len(lambdas),len(etas)))\n",
    "acc_sig_xav_tanh = np.zeros((len(lambdas),len(etas)))\n",
    "acc_sig_he_sig = np.zeros((len(lambdas),len(etas)))\n",
    "acc_sig_he_tanh = np.zeros((len(lambdas),len(etas)))\n",
    "\n",
    "# tanh cost scores\n",
    "acc_tanh_xav_sig = np.zeros((len(lambdas),len(etas)))\n",
    "acc_tanh_xav_tanh = np.zeros((len(lambdas),len(etas)))\n",
    "acc_tanh_he_sig = np.zeros((len(lambdas),len(etas)))\n",
    "acc_tanh_he_tanh= np.zeros((len(lambdas),len(etas)))\n",
    "\n",
    "# Relu cost scores\n",
    "acc_Rel_xav_sig = np.zeros((len(lambdas),len(etas)))\n",
    "acc_Rel_xav_tanh = np.zeros((len(lambdas),len(etas)))\n",
    "acc_Rel_he_sig = np.zeros((len(lambdas),len(etas)))\n",
    "acc_Rel_he_tanh = np.zeros((len(lambdas),len(etas)))\n",
    "\n",
    "#Leaky Relu cost scores\n",
    "acc_LRel_xav_sig = np.zeros((len(lambdas),len(etas)))\n",
    "acc_LRel_xav_tanh = np.zeros((len(lambdas),len(etas)))\n",
    "acc_LRel_he_sig = np.zeros((len(lambdas),len(etas)))\n",
    "acc_LRel_he_tanh = np.zeros((len(lambdas),len(etas)))\n",
    "\n",
    "\n",
    "\n"
   ]
  },
  {
   "cell_type": "code",
   "execution_count": 12,
   "id": "70ea5a0b",
   "metadata": {},
   "outputs": [],
   "source": [
    "#Using sickit learns acuracy score, Check NN.ipyn for comparing own accuracy score with sickits\n",
    "from sklearn.metrics import accuracy_score\n",
    "\n"
   ]
  },
  {
   "cell_type": "markdown",
   "id": "637774cf",
   "metadata": {},
   "source": [
    "# Sigmoid run"
   ]
  },
  {
   "cell_type": "code",
   "execution_count": 13,
   "id": "4644c323",
   "metadata": {
    "scrolled": true
   },
   "outputs": [],
   "source": [
    "np.random.seed(653)\n",
    "for i in range(len(lambdas)):\n",
    "    lmb = lambdas[i]\n",
    "    for j in range(len(etas)):\n",
    "        #resetting neural network for each itteration\n",
    "        NN_sig_xav_sig = NN(X_train,X_test,z_train,z_test,n_layers,n_neurons,act_1,n_outputs,innit_1,cls,out_func)\n",
    "        NN_sig_he_sig = NN(X_train,X_test,z_train,z_test,n_layers,n_neurons,act_1,n_outputs,innit_2,cls,out_func)\n",
    "        NN_sig_xav_tanh = NN(A_train,A_test,t_train,t_test,n_layers,n_neurons,act_1,n_outputs,innit_1,cls,out_func_2)\n",
    "        NN_sig_he_tanh = NN(A_train,A_test,t_train,t_test,n_layers,n_neurons,act_1,n_outputs,innit_2,cls,out_func_2) # resett the neural network\n",
    "        eta = etas[j]\n",
    "        #training nerual network\n",
    "        NN_sig_xav_sig.train_nn(n_epochs,batch_size,eta,lmb)\n",
    "        NN_sig_he_sig.train_nn(n_epochs,batch_size,eta,lmb)\n",
    "        NN_sig_xav_tanh.train_nn(n_epochs,batch_size,eta,lmb)\n",
    "        NN_sig_he_tanh.train_nn(n_epochs,batch_size,eta,lmb)\n",
    "        \n",
    "        #Predictions\n",
    "        z_pred_xav_sig = NN_sig_xav_sig.predict(X_test)\n",
    "        z_pred_he_sig = NN_sig_he_sig.predict(X_test)\n",
    "        z_pred_xav_tanh = NN_sig_xav_tanh.predict(A_test)\n",
    "        z_pred_he_tanh = NN_sig_he_tanh.predict(A_test)\n",
    "        \n",
    "        #accuracy scores\n",
    "        acc_sig_he_sig[i,j] = accuracy_score(z_test,z_pred_he_sig)\n",
    "        acc_sig_xav_sig[i,j] = accuracy_score(z_test,z_pred_xav_sig)\n",
    "        \n",
    "        acc_sig_xav_tanh[i,j] = accuracy_score(t_test,z_pred_xav_tanh)\n",
    "        acc_sig_he_tanh[i,j] = accuracy_score(t_test,z_pred_he_tanh)\n",
    "        \n",
    "        \n",
    "df_grid_sig_xav_sig = pd.DataFrame(acc_sig_xav_sig, index = lambdas, columns = etas)\n",
    "df_grid_sig_xav_tanh = pd.DataFrame(acc_sig_xav_tanh, index = lambdas, columns = etas)\n",
    "df_grid_sig_he_sig = pd.DataFrame(acc_sig_he_sig, index = lambdas, columns = etas)\n",
    "df_grid_sig_he_tanh = pd.DataFrame(acc_sig_he_tanh, index = lambdas, columns = etas)"
   ]
  },
  {
   "cell_type": "code",
   "execution_count": 14,
   "id": "cf0aa91d",
   "metadata": {
    "scrolled": false
   },
   "outputs": [
    {
     "data": {
      "text/plain": [
       "1.000000e-08    0.543860\n",
       "3.162278e-07    0.543860\n",
       "1.000000e-05    0.543860\n",
       "3.162278e-04    0.728070\n",
       "1.000000e-02    0.938596\n",
       "dtype: float64"
      ]
     },
     "execution_count": 14,
     "metadata": {},
     "output_type": "execute_result"
    }
   ],
   "source": [
    "df_grid_sig_xav_sig.max()"
   ]
  },
  {
   "cell_type": "code",
   "execution_count": 15,
   "id": "6c3fedd3",
   "metadata": {},
   "outputs": [
    {
     "data": {
      "text/plain": [
       "(1e-06, 0.01)"
      ]
     },
     "execution_count": 15,
     "metadata": {},
     "output_type": "execute_result"
    }
   ],
   "source": [
    "df_grid_sig_xav_sig.stack().index[np.argmax(df_grid_sig_xav_sig.values)] #(labda,eta)"
   ]
  },
  {
   "cell_type": "code",
   "execution_count": 16,
   "id": "e5c28582",
   "metadata": {
    "scrolled": true
   },
   "outputs": [
    {
     "data": {
      "text/plain": [
       "1.000000e-08    0.552632\n",
       "3.162278e-07    0.543860\n",
       "1.000000e-05    0.543860\n",
       "3.162278e-04    0.912281\n",
       "1.000000e-02    0.938596\n",
       "dtype: float64"
      ]
     },
     "execution_count": 16,
     "metadata": {},
     "output_type": "execute_result"
    }
   ],
   "source": [
    "df_grid_sig_he_sig.max()"
   ]
  },
  {
   "cell_type": "code",
   "execution_count": 17,
   "id": "3ca6b3e5",
   "metadata": {
    "scrolled": true
   },
   "outputs": [
    {
     "data": {
      "text/plain": [
       "(1e-07, 0.01)"
      ]
     },
     "execution_count": 17,
     "metadata": {},
     "output_type": "execute_result"
    }
   ],
   "source": [
    "df_grid_sig_he_sig.stack().index[np.argmax(df_grid_sig_he_sig.values)] #(labda,eta)"
   ]
  },
  {
   "cell_type": "markdown",
   "id": "ffd43804",
   "metadata": {},
   "source": [
    "Best Eta and lambda sigmoid in outputlayer"
   ]
  },
  {
   "cell_type": "code",
   "execution_count": 18,
   "id": "6d3febc5",
   "metadata": {},
   "outputs": [],
   "source": [
    "lmb_sig_xav_sig = df_grid_sig_xav_sig.stack().index[np.argmax(df_grid_sig_xav_sig.values)][0] \n",
    "lmb_sig_he_sig = df_grid_sig_he_sig.stack().index[np.argmax(df_grid_sig_he_sig.values)][0]\n",
    "\n",
    "\n",
    "eta_sig_xav_sig = df_grid_sig_xav_sig.stack().index[np.argmax(df_grid_sig_xav_sig.values)][1] \n",
    "eta_sig_he_sig = df_grid_sig_he_sig.stack().index[np.argmax(df_grid_sig_he_sig.values)][1]\n"
   ]
  },
  {
   "cell_type": "code",
   "execution_count": 19,
   "id": "d670ca87",
   "metadata": {},
   "outputs": [
    {
     "data": {
      "text/plain": [
       "1.000000e-08    0.543860\n",
       "3.162278e-07    0.543860\n",
       "1.000000e-05    0.543860\n",
       "3.162278e-04    0.921053\n",
       "1.000000e-02    0.938596\n",
       "dtype: float64"
      ]
     },
     "execution_count": 19,
     "metadata": {},
     "output_type": "execute_result"
    }
   ],
   "source": [
    "df_grid_sig_xav_tanh.max()"
   ]
  },
  {
   "cell_type": "code",
   "execution_count": 20,
   "id": "80742dad",
   "metadata": {},
   "outputs": [
    {
     "data": {
      "text/plain": [
       "(1e-07, 0.01)"
      ]
     },
     "execution_count": 20,
     "metadata": {},
     "output_type": "execute_result"
    }
   ],
   "source": [
    "df_grid_sig_xav_tanh.stack().index[np.argmax(df_grid_sig_xav_tanh.values)] #(labda,eta)"
   ]
  },
  {
   "cell_type": "code",
   "execution_count": 21,
   "id": "1df471c3",
   "metadata": {},
   "outputs": [
    {
     "data": {
      "text/plain": [
       "1.000000e-08    0.543860\n",
       "3.162278e-07    0.701754\n",
       "1.000000e-05    0.543860\n",
       "3.162278e-04    0.921053\n",
       "1.000000e-02    0.929825\n",
       "dtype: float64"
      ]
     },
     "execution_count": 21,
     "metadata": {},
     "output_type": "execute_result"
    }
   ],
   "source": [
    "df_grid_sig_he_tanh.max()"
   ]
  },
  {
   "cell_type": "code",
   "execution_count": 22,
   "id": "74231166",
   "metadata": {
    "scrolled": true
   },
   "outputs": [
    {
     "data": {
      "text/plain": [
       "(1e-07, 0.01)"
      ]
     },
     "execution_count": 22,
     "metadata": {},
     "output_type": "execute_result"
    }
   ],
   "source": [
    "df_grid_sig_he_tanh.stack().index[np.argmax(df_grid_sig_he_tanh.values)] #(labda,eta)"
   ]
  },
  {
   "cell_type": "markdown",
   "id": "c0c430df",
   "metadata": {},
   "source": [
    "Best Eta and lambda tanh in outputlayer"
   ]
  },
  {
   "cell_type": "code",
   "execution_count": 23,
   "id": "939b36c2",
   "metadata": {},
   "outputs": [],
   "source": [
    "lmb_sig_xav_tanh = df_grid_sig_xav_tanh.stack().index[np.argmax(df_grid_sig_xav_tanh.values)][0]\n",
    "lmb_sig_he_tanh = df_grid_sig_he_tanh.stack().index[np.argmax(df_grid_sig_he_tanh.values)][0]\n",
    "\n",
    "eta_sig_xav_tanh = df_grid_sig_xav_tanh.stack().index[np.argmax(df_grid_sig_xav_tanh.values)][1]\n",
    "eta_sig_he_tanh = df_grid_sig_he_tanh.stack().index[np.argmax(df_grid_sig_he_tanh.values)][1]"
   ]
  },
  {
   "cell_type": "markdown",
   "id": "bd33ffe0",
   "metadata": {},
   "source": [
    "For sigmoid activation , He initiation and sigmoid output function yields best result acc =0.95"
   ]
  },
  {
   "cell_type": "markdown",
   "id": "72d19230",
   "metadata": {},
   "source": [
    "# Tuning Tanh lambda and eta"
   ]
  },
  {
   "cell_type": "code",
   "execution_count": 24,
   "id": "be9be071",
   "metadata": {
    "scrolled": true
   },
   "outputs": [],
   "source": [
    "np.random.seed(653)\n",
    "for i in range(len(lambdas)):\n",
    "    lmb = lambdas[i]\n",
    "    for j in range(len(etas)):\n",
    "        NN_tanh_xav_sig = NN(X_train,X_test,z_train,z_test,n_layers,n_neurons,act_2,n_outputs,innit_1,cls,out_func)\n",
    "        NN_tanh_he_sig = NN(X_train,X_test,z_train,z_test,n_layers,n_neurons,act_2,n_outputs,innit_2,cls,out_func)\n",
    "        NN_tanh_xav_tanh = NN(A_train,A_test,t_train,t_test,n_layers,n_neurons,act_2,n_outputs,innit_1,cls,out_func_2)\n",
    "        NN_tanh_he_tanh = NN(A_train,A_test,t_train,t_test,n_layers,n_neurons,act_2,n_outputs,innit_2,cls,out_func_2)\n",
    "        eta = etas[j]\n",
    "        \n",
    "        #training nerual network\n",
    "        NN_tanh_xav_sig.train_nn(n_epochs,batch_size,eta,lmb)\n",
    "        NN_tanh_he_sig.train_nn(n_epochs,batch_size,eta,lmb)\n",
    "        NN_tanh_xav_tanh.train_nn(n_epochs,batch_size,eta,lmb)\n",
    "        NN_tanh_he_tanh.train_nn(n_epochs,batch_size,eta,lmb)\n",
    "        \n",
    "        #Predictions\n",
    "        z_pred_xav_sig = NN_tanh_xav_sig.predict(X_test)\n",
    "        z_pred_he_sig = NN_tanh_he_sig.predict(X_test)\n",
    "        z_pred_xav_tanh = NN_tanh_xav_tanh.predict(A_test)\n",
    "        z_pred_he_tanh = NN_tanh_he_tanh.predict(A_test)\n",
    "        \n",
    "        #accuracy scores\n",
    "        acc_tanh_he_sig[i,j] = accuracy_score(z_test,z_pred_he_sig)\n",
    "        acc_tanh_xav_sig[i,j] = accuracy_score(z_test,z_pred_xav_sig)\n",
    "        \n",
    "        acc_tanh_xav_tanh[i,j] = accuracy_score(t_test,z_pred_xav_tanh)\n",
    "        acc_tanh_he_tanh[i,j] = accuracy_score(t_test,z_pred_he_tanh)\n",
    "        \n",
    "        \n",
    "df_grid_tanh_xav_sig = pd.DataFrame(acc_tanh_xav_sig, index = lambdas, columns = etas)\n",
    "df_grid_tanh_xav_tanh = pd.DataFrame(acc_tanh_xav_tanh, index = lambdas, columns = etas)\n",
    "df_grid_tanh_he_sig = pd.DataFrame(acc_tanh_he_sig, index = lambdas, columns = etas)\n",
    "df_grid_tanh_he_tanh = pd.DataFrame(acc_tanh_he_tanh, index = lambdas, columns = etas)"
   ]
  },
  {
   "cell_type": "code",
   "execution_count": 25,
   "id": "cc7c3521",
   "metadata": {
    "scrolled": true
   },
   "outputs": [
    {
     "data": {
      "text/plain": [
       "1.000000e-08    0.754386\n",
       "3.162278e-07    0.885965\n",
       "1.000000e-05    0.947368\n",
       "3.162278e-04    0.938596\n",
       "1.000000e-02    0.929825\n",
       "dtype: float64"
      ]
     },
     "execution_count": 25,
     "metadata": {},
     "output_type": "execute_result"
    }
   ],
   "source": [
    "df_grid_tanh_xav_sig.max()"
   ]
  },
  {
   "cell_type": "code",
   "execution_count": 26,
   "id": "6154198c",
   "metadata": {},
   "outputs": [
    {
     "data": {
      "text/plain": [
       "(1e-06, 1e-05)"
      ]
     },
     "execution_count": 26,
     "metadata": {},
     "output_type": "execute_result"
    }
   ],
   "source": [
    "\n",
    "df_grid_tanh_xav_sig.stack().index[np.argmax(df_grid_tanh_xav_sig.values)] #(labda,eta)"
   ]
  },
  {
   "cell_type": "code",
   "execution_count": 27,
   "id": "63b318ac",
   "metadata": {
    "scrolled": true
   },
   "outputs": [
    {
     "data": {
      "text/plain": [
       "1.000000e-08    0.877193\n",
       "3.162278e-07    0.807018\n",
       "1.000000e-05    0.964912\n",
       "3.162278e-04    0.938596\n",
       "1.000000e-02    0.938596\n",
       "dtype: float64"
      ]
     },
     "execution_count": 27,
     "metadata": {},
     "output_type": "execute_result"
    }
   ],
   "source": [
    "\n",
    "df_grid_tanh_he_sig .max()"
   ]
  },
  {
   "cell_type": "code",
   "execution_count": 28,
   "id": "95bf1a94",
   "metadata": {},
   "outputs": [
    {
     "data": {
      "text/plain": [
       "(0.001, 1e-05)"
      ]
     },
     "execution_count": 28,
     "metadata": {},
     "output_type": "execute_result"
    }
   ],
   "source": [
    "\n",
    "df_grid_tanh_he_sig.stack().index[np.argmax(df_grid_tanh_he_sig.values)] #(labda,eta)"
   ]
  },
  {
   "cell_type": "code",
   "execution_count": 29,
   "id": "95e23967",
   "metadata": {},
   "outputs": [],
   "source": [
    "lmb_tanh_xav_sig = df_grid_tanh_xav_sig.stack().index[np.argmax(df_grid_tanh_xav_sig.values)][0]\n",
    "lmb_tanh_he_sig = df_grid_tanh_he_sig.stack().index[np.argmax(df_grid_tanh_he_sig.values)][0]\n",
    "\n",
    "\n",
    "eta_tanh_xav_sig = df_grid_tanh_xav_sig.stack().index[np.argmax(df_grid_tanh_xav_sig.values)][1]\n",
    "eta_tanh_he_sig = df_grid_tanh_he_sig.stack().index[np.argmax(df_grid_tanh_he_sig.values)][1]\n"
   ]
  },
  {
   "cell_type": "code",
   "execution_count": 30,
   "id": "1ccdbb9d",
   "metadata": {
    "scrolled": true
   },
   "outputs": [
    {
     "data": {
      "text/plain": [
       "1.000000e-08    0.807018\n",
       "3.162278e-07    0.675439\n",
       "1.000000e-05    0.947368\n",
       "3.162278e-04    0.947368\n",
       "1.000000e-02    0.938596\n",
       "dtype: float64"
      ]
     },
     "execution_count": 30,
     "metadata": {},
     "output_type": "execute_result"
    }
   ],
   "source": [
    "\n",
    "df_grid_tanh_xav_tanh.max()"
   ]
  },
  {
   "cell_type": "code",
   "execution_count": 31,
   "id": "3c7aa989",
   "metadata": {},
   "outputs": [
    {
     "data": {
      "text/plain": [
       "(1e-05, 1e-05)"
      ]
     },
     "execution_count": 31,
     "metadata": {},
     "output_type": "execute_result"
    }
   ],
   "source": [
    "\n",
    "df_grid_tanh_xav_tanh.stack().index[np.argmax(df_grid_tanh_xav_tanh.values)] #(labda,eta)\n",
    "#np.argmax(df_grid_tanh_xav_tanh.values)"
   ]
  },
  {
   "cell_type": "code",
   "execution_count": 32,
   "id": "4d91fa66",
   "metadata": {},
   "outputs": [
    {
     "data": {
      "text/plain": [
       "1.000000e-08    0.508772\n",
       "3.162278e-07    0.754386\n",
       "1.000000e-05    0.947368\n",
       "3.162278e-04    0.938596\n",
       "1.000000e-02    0.938596\n",
       "dtype: float64"
      ]
     },
     "execution_count": 32,
     "metadata": {},
     "output_type": "execute_result"
    }
   ],
   "source": [
    "\n",
    "df_grid_tanh_he_tanh.max() #best accurucy of each column"
   ]
  },
  {
   "cell_type": "code",
   "execution_count": 33,
   "id": "e0c262eb",
   "metadata": {},
   "outputs": [
    {
     "data": {
      "text/plain": [
       "(0.1, 1e-05)"
      ]
     },
     "execution_count": 33,
     "metadata": {},
     "output_type": "execute_result"
    }
   ],
   "source": [
    "\n",
    "df_grid_tanh_he_tanh.stack().index[np.argmax(df_grid_tanh_he_tanh.values)] #(labda,eta)"
   ]
  },
  {
   "cell_type": "code",
   "execution_count": 34,
   "id": "559c4b00",
   "metadata": {},
   "outputs": [],
   "source": [
    "lmb_tanh_xav_tanh = df_grid_tanh_xav_tanh.stack().index[np.argmax(df_grid_tanh_xav_tanh.values)][0]\n",
    "lmb_tanh_he_tanh = df_grid_tanh_he_tanh.stack().index[np.argmax(df_grid_tanh_he_tanh.values)][0]\n",
    "\n",
    "eta_tanh_xav_tanh = df_grid_tanh_xav_tanh.stack().index[np.argmax(df_grid_tanh_xav_tanh.values)][1]\n",
    "eta_tanh_he_tanh = df_grid_tanh_he_tanh.stack().index[np.argmax(df_grid_tanh_he_tanh.values)][1]"
   ]
  },
  {
   "cell_type": "markdown",
   "id": "af1ab10e",
   "metadata": {},
   "source": [
    "# Relu Tuning\n"
   ]
  },
  {
   "cell_type": "code",
   "execution_count": 35,
   "id": "e3c3e0e4",
   "metadata": {
    "scrolled": true
   },
   "outputs": [
    {
     "name": "stderr",
     "output_type": "stream",
     "text": [
      "C:\\Users\\Lasse\\Anaconda3\\lib\\site-packages\\autograd\\tracer.py:48: RuntimeWarning: overflow encountered in exp\n",
      "  return f_raw(*args, **kwargs)\n",
      "C:\\Users\\Lasse\\Anaconda3\\lib\\site-packages\\autograd\\tracer.py:48: RuntimeWarning: overflow encountered in matmul\n",
      "  return f_raw(*args, **kwargs)\n",
      "C:\\Users\\Lasse\\Anaconda3\\lib\\site-packages\\autograd\\tracer.py:48: RuntimeWarning: invalid value encountered in matmul\n",
      "  return f_raw(*args, **kwargs)\n"
     ]
    },
    {
     "name": "stdout",
     "output_type": "stream",
     "text": [
      "Exploding/vanishing gradient encounterd\n",
      "Exploding/vanishing gradient encounterd\n",
      "Exploding/vanishing gradient encounterd\n",
      "Exploding/vanishing gradient encounterd\n"
     ]
    },
    {
     "name": "stderr",
     "output_type": "stream",
     "text": [
      "C:\\Users\\Lasse\\Anaconda3\\lib\\site-packages\\autograd\\tracer.py:48: RuntimeWarning: overflow encountered in exp\n",
      "  return f_raw(*args, **kwargs)\n",
      "C:\\Users\\Lasse\\Anaconda3\\lib\\site-packages\\autograd\\tracer.py:48: RuntimeWarning: overflow encountered in matmul\n",
      "  return f_raw(*args, **kwargs)\n",
      "C:\\Users\\Lasse\\Anaconda3\\lib\\site-packages\\autograd\\tracer.py:48: RuntimeWarning: invalid value encountered in matmul\n",
      "  return f_raw(*args, **kwargs)\n",
      "C:\\Users\\Lasse\\AppData\\Local\\Temp/ipykernel_21904/1137956241.py:240: RuntimeWarning: invalid value encountered in multiply\n",
      "  step_size_0 = np.matmul(step_size, self.weights[1].T) * self.d_act(self.values[0]) # chain rule\n"
     ]
    },
    {
     "name": "stdout",
     "output_type": "stream",
     "text": [
      "Exploding/vanishing gradient encounterd\n",
      "Exploding/vanishing gradient encounterd\n",
      "Exploding/vanishing gradient encounterd\n"
     ]
    },
    {
     "name": "stderr",
     "output_type": "stream",
     "text": [
      "C:\\Users\\Lasse\\Anaconda3\\lib\\site-packages\\autograd\\tracer.py:48: RuntimeWarning: overflow encountered in exp\n",
      "  return f_raw(*args, **kwargs)\n",
      "C:\\Users\\Lasse\\Anaconda3\\lib\\site-packages\\autograd\\tracer.py:48: RuntimeWarning: overflow encountered in matmul\n",
      "  return f_raw(*args, **kwargs)\n",
      "C:\\Users\\Lasse\\Anaconda3\\lib\\site-packages\\autograd\\tracer.py:48: RuntimeWarning: invalid value encountered in matmul\n",
      "  return f_raw(*args, **kwargs)\n",
      "C:\\Users\\Lasse\\AppData\\Local\\Temp/ipykernel_21904/1137956241.py:240: RuntimeWarning: invalid value encountered in multiply\n",
      "  step_size_0 = np.matmul(step_size, self.weights[1].T) * self.d_act(self.values[0]) # chain rule\n"
     ]
    },
    {
     "name": "stdout",
     "output_type": "stream",
     "text": [
      "Exploding/vanishing gradient encounterd\n",
      "Exploding/vanishing gradient encounterd\n",
      "Exploding/vanishing gradient encounterd\n",
      "Exploding/vanishing gradient encounterd\n"
     ]
    },
    {
     "name": "stderr",
     "output_type": "stream",
     "text": [
      "C:\\Users\\Lasse\\Anaconda3\\lib\\site-packages\\autograd\\tracer.py:48: RuntimeWarning: overflow encountered in exp\n",
      "  return f_raw(*args, **kwargs)\n",
      "C:\\Users\\Lasse\\Anaconda3\\lib\\site-packages\\autograd\\tracer.py:48: RuntimeWarning: overflow encountered in matmul\n",
      "  return f_raw(*args, **kwargs)\n",
      "C:\\Users\\Lasse\\AppData\\Local\\Temp/ipykernel_21904/1137956241.py:240: RuntimeWarning: invalid value encountered in multiply\n",
      "  step_size_0 = np.matmul(step_size, self.weights[1].T) * self.d_act(self.values[0]) # chain rule\n",
      "C:\\Users\\Lasse\\Anaconda3\\lib\\site-packages\\autograd\\tracer.py:48: RuntimeWarning: invalid value encountered in matmul\n",
      "  return f_raw(*args, **kwargs)\n"
     ]
    },
    {
     "name": "stdout",
     "output_type": "stream",
     "text": [
      "Exploding/vanishing gradient encounterd\n",
      "Exploding/vanishing gradient encounterd\n",
      "Exploding/vanishing gradient encounterd\n",
      "Exploding/vanishing gradient encounterd\n"
     ]
    },
    {
     "name": "stderr",
     "output_type": "stream",
     "text": [
      "C:\\Users\\Lasse\\Anaconda3\\lib\\site-packages\\autograd\\tracer.py:48: RuntimeWarning: overflow encountered in exp\n",
      "  return f_raw(*args, **kwargs)\n",
      "C:\\Users\\Lasse\\Anaconda3\\lib\\site-packages\\autograd\\tracer.py:48: RuntimeWarning: overflow encountered in matmul\n",
      "  return f_raw(*args, **kwargs)\n",
      "C:\\Users\\Lasse\\AppData\\Local\\Temp/ipykernel_21904/1137956241.py:240: RuntimeWarning: invalid value encountered in multiply\n",
      "  step_size_0 = np.matmul(step_size, self.weights[1].T) * self.d_act(self.values[0]) # chain rule\n",
      "C:\\Users\\Lasse\\Anaconda3\\lib\\site-packages\\autograd\\tracer.py:48: RuntimeWarning: invalid value encountered in matmul\n",
      "  return f_raw(*args, **kwargs)\n"
     ]
    },
    {
     "name": "stdout",
     "output_type": "stream",
     "text": [
      "Exploding/vanishing gradient encounterd\n",
      "Exploding/vanishing gradient encounterd\n",
      "Exploding/vanishing gradient encounterd\n",
      "Exploding/vanishing gradient encounterd\n"
     ]
    },
    {
     "name": "stderr",
     "output_type": "stream",
     "text": [
      "C:\\Users\\Lasse\\Anaconda3\\lib\\site-packages\\autograd\\tracer.py:48: RuntimeWarning: overflow encountered in exp\n",
      "  return f_raw(*args, **kwargs)\n",
      "C:\\Users\\Lasse\\Anaconda3\\lib\\site-packages\\autograd\\tracer.py:48: RuntimeWarning: overflow encountered in matmul\n",
      "  return f_raw(*args, **kwargs)\n",
      "C:\\Users\\Lasse\\AppData\\Local\\Temp/ipykernel_21904/1137956241.py:240: RuntimeWarning: invalid value encountered in multiply\n",
      "  step_size_0 = np.matmul(step_size, self.weights[1].T) * self.d_act(self.values[0]) # chain rule\n",
      "C:\\Users\\Lasse\\Anaconda3\\lib\\site-packages\\autograd\\tracer.py:48: RuntimeWarning: invalid value encountered in matmul\n",
      "  return f_raw(*args, **kwargs)\n"
     ]
    },
    {
     "name": "stdout",
     "output_type": "stream",
     "text": [
      "Exploding/vanishing gradient encounterd\n",
      "Exploding/vanishing gradient encounterd\n",
      "Exploding/vanishing gradient encounterd\n"
     ]
    },
    {
     "name": "stderr",
     "output_type": "stream",
     "text": [
      "C:\\Users\\Lasse\\Anaconda3\\lib\\site-packages\\autograd\\tracer.py:48: RuntimeWarning: overflow encountered in matmul\n",
      "  return f_raw(*args, **kwargs)\n",
      "C:\\Users\\Lasse\\Anaconda3\\lib\\site-packages\\autograd\\tracer.py:48: RuntimeWarning: invalid value encountered in matmul\n",
      "  return f_raw(*args, **kwargs)\n",
      "C:\\Users\\Lasse\\AppData\\Local\\Temp/ipykernel_21904/1137956241.py:240: RuntimeWarning: invalid value encountered in multiply\n",
      "  step_size_0 = np.matmul(step_size, self.weights[1].T) * self.d_act(self.values[0]) # chain rule\n"
     ]
    },
    {
     "name": "stdout",
     "output_type": "stream",
     "text": [
      "Exploding/vanishing gradient encounterd\n",
      "Exploding/vanishing gradient encounterd\n"
     ]
    }
   ],
   "source": [
    "np.random.seed(653)\n",
    "for i in range(len(lambdas)):\n",
    "    lmb = lambdas[i]\n",
    "    for j in range(len(etas)):\n",
    "        NN_Rel_xav_sig = NN(X_train,X_test,z_train,z_test,n_layers,n_neurons,act_3,n_outputs,innit_1,cls,out_func)\n",
    "        NN_Rel_he_sig = NN(X_train,X_test,z_train,z_test,n_layers,n_neurons,act_3,n_outputs,innit_2,cls,out_func)\n",
    "        NN_Rel_xav_tanh = NN(A_train,A_test,t_train,t_test,n_layers,n_neurons,act_3,n_outputs,innit_1,cls,out_func_2)\n",
    "        NN_Rel_he_tanh = NN(A_train,A_test,t_train,t_test,n_layers,n_neurons,act_3,n_outputs,innit_2,cls,out_func_2)\n",
    "        eta = etas[j]\n",
    "        \n",
    "        NN_Rel_xav_sig.train_nn(n_epochs,batch_size,eta,lmb)\n",
    "        NN_Rel_he_sig.train_nn(n_epochs,batch_size,eta,lmb)\n",
    "        NN_Rel_xav_tanh.train_nn(n_epochs,batch_size,eta,lmb)\n",
    "        NN_Rel_he_tanh.train_nn(n_epochs,batch_size,eta,lmb)\n",
    "        \n",
    "        #Predictions\n",
    "        z_pred_xav_sig = NN_Rel_xav_sig.predict(X_test)\n",
    "        z_pred_he_sig = NN_Rel_he_sig.predict(X_test)\n",
    "        z_pred_xav_tanh = NN_Rel_xav_tanh.predict(A_test)\n",
    "        z_pred_he_tanh = NN_Rel_he_tanh.predict(A_test)\n",
    "        \n",
    "        #accuracy scores\n",
    "        #Sigmoid in outputlayer\n",
    "        acc_Rel_he_sig[i,j] = accuracy_score(z_test,z_pred_he_sig)\n",
    "        acc_Rel_xav_sig[i,j] = accuracy_score(z_test,z_pred_xav_sig)\n",
    "        \n",
    "        #tanh in outputlayer\n",
    "        acc_Rel_xav_tanh[i,j] = accuracy_score(t_test,z_pred_xav_tanh)\n",
    "        acc_Rel_he_tanh[i,j] = accuracy_score(t_test,z_pred_he_tanh)\n",
    "        \n",
    "        \n",
    "df_grid_Rel_he_sig = pd.DataFrame(acc_Rel_he_sig, index = lambdas, columns = etas)\n",
    "df_grid_Rel_he_tanh = pd.DataFrame(acc_Rel_he_tanh, index = lambdas, columns = etas)\n",
    "df_grid_Rel_xav_sig = pd.DataFrame(acc_Rel_xav_sig, index = lambdas, columns = etas)\n",
    "df_grid_Rel_xav_tanh = pd.DataFrame(acc_Rel_xav_tanh, index = lambdas, columns = etas)"
   ]
  },
  {
   "cell_type": "code",
   "execution_count": 36,
   "id": "8a98b860",
   "metadata": {},
   "outputs": [
    {
     "data": {
      "text/plain": [
       "1.000000e-08    0.578947\n",
       "3.162278e-07    0.885965\n",
       "1.000000e-05    0.859649\n",
       "3.162278e-04    0.947368\n",
       "1.000000e-02    0.947368\n",
       "dtype: float64"
      ]
     },
     "execution_count": 36,
     "metadata": {},
     "output_type": "execute_result"
    }
   ],
   "source": [
    "df_grid_Rel_xav_sig.max()"
   ]
  },
  {
   "cell_type": "code",
   "execution_count": 37,
   "id": "c5f7d406",
   "metadata": {},
   "outputs": [
    {
     "data": {
      "text/plain": [
       "(1e-07, 0.00031622776601683794)"
      ]
     },
     "execution_count": 37,
     "metadata": {},
     "output_type": "execute_result"
    }
   ],
   "source": [
    "df_grid_Rel_xav_sig.stack().index[np.argmax(df_grid_Rel_xav_sig.values)]"
   ]
  },
  {
   "cell_type": "code",
   "execution_count": 38,
   "id": "ed6fcaf8",
   "metadata": {},
   "outputs": [
    {
     "data": {
      "text/plain": [
       "1.000000e-08    0.622807\n",
       "3.162278e-07    0.824561\n",
       "1.000000e-05    0.929825\n",
       "3.162278e-04    0.947368\n",
       "1.000000e-02    0.956140\n",
       "dtype: float64"
      ]
     },
     "execution_count": 38,
     "metadata": {},
     "output_type": "execute_result"
    }
   ],
   "source": [
    "df_grid_Rel_he_sig.max()"
   ]
  },
  {
   "cell_type": "code",
   "execution_count": 39,
   "id": "e85a71bc",
   "metadata": {},
   "outputs": [
    {
     "data": {
      "text/plain": [
       "(0.1, 0.01)"
      ]
     },
     "execution_count": 39,
     "metadata": {},
     "output_type": "execute_result"
    }
   ],
   "source": [
    "\n",
    "df_grid_Rel_he_sig.stack().index[np.argmax(df_grid_Rel_he_sig.values)] #(labda,eta)"
   ]
  },
  {
   "cell_type": "code",
   "execution_count": null,
   "id": "d90b5a59",
   "metadata": {
    "scrolled": true
   },
   "outputs": [],
   "source": [
    "\n"
   ]
  },
  {
   "cell_type": "code",
   "execution_count": 40,
   "id": "61724a3d",
   "metadata": {},
   "outputs": [],
   "source": [
    "lmb_Rel_xav_sig = df_grid_Rel_xav_sig.stack().index[np.argmax(df_grid_Rel_xav_sig.values)][0]\n",
    "lmb_Rel_he_sig = df_grid_Rel_he_sig.stack().index[np.argmax(df_grid_Rel_he_sig.values)][0]\n",
    "\n",
    "\n",
    "eta_Rel_xav_sig =df_grid_Rel_xav_sig.stack().index[np.argmax(df_grid_Rel_xav_sig.values)][1]\n",
    "eta_Rel_he_sig = df_grid_Rel_he_sig.stack().index[np.argmax(df_grid_Rel_he_sig.values)][1]\n"
   ]
  },
  {
   "cell_type": "code",
   "execution_count": 41,
   "id": "4edc8654",
   "metadata": {
    "scrolled": true
   },
   "outputs": [
    {
     "data": {
      "text/plain": [
       "1.000000e-08    0.500000\n",
       "3.162278e-07    0.622807\n",
       "1.000000e-05    0.938596\n",
       "3.162278e-04    0.947368\n",
       "1.000000e-02    0.543860\n",
       "dtype: float64"
      ]
     },
     "execution_count": 41,
     "metadata": {},
     "output_type": "execute_result"
    }
   ],
   "source": [
    "df_grid_Rel_he_tanh.max()\n"
   ]
  },
  {
   "cell_type": "code",
   "execution_count": 42,
   "id": "aa98d28b",
   "metadata": {},
   "outputs": [
    {
     "data": {
      "text/plain": [
       "(1e-06, 0.00031622776601683794)"
      ]
     },
     "execution_count": 42,
     "metadata": {},
     "output_type": "execute_result"
    }
   ],
   "source": [
    "df_grid_Rel_he_tanh.stack().index[np.argmax(df_grid_Rel_he_tanh.values)] #(labda,eta)\n",
    " #(labda,eta)"
   ]
  },
  {
   "cell_type": "code",
   "execution_count": 43,
   "id": "465b4ed6",
   "metadata": {},
   "outputs": [
    {
     "data": {
      "text/plain": [
       "1.000000e-08    0.815789\n",
       "3.162278e-07    0.666667\n",
       "1.000000e-05    0.947368\n",
       "3.162278e-04    0.947368\n",
       "1.000000e-02    0.543860\n",
       "dtype: float64"
      ]
     },
     "execution_count": 43,
     "metadata": {},
     "output_type": "execute_result"
    }
   ],
   "source": [
    "\n",
    "df_grid_Rel_xav_tanh.max()"
   ]
  },
  {
   "cell_type": "code",
   "execution_count": 44,
   "id": "fb1297d8",
   "metadata": {},
   "outputs": [
    {
     "data": {
      "text/plain": [
       "(1e-05, 0.00031622776601683794)"
      ]
     },
     "execution_count": 44,
     "metadata": {},
     "output_type": "execute_result"
    }
   ],
   "source": [
    "\n",
    "df_grid_Rel_xav_tanh.stack().index[np.argmax(df_grid_Rel_xav_tanh.values)] #(labda,eta)"
   ]
  },
  {
   "cell_type": "code",
   "execution_count": 45,
   "id": "ff7e470c",
   "metadata": {},
   "outputs": [],
   "source": [
    "lmb_Rel_xav_tanh = df_grid_Rel_xav_tanh.stack().index[np.argmax(df_grid_Rel_xav_tanh.values)][0]\n",
    "lmb_Rel_he_tanh = df_grid_Rel_he_tanh.stack().index[np.argmax(df_grid_Rel_he_tanh.values)][0]\n",
    "\n",
    "eta_Rel_xav_tanh = df_grid_Rel_xav_tanh.stack().index[np.argmax(df_grid_Rel_xav_tanh.values)][1]\n",
    "eta_Rel_he_tanh = df_grid_Rel_he_tanh.stack().index[np.argmax(df_grid_Rel_he_tanh.values)][1]"
   ]
  },
  {
   "cell_type": "markdown",
   "id": "8fc10bba",
   "metadata": {},
   "source": [
    "From all the runs it seesm that it is consensus that Sigmoid in the output layer is preferd compared to tanh, "
   ]
  },
  {
   "cell_type": "markdown",
   "id": "7d68f46e",
   "metadata": {},
   "source": [
    "# Lastly LRELU"
   ]
  },
  {
   "cell_type": "code",
   "execution_count": 46,
   "id": "43b5de95",
   "metadata": {
    "scrolled": true
   },
   "outputs": [
    {
     "name": "stderr",
     "output_type": "stream",
     "text": [
      "C:\\Users\\Lasse\\Anaconda3\\lib\\site-packages\\autograd\\tracer.py:48: RuntimeWarning: overflow encountered in exp\n",
      "  return f_raw(*args, **kwargs)\n",
      "C:\\Users\\Lasse\\Anaconda3\\lib\\site-packages\\autograd\\tracer.py:48: RuntimeWarning: overflow encountered in matmul\n",
      "  return f_raw(*args, **kwargs)\n",
      "C:\\Users\\Lasse\\Anaconda3\\lib\\site-packages\\autograd\\tracer.py:48: RuntimeWarning: invalid value encountered in matmul\n",
      "  return f_raw(*args, **kwargs)\n",
      "C:\\Users\\Lasse\\AppData\\Local\\Temp/ipykernel_21904/1137956241.py:125: RuntimeWarning: invalid value encountered in multiply\n",
      "  y2 = ((x < 0) * x * alpha)\n"
     ]
    },
    {
     "name": "stdout",
     "output_type": "stream",
     "text": [
      "Exploding/vanishing gradient encounterd\n",
      "Exploding/vanishing gradient encounterd\n",
      "Exploding/vanishing gradient encounterd\n",
      "Exploding/vanishing gradient encounterd\n"
     ]
    },
    {
     "name": "stderr",
     "output_type": "stream",
     "text": [
      "C:\\Users\\Lasse\\Anaconda3\\lib\\site-packages\\autograd\\tracer.py:48: RuntimeWarning: overflow encountered in exp\n",
      "  return f_raw(*args, **kwargs)\n",
      "C:\\Users\\Lasse\\Anaconda3\\lib\\site-packages\\autograd\\tracer.py:48: RuntimeWarning: overflow encountered in matmul\n",
      "  return f_raw(*args, **kwargs)\n",
      "C:\\Users\\Lasse\\Anaconda3\\lib\\site-packages\\autograd\\tracer.py:48: RuntimeWarning: invalid value encountered in matmul\n",
      "  return f_raw(*args, **kwargs)\n"
     ]
    },
    {
     "name": "stdout",
     "output_type": "stream",
     "text": [
      "Exploding/vanishing gradient encounterd\n",
      "Exploding/vanishing gradient encounterd\n",
      "Exploding/vanishing gradient encounterd\n"
     ]
    },
    {
     "name": "stderr",
     "output_type": "stream",
     "text": [
      "C:\\Users\\Lasse\\Anaconda3\\lib\\site-packages\\autograd\\tracer.py:48: RuntimeWarning: overflow encountered in exp\n",
      "  return f_raw(*args, **kwargs)\n",
      "C:\\Users\\Lasse\\Anaconda3\\lib\\site-packages\\autograd\\tracer.py:48: RuntimeWarning: overflow encountered in matmul\n",
      "  return f_raw(*args, **kwargs)\n",
      "C:\\Users\\Lasse\\Anaconda3\\lib\\site-packages\\autograd\\tracer.py:48: RuntimeWarning: invalid value encountered in matmul\n",
      "  return f_raw(*args, **kwargs)\n",
      "C:\\Users\\Lasse\\AppData\\Local\\Temp/ipykernel_21904/1137956241.py:124: RuntimeWarning: invalid value encountered in multiply\n",
      "  y1 = ((x >= 0) * x)\n",
      "C:\\Users\\Lasse\\AppData\\Local\\Temp/ipykernel_21904/1137956241.py:125: RuntimeWarning: invalid value encountered in multiply\n",
      "  y2 = ((x < 0) * x * alpha)\n"
     ]
    },
    {
     "name": "stdout",
     "output_type": "stream",
     "text": [
      "Exploding/vanishing gradient encounterd\n",
      "Exploding/vanishing gradient encounterd\n",
      "Exploding/vanishing gradient encounterd\n",
      "Exploding/vanishing gradient encounterd\n"
     ]
    },
    {
     "name": "stderr",
     "output_type": "stream",
     "text": [
      "C:\\Users\\Lasse\\Anaconda3\\lib\\site-packages\\autograd\\tracer.py:48: RuntimeWarning: overflow encountered in exp\n",
      "  return f_raw(*args, **kwargs)\n",
      "C:\\Users\\Lasse\\Anaconda3\\lib\\site-packages\\autograd\\tracer.py:48: RuntimeWarning: overflow encountered in matmul\n",
      "  return f_raw(*args, **kwargs)\n",
      "C:\\Users\\Lasse\\Anaconda3\\lib\\site-packages\\autograd\\tracer.py:48: RuntimeWarning: invalid value encountered in matmul\n",
      "  return f_raw(*args, **kwargs)\n"
     ]
    },
    {
     "name": "stdout",
     "output_type": "stream",
     "text": [
      "Exploding/vanishing gradient encounterd\n",
      "Exploding/vanishing gradient encounterd\n",
      "Exploding/vanishing gradient encounterd\n",
      "Exploding/vanishing gradient encounterd\n"
     ]
    },
    {
     "name": "stderr",
     "output_type": "stream",
     "text": [
      "C:\\Users\\Lasse\\Anaconda3\\lib\\site-packages\\autograd\\tracer.py:48: RuntimeWarning: overflow encountered in exp\n",
      "  return f_raw(*args, **kwargs)\n",
      "C:\\Users\\Lasse\\Anaconda3\\lib\\site-packages\\autograd\\tracer.py:48: RuntimeWarning: overflow encountered in matmul\n",
      "  return f_raw(*args, **kwargs)\n",
      "C:\\Users\\Lasse\\Anaconda3\\lib\\site-packages\\autograd\\tracer.py:48: RuntimeWarning: invalid value encountered in matmul\n",
      "  return f_raw(*args, **kwargs)\n"
     ]
    },
    {
     "name": "stdout",
     "output_type": "stream",
     "text": [
      "Exploding/vanishing gradient encounterd\n",
      "Exploding/vanishing gradient encounterd\n",
      "Exploding/vanishing gradient encounterd\n",
      "Exploding/vanishing gradient encounterd\n"
     ]
    },
    {
     "name": "stderr",
     "output_type": "stream",
     "text": [
      "C:\\Users\\Lasse\\Anaconda3\\lib\\site-packages\\autograd\\tracer.py:48: RuntimeWarning: overflow encountered in exp\n",
      "  return f_raw(*args, **kwargs)\n",
      "C:\\Users\\Lasse\\Anaconda3\\lib\\site-packages\\autograd\\tracer.py:48: RuntimeWarning: overflow encountered in matmul\n",
      "  return f_raw(*args, **kwargs)\n",
      "C:\\Users\\Lasse\\Anaconda3\\lib\\site-packages\\autograd\\tracer.py:48: RuntimeWarning: invalid value encountered in matmul\n",
      "  return f_raw(*args, **kwargs)\n",
      "C:\\Users\\Lasse\\AppData\\Local\\Temp/ipykernel_21904/1137956241.py:124: RuntimeWarning: invalid value encountered in multiply\n",
      "  y1 = ((x >= 0) * x)\n",
      "C:\\Users\\Lasse\\AppData\\Local\\Temp/ipykernel_21904/1137956241.py:125: RuntimeWarning: invalid value encountered in multiply\n",
      "  y2 = ((x < 0) * x * alpha)\n"
     ]
    },
    {
     "name": "stdout",
     "output_type": "stream",
     "text": [
      "Exploding/vanishing gradient encounterd\n",
      "Exploding/vanishing gradient encounterd\n",
      "Exploding/vanishing gradient encounterd\n"
     ]
    },
    {
     "name": "stderr",
     "output_type": "stream",
     "text": [
      "C:\\Users\\Lasse\\Anaconda3\\lib\\site-packages\\autograd\\tracer.py:48: RuntimeWarning: overflow encountered in matmul\n",
      "  return f_raw(*args, **kwargs)\n",
      "C:\\Users\\Lasse\\Anaconda3\\lib\\site-packages\\autograd\\tracer.py:48: RuntimeWarning: invalid value encountered in matmul\n",
      "  return f_raw(*args, **kwargs)\n"
     ]
    },
    {
     "name": "stdout",
     "output_type": "stream",
     "text": [
      "Exploding/vanishing gradient encounterd\n",
      "Exploding/vanishing gradient encounterd\n"
     ]
    }
   ],
   "source": [
    "np.random.seed(653)\n",
    "for i in range(len(lambdas)):\n",
    "    lmb = lambdas[i]\n",
    "    for j in range(len(etas)):\n",
    "        NN_LRel_xav_sig = NN(X_train,X_test,z_train,z_test,n_layers,n_neurons,act_4,n_outputs,innit_1,cls,out_func)\n",
    "        NN_LRel_he_sig = NN(X_train,X_test,z_train,z_test,n_layers,n_neurons,act_4,n_outputs,innit_2,cls,out_func)\n",
    "        NN_LRel_xav_tanh = NN(A_train,A_test,t_train,t_test,n_layers,n_neurons,act_4,n_outputs,innit_1,cls,out_func_2)\n",
    "        NN_LRel_he_tanh = NN(A_train,A_test,t_train,t_test,n_layers,n_neurons,act_4,n_outputs,innit_2,cls,out_func_2)\n",
    "\n",
    "        eta = etas[j]\n",
    "        NN_LRel_xav_sig.train_nn(n_epochs,batch_size,eta,lmb)\n",
    "        NN_LRel_he_sig.train_nn(n_epochs,batch_size,eta,lmb)\n",
    "        NN_LRel_xav_tanh.train_nn(n_epochs,batch_size,eta,lmb)\n",
    "        NN_LRel_he_tanh.train_nn(n_epochs,batch_size,eta,lmb)\n",
    "        \n",
    "        #Predictions\n",
    "        z_pred_xav_sig = NN_LRel_xav_sig.predict(X_test)\n",
    "        z_pred_he_sig = NN_LRel_he_sig.predict(X_test)\n",
    "        z_pred_xav_tanh = NN_LRel_xav_tanh.predict(A_test)\n",
    "        z_pred_he_tanh = NN_LRel_he_tanh.predict(A_test)\n",
    "        \n",
    "        #accuracy scores\n",
    "        acc_LRel_he_sig[i,j] = accuracy_score(z_test,z_pred_he_sig)\n",
    "        acc_LRel_xav_sig[i,j] = accuracy_score(z_test,z_pred_xav_sig)\n",
    "        \n",
    "        acc_LRel_xav_tanh[i,j] = accuracy_score(t_test,z_pred_xav_tanh)\n",
    "        acc_LRel_he_tanh[i,j] = accuracy_score(t_test,z_pred_he_tanh)\n",
    "        \n",
    "        \n",
    "df_grid_LRel_he_sig = pd.DataFrame(acc_LRel_he_sig, index = lambdas, columns = etas)\n",
    "df_grid_LRel_he_tanh = pd.DataFrame(acc_LRel_he_tanh, index = lambdas, columns = etas)\n",
    "df_grid_LRel_xav_sig = pd.DataFrame(acc_LRel_xav_sig, index = lambdas, columns = etas)\n",
    "df_grid_LRel_xav_tanh = pd.DataFrame(acc_LRel_xav_tanh, index = lambdas, columns = etas)"
   ]
  },
  {
   "cell_type": "code",
   "execution_count": 47,
   "id": "9e94cc54",
   "metadata": {
    "scrolled": true
   },
   "outputs": [
    {
     "data": {
      "text/plain": [
       "1.000000e-08    0.622807\n",
       "3.162278e-07    0.833333\n",
       "1.000000e-05    0.938596\n",
       "3.162278e-04    0.947368\n",
       "1.000000e-02    0.956140\n",
       "dtype: float64"
      ]
     },
     "execution_count": 47,
     "metadata": {},
     "output_type": "execute_result"
    }
   ],
   "source": [
    "df_grid_LRel_he_sig.max()"
   ]
  },
  {
   "cell_type": "code",
   "execution_count": 48,
   "id": "94b47242",
   "metadata": {},
   "outputs": [
    {
     "data": {
      "text/plain": [
       "(0.1, 0.01)"
      ]
     },
     "execution_count": 48,
     "metadata": {},
     "output_type": "execute_result"
    }
   ],
   "source": [
    "\n",
    "df_grid_LRel_he_sig.stack().index[np.argmax(df_grid_LRel_he_sig.values)] #(labda,eta)"
   ]
  },
  {
   "cell_type": "code",
   "execution_count": 49,
   "id": "6b672302",
   "metadata": {},
   "outputs": [
    {
     "data": {
      "text/plain": [
       "1.000000e-08    0.500000\n",
       "3.162278e-07    0.631579\n",
       "1.000000e-05    0.938596\n",
       "3.162278e-04    0.947368\n",
       "1.000000e-02    0.543860\n",
       "dtype: float64"
      ]
     },
     "execution_count": 49,
     "metadata": {},
     "output_type": "execute_result"
    }
   ],
   "source": [
    "\n",
    "df_grid_LRel_he_tanh.max()"
   ]
  },
  {
   "cell_type": "code",
   "execution_count": 50,
   "id": "eb307d5b",
   "metadata": {},
   "outputs": [
    {
     "data": {
      "text/plain": [
       "(1e-06, 0.00031622776601683794)"
      ]
     },
     "execution_count": 50,
     "metadata": {},
     "output_type": "execute_result"
    }
   ],
   "source": [
    "\n",
    "df_grid_LRel_he_tanh.stack().index[np.argmax(df_grid_LRel_he_tanh.values)] #(labda,eta)"
   ]
  },
  {
   "cell_type": "code",
   "execution_count": 51,
   "id": "9b26c8da",
   "metadata": {},
   "outputs": [],
   "source": [
    "\n",
    "lmb_LRel_he_sig = df_grid_LRel_he_sig.stack().index[np.argmax(df_grid_LRel_he_sig.values)][0]\n",
    "\n",
    "lmb_LRel_he_tanh =df_grid_LRel_he_tanh.stack().index[np.argmax(df_grid_LRel_he_tanh.values)][0]\n",
    "\n",
    "\n",
    "eta_LRel_he_sig =df_grid_LRel_he_sig.stack().index[np.argmax(df_grid_LRel_he_sig.values)][1]\n",
    "\n",
    "eta_LRel_he_tanh = df_grid_LRel_he_tanh.stack().index[np.argmax(df_grid_LRel_he_tanh.values)][1]\n"
   ]
  },
  {
   "cell_type": "code",
   "execution_count": 52,
   "id": "9a4dc9b9",
   "metadata": {
    "scrolled": true
   },
   "outputs": [
    {
     "data": {
      "text/plain": [
       "1.000000e-08    0.578947\n",
       "3.162278e-07    0.903509\n",
       "1.000000e-05    0.859649\n",
       "3.162278e-04    0.947368\n",
       "1.000000e-02    0.947368\n",
       "dtype: float64"
      ]
     },
     "execution_count": 52,
     "metadata": {},
     "output_type": "execute_result"
    }
   ],
   "source": [
    "\n",
    "df_grid_LRel_xav_sig.max()"
   ]
  },
  {
   "cell_type": "code",
   "execution_count": 53,
   "id": "0028f9f5",
   "metadata": {},
   "outputs": [
    {
     "data": {
      "text/plain": [
       "(1e-07, 0.00031622776601683794)"
      ]
     },
     "execution_count": 53,
     "metadata": {},
     "output_type": "execute_result"
    }
   ],
   "source": [
    "\n",
    "df_grid_LRel_xav_sig.stack().index[np.argmax(df_grid_LRel_xav_sig.values)] #(labda,eta)"
   ]
  },
  {
   "cell_type": "code",
   "execution_count": 54,
   "id": "3a09591a",
   "metadata": {},
   "outputs": [
    {
     "data": {
      "text/plain": [
       "1.000000e-08    0.815789\n",
       "3.162278e-07    0.666667\n",
       "1.000000e-05    0.947368\n",
       "3.162278e-04    0.947368\n",
       "1.000000e-02    0.543860\n",
       "dtype: float64"
      ]
     },
     "execution_count": 54,
     "metadata": {},
     "output_type": "execute_result"
    }
   ],
   "source": [
    "\n",
    "df_grid_LRel_xav_tanh.max()"
   ]
  },
  {
   "cell_type": "code",
   "execution_count": 55,
   "id": "6c6f5396",
   "metadata": {},
   "outputs": [
    {
     "data": {
      "text/plain": [
       "(1e-05, 0.00031622776601683794)"
      ]
     },
     "execution_count": 55,
     "metadata": {},
     "output_type": "execute_result"
    }
   ],
   "source": [
    "\n",
    "df_grid_LRel_xav_tanh.stack().index[np.argmax(df_grid_LRel_xav_tanh.values)] #(labda,eta)"
   ]
  },
  {
   "cell_type": "code",
   "execution_count": 56,
   "id": "10b15af0",
   "metadata": {},
   "outputs": [],
   "source": [
    "lmb_LRel_xav_sig = df_grid_LRel_xav_sig.stack().index[np.argmax(df_grid_LRel_xav_sig.values)][0]\n",
    "lmb_LRel_xav_tanh = df_grid_LRel_xav_tanh.stack().index[np.argmax(df_grid_LRel_xav_tanh.values)][0]\n",
    "\n",
    "eta_LRel_xav_tanh = df_grid_LRel_xav_tanh.stack().index[np.argmax(df_grid_LRel_xav_tanh.values)][1]\n",
    "eta_LRel_xav_sig = df_grid_LRel_xav_sig.stack().index[np.argmax(df_grid_LRel_xav_sig.values)][1]"
   ]
  },
  {
   "cell_type": "markdown",
   "id": "d7bcd4b1",
   "metadata": {},
   "source": [
    "# With the tuning out of these parameters out of the way Lets see how they fare with number of hidden layers between 1 and 4 and hidden neurons between 10 and 50"
   ]
  },
  {
   "cell_type": "code",
   "execution_count": 57,
   "id": "fe26fa74",
   "metadata": {},
   "outputs": [],
   "source": [
    "n_layers_list = np.arange(1,5,1)\n",
    "n_neurons_list = np.arange(10,60,10)\n",
    "\n",
    "\n",
    "\n",
    "#Sigmoid cost scores\n",
    "acc_sig_xav_sig = np.zeros((len(n_layers_list),len(n_neurons_list)))\n",
    "acc_sig_xav_tanh =np.zeros((len(n_layers_list),len(n_neurons_list)))\n",
    "acc_sig_he_sig = np.zeros((len(n_layers_list),len(n_neurons_list)))\n",
    "acc_sig_he_tanh = np.zeros((len(n_layers_list),len(n_neurons_list)))\n",
    "\n",
    "# tanh cost scores\n",
    "acc_tanh_xav_sig = np.zeros((len(n_layers_list),len(n_neurons_list)))\n",
    "acc_tanh_xav_tanh = np.zeros((len(n_layers_list),len(n_neurons_list)))\n",
    "acc_tanh_he_sig = np.zeros((len(n_layers_list),len(n_neurons_list)))\n",
    "acc_tanh_he_tanh= np.zeros((len(n_layers_list),len(n_neurons_list)))\n",
    "\n",
    "# Relu cost scores\n",
    "acc_Rel_xav_sig = np.zeros((len(n_layers_list),len(n_neurons_list)))\n",
    "acc_Rel_xav_tanh = np.zeros((len(n_layers_list),len(n_neurons_list)))\n",
    "acc_Rel_he_sig = np.zeros((len(n_layers_list),len(n_neurons_list)))\n",
    "acc_Rel_he_tanh = np.zeros((len(n_layers_list),len(n_neurons_list)))\n",
    "\n",
    "#Leaky Relu cost scores\n",
    "acc_LRel_xav_sig = np.zeros((len(n_layers_list),len(n_neurons_list)))\n",
    "acc_LRel_xav_tanh = np.zeros((len(n_layers_list),len(n_neurons_list)))\n",
    "acc_LRel_he_sig = np.zeros((len(n_layers_list),len(n_neurons_list)))\n",
    "acc_LRel_he_tanh = np.zeros((len(n_layers_list),len(n_neurons_list)))"
   ]
  },
  {
   "cell_type": "markdown",
   "id": "ec0fb719",
   "metadata": {},
   "source": [
    "# Starting with sigmoid"
   ]
  },
  {
   "cell_type": "code",
   "execution_count": 58,
   "id": "f8412a9e",
   "metadata": {},
   "outputs": [],
   "source": [
    "np.random.seed(653)\n",
    "for i in range(len(n_layers_list)):\n",
    "    n_layers = n_layers_list[i]\n",
    "    for j in range(len(n_neurons_list)):\n",
    "        n_neurons = n_neurons_list[j]\n",
    "      #resetting neural network for each itteration\n",
    "        NN_sig_xav_sig = NN(X_train,X_test,z_train,z_test,n_layers,n_neurons,act_1,n_outputs,innit_1,cls,out_func)\n",
    "        NN_sig_he_sig = NN(X_train,X_test,z_train,z_test,n_layers,n_neurons,act_1,n_outputs,innit_2,cls,out_func)\n",
    "        NN_sig_xav_tanh = NN(A_train,A_test,t_train,t_test,n_layers,n_neurons,act_1,n_outputs,innit_1,cls,out_func_2)\n",
    "        NN_sig_he_tanh = NN(A_train,A_test,t_train,t_test,n_layers,n_neurons,act_1,n_outputs,innit_2,cls,out_func_2) # resett the neural network\n",
    "        #training nerual network\n",
    "        NN_sig_xav_sig.train_nn(n_epochs,batch_size,eta_sig_xav_sig,lmb_sig_xav_sig)\n",
    "        NN_sig_he_sig.train_nn(n_epochs,batch_size,eta_sig_he_sig,lmb_sig_he_sig)\n",
    "        NN_sig_xav_tanh.train_nn(n_epochs,batch_size,eta_sig_xav_tanh,lmb_sig_xav_tanh)\n",
    "        NN_sig_he_tanh.train_nn(n_epochs,batch_size,eta_sig_he_tanh,lmb_sig_he_tanh)\n",
    "        \n",
    "        #Predictions\n",
    "        z_pred_xav_sig = NN_sig_xav_sig.predict(X_test)\n",
    "        z_pred_he_sig = NN_sig_he_sig.predict(X_test)\n",
    "        z_pred_xav_tanh = NN_sig_xav_tanh.predict(A_test)\n",
    "        z_pred_he_tanh = NN_sig_he_tanh.predict(A_test)\n",
    "        \n",
    "        #accuracy scores\n",
    "        acc_sig_he_sig[i,j] = accuracy_score(z_test,z_pred_he_sig)\n",
    "        acc_sig_xav_sig[i,j] = accuracy_score(z_test,z_pred_xav_sig)\n",
    "        \n",
    "        acc_sig_xav_tanh[i,j] = accuracy_score(t_test,z_pred_xav_tanh)\n",
    "        acc_sig_he_tanh[i,j] = accuracy_score(t_test,z_pred_he_tanh)\n",
    "        \n",
    "        \n",
    "df_grid_sig_xav_sig = pd.DataFrame(acc_sig_xav_sig, index = n_layers_list, columns = n_neurons_list)\n",
    "df_grid_sig_xav_tanh = pd.DataFrame(acc_sig_xav_tanh, index = n_layers_list, columns = n_neurons_list)\n",
    "df_grid_sig_he_sig = pd.DataFrame(acc_sig_he_sig, index = n_layers_list, columns = n_neurons_list)\n",
    "df_grid_sig_he_tanh = pd.DataFrame(acc_sig_he_tanh, index = n_layers_list, columns = n_neurons_list)"
   ]
  },
  {
   "cell_type": "code",
   "execution_count": 59,
   "id": "5305211d",
   "metadata": {},
   "outputs": [
    {
     "data": {
      "text/plain": [
       "(4, 10)"
      ]
     },
     "execution_count": 59,
     "metadata": {},
     "output_type": "execute_result"
    }
   ],
   "source": [
    "df_grid_sig_xav_sig.max()\n",
    "df_grid_sig_xav_sig.stack().index[np.argmax(df_grid_sig_xav_sig.values)] #(layers,neurons)\n",
    "\n"
   ]
  },
  {
   "cell_type": "code",
   "execution_count": 60,
   "id": "c206f37e",
   "metadata": {},
   "outputs": [
    {
     "data": {
      "text/plain": [
       "(2, 40)"
      ]
     },
     "execution_count": 60,
     "metadata": {},
     "output_type": "execute_result"
    }
   ],
   "source": [
    "df_grid_sig_he_sig.max()\n",
    "df_grid_sig_he_sig.stack().index[np.argmax(df_grid_sig_he_sig.values)] #(layers,neurons)"
   ]
  },
  {
   "cell_type": "code",
   "execution_count": 61,
   "id": "89616c03",
   "metadata": {},
   "outputs": [
    {
     "data": {
      "text/plain": [
       "(1, 40)"
      ]
     },
     "execution_count": 61,
     "metadata": {},
     "output_type": "execute_result"
    }
   ],
   "source": [
    "df_grid_sig_xav_tanh.max()\n",
    "df_grid_sig_xav_tanh.stack().index[np.argmax(df_grid_sig_xav_tanh.values)] #(layers,neurons)"
   ]
  },
  {
   "cell_type": "code",
   "execution_count": 62,
   "id": "052ca3d6",
   "metadata": {
    "scrolled": true
   },
   "outputs": [
    {
     "name": "stdout",
     "output_type": "stream",
     "text": [
      "10    0.929825\n",
      "20    0.929825\n",
      "30    0.929825\n",
      "40    0.929825\n",
      "50    0.929825\n",
      "dtype: float64\n"
     ]
    },
    {
     "data": {
      "text/plain": [
       "(1, 10)"
      ]
     },
     "execution_count": 62,
     "metadata": {},
     "output_type": "execute_result"
    }
   ],
   "source": [
    "print(df_grid_sig_he_tanh.max())\n",
    "df_grid_sig_he_tanh.stack().index[np.argmax(df_grid_sig_he_tanh.values)] #(layers,neurons)"
   ]
  },
  {
   "cell_type": "markdown",
   "id": "2c9525dd",
   "metadata": {},
   "source": [
    "Layers and neurons for sigmoid activation function tests"
   ]
  },
  {
   "cell_type": "code",
   "execution_count": 63,
   "id": "0ceb6ee8",
   "metadata": {},
   "outputs": [],
   "source": [
    "\n",
    "brain_sig_xav_sig = [4,10] #layers, neurons\n",
    "brain_sig_he_sig = [2,40]\n",
    "brain_sig_xav_tanh = [1,40] #layers, neurons\n",
    "brain_sig_he_tanh = [1,10]"
   ]
  },
  {
   "cell_type": "markdown",
   "id": "1fde2424",
   "metadata": {},
   "source": [
    "# tanh Tuning of layers and neurons"
   ]
  },
  {
   "cell_type": "code",
   "execution_count": 64,
   "id": "97c7cc46",
   "metadata": {},
   "outputs": [],
   "source": [
    "np.random.seed(653)\n",
    "for i in range(len(n_layers_list)):\n",
    "    n_layers = n_layers_list[i]\n",
    "    for j in range(len(n_neurons_list)):\n",
    "        n_neurons = n_neurons_list[j]\n",
    "        NN_tanh_xav_sig = NN(X_train,X_test,z_train,z_test,n_layers,n_neurons,act_2,n_outputs,innit_1,cls,out_func)\n",
    "        NN_tanh_he_sig = NN(X_train,X_test,z_train,z_test,n_layers,n_neurons,act_2,n_outputs,innit_2,cls,out_func)\n",
    "        NN_tanh_xav_tanh = NN(A_train,A_test,t_train,t_test,n_layers,n_neurons,act_2,n_outputs,innit_1,cls,out_func_2)\n",
    "        NN_tanh_he_tanh = NN(A_train,A_test,t_train,t_test,n_layers,n_neurons,act_2,n_outputs,innit_2,cls,out_func_2)\n",
    "        #training nerual network\n",
    "        NN_tanh_xav_sig.train_nn(n_epochs,batch_size,eta_tanh_xav_sig,lmb_tanh_xav_sig)\n",
    "        NN_tanh_he_sig.train_nn(n_epochs,batch_size,eta_tanh_he_sig,lmb_tanh_he_sig)\n",
    "        NN_tanh_xav_tanh.train_nn(n_epochs,batch_size,eta_tanh_xav_tanh,lmb_tanh_xav_tanh)\n",
    "        NN_tanh_he_tanh.train_nn(n_epochs,batch_size,eta_tanh_he_tanh,lmb_tanh_he_tanh)\n",
    "        \n",
    "        #Predictions\n",
    "        z_pred_xav_sig = NN_tanh_xav_sig.predict(X_test)\n",
    "        z_pred_he_sig = NN_tanh_he_sig.predict(X_test)\n",
    "        z_pred_xav_tanh = NN_tanh_xav_tanh.predict(A_test)\n",
    "        z_pred_he_tanh = NN_tanh_he_tanh.predict(A_test)\n",
    "        \n",
    "        #accuracy scores\n",
    "        acc_tanh_he_sig[i,j] = accuracy_score(z_test,z_pred_he_sig)\n",
    "        acc_tanh_xav_sig[i,j] = accuracy_score(z_test,z_pred_xav_sig)\n",
    "        \n",
    "        acc_tanh_xav_tanh[i,j] = accuracy_score(t_test,z_pred_xav_tanh)\n",
    "        acc_tanh_he_tanh[i,j] = accuracy_score(t_test,z_pred_he_tanh)\n",
    "        \n",
    "        \n",
    "df_grid_tanh_xav_sig = pd.DataFrame(acc_tanh_xav_sig, index = n_layers_list, columns = n_neurons_list)\n",
    "df_grid_tanh_xav_tanh = pd.DataFrame(acc_tanh_xav_tanh, index = n_layers_list, columns = n_neurons_list)\n",
    "df_grid_tanh_he_sig = pd.DataFrame(acc_tanh_he_sig, index = n_layers_list, columns = n_neurons_list)\n",
    "df_grid_tanh_he_tanh = pd.DataFrame(acc_tanh_he_tanh, index = n_layers_list, columns = n_neurons_list)"
   ]
  },
  {
   "cell_type": "code",
   "execution_count": 65,
   "id": "bddad3c1",
   "metadata": {},
   "outputs": [
    {
     "data": {
      "text/plain": [
       "10    0.798246\n",
       "20    0.938596\n",
       "30    0.885965\n",
       "40    0.964912\n",
       "50    0.947368\n",
       "dtype: float64"
      ]
     },
     "execution_count": 65,
     "metadata": {},
     "output_type": "execute_result"
    }
   ],
   "source": [
    "df_grid_tanh_xav_sig.max()\n",
    "\n"
   ]
  },
  {
   "cell_type": "code",
   "execution_count": 66,
   "id": "66266f00",
   "metadata": {},
   "outputs": [
    {
     "data": {
      "text/plain": [
       "(2, 40)"
      ]
     },
     "execution_count": 66,
     "metadata": {},
     "output_type": "execute_result"
    }
   ],
   "source": [
    "df_grid_tanh_xav_sig.stack().index[np.argmax(df_grid_tanh_xav_sig.values)] #(layers,neurons)"
   ]
  },
  {
   "cell_type": "code",
   "execution_count": 67,
   "id": "463acb07",
   "metadata": {},
   "outputs": [
    {
     "data": {
      "text/plain": [
       "(3, 50)"
      ]
     },
     "execution_count": 67,
     "metadata": {},
     "output_type": "execute_result"
    }
   ],
   "source": [
    "df_grid_tanh_he_sig .max()\n",
    "df_grid_tanh_he_sig.stack().index[np.argmax(df_grid_tanh_he_sig.values)] #(layers,neurons)\n"
   ]
  },
  {
   "cell_type": "code",
   "execution_count": 68,
   "id": "09f7e4a3",
   "metadata": {},
   "outputs": [
    {
     "data": {
      "text/plain": [
       "(1, 50)"
      ]
     },
     "execution_count": 68,
     "metadata": {},
     "output_type": "execute_result"
    }
   ],
   "source": [
    "df_grid_tanh_xav_tanh.max()\n",
    "df_grid_tanh_xav_tanh.stack().index[np.argmax(df_grid_tanh_xav_tanh.values)] #(layers,neurons)\n"
   ]
  },
  {
   "cell_type": "code",
   "execution_count": 69,
   "id": "39a2314f",
   "metadata": {
    "scrolled": true
   },
   "outputs": [
    {
     "data": {
      "text/plain": [
       "(4, 50)"
      ]
     },
     "execution_count": 69,
     "metadata": {},
     "output_type": "execute_result"
    }
   ],
   "source": [
    "df_grid_tanh_he_tanh.max() #best accurucy of each column\n",
    "df_grid_tanh_he_tanh.stack().index[np.argmax(df_grid_tanh_he_tanh.values)] #(layers,neurons)"
   ]
  },
  {
   "cell_type": "markdown",
   "id": "bd28f51c",
   "metadata": {},
   "source": [
    "LAyers and neurons for tanh activation function"
   ]
  },
  {
   "cell_type": "code",
   "execution_count": 70,
   "id": "04aabfb5",
   "metadata": {},
   "outputs": [],
   "source": [
    "\n",
    "brain_tanh_xav_sig = [2,40]\n",
    "brain_tanh_he_sig = [3,50]\n",
    "brain_tanh_xav_tanh = [1,50]\n",
    "brain_tanh_he_tanh = [4,50]"
   ]
  },
  {
   "cell_type": "markdown",
   "id": "4e76794f",
   "metadata": {},
   "source": [
    "# Same for Relu"
   ]
  },
  {
   "cell_type": "code",
   "execution_count": 71,
   "id": "e1e5046e",
   "metadata": {},
   "outputs": [
    {
     "name": "stderr",
     "output_type": "stream",
     "text": [
      "C:\\Users\\Lasse\\Anaconda3\\lib\\site-packages\\autograd\\tracer.py:48: RuntimeWarning: overflow encountered in exp\n",
      "  return f_raw(*args, **kwargs)\n",
      "C:\\Users\\Lasse\\Anaconda3\\lib\\site-packages\\autograd\\tracer.py:48: RuntimeWarning: overflow encountered in matmul\n",
      "  return f_raw(*args, **kwargs)\n",
      "C:\\Users\\Lasse\\Anaconda3\\lib\\site-packages\\autograd\\tracer.py:48: RuntimeWarning: invalid value encountered in matmul\n",
      "  return f_raw(*args, **kwargs)\n"
     ]
    },
    {
     "name": "stdout",
     "output_type": "stream",
     "text": [
      "Exploding/vanishing gradient encounterd\n"
     ]
    },
    {
     "name": "stderr",
     "output_type": "stream",
     "text": [
      "C:\\Users\\Lasse\\Anaconda3\\lib\\site-packages\\autograd\\tracer.py:48: RuntimeWarning: overflow encountered in exp\n",
      "  return f_raw(*args, **kwargs)\n",
      "C:\\Users\\Lasse\\Anaconda3\\lib\\site-packages\\autograd\\tracer.py:48: RuntimeWarning: overflow encountered in matmul\n",
      "  return f_raw(*args, **kwargs)\n",
      "C:\\Users\\Lasse\\Anaconda3\\lib\\site-packages\\autograd\\tracer.py:48: RuntimeWarning: invalid value encountered in matmul\n",
      "  return f_raw(*args, **kwargs)\n"
     ]
    },
    {
     "name": "stdout",
     "output_type": "stream",
     "text": [
      "Exploding/vanishing gradient encounterd\n"
     ]
    },
    {
     "name": "stderr",
     "output_type": "stream",
     "text": [
      "C:\\Users\\Lasse\\Anaconda3\\lib\\site-packages\\autograd\\tracer.py:48: RuntimeWarning: overflow encountered in exp\n",
      "  return f_raw(*args, **kwargs)\n",
      "C:\\Users\\Lasse\\Anaconda3\\lib\\site-packages\\autograd\\tracer.py:48: RuntimeWarning: overflow encountered in matmul\n",
      "  return f_raw(*args, **kwargs)\n",
      "C:\\Users\\Lasse\\Anaconda3\\lib\\site-packages\\autograd\\tracer.py:48: RuntimeWarning: invalid value encountered in matmul\n",
      "  return f_raw(*args, **kwargs)\n"
     ]
    },
    {
     "name": "stdout",
     "output_type": "stream",
     "text": [
      "Exploding/vanishing gradient encounterd\n"
     ]
    },
    {
     "name": "stderr",
     "output_type": "stream",
     "text": [
      "C:\\Users\\Lasse\\Anaconda3\\lib\\site-packages\\autograd\\tracer.py:48: RuntimeWarning: overflow encountered in exp\n",
      "  return f_raw(*args, **kwargs)\n",
      "C:\\Users\\Lasse\\Anaconda3\\lib\\site-packages\\autograd\\tracer.py:48: RuntimeWarning: overflow encountered in matmul\n",
      "  return f_raw(*args, **kwargs)\n",
      "C:\\Users\\Lasse\\Anaconda3\\lib\\site-packages\\autograd\\tracer.py:48: RuntimeWarning: invalid value encountered in matmul\n",
      "  return f_raw(*args, **kwargs)\n"
     ]
    },
    {
     "name": "stdout",
     "output_type": "stream",
     "text": [
      "Exploding/vanishing gradient encounterd\n"
     ]
    },
    {
     "name": "stderr",
     "output_type": "stream",
     "text": [
      "C:\\Users\\Lasse\\Anaconda3\\lib\\site-packages\\autograd\\tracer.py:48: RuntimeWarning: overflow encountered in exp\n",
      "  return f_raw(*args, **kwargs)\n",
      "C:\\Users\\Lasse\\Anaconda3\\lib\\site-packages\\autograd\\tracer.py:48: RuntimeWarning: overflow encountered in matmul\n",
      "  return f_raw(*args, **kwargs)\n",
      "C:\\Users\\Lasse\\Anaconda3\\lib\\site-packages\\autograd\\tracer.py:48: RuntimeWarning: invalid value encountered in matmul\n",
      "  return f_raw(*args, **kwargs)\n"
     ]
    },
    {
     "name": "stdout",
     "output_type": "stream",
     "text": [
      "Exploding/vanishing gradient encounterd\n"
     ]
    },
    {
     "name": "stderr",
     "output_type": "stream",
     "text": [
      "C:\\Users\\Lasse\\Anaconda3\\lib\\site-packages\\autograd\\tracer.py:48: RuntimeWarning: overflow encountered in exp\n",
      "  return f_raw(*args, **kwargs)\n",
      "C:\\Users\\Lasse\\Anaconda3\\lib\\site-packages\\autograd\\tracer.py:48: RuntimeWarning: overflow encountered in matmul\n",
      "  return f_raw(*args, **kwargs)\n",
      "C:\\Users\\Lasse\\Anaconda3\\lib\\site-packages\\autograd\\tracer.py:48: RuntimeWarning: invalid value encountered in matmul\n",
      "  return f_raw(*args, **kwargs)\n"
     ]
    },
    {
     "name": "stdout",
     "output_type": "stream",
     "text": [
      "Exploding/vanishing gradient encounterd\n"
     ]
    },
    {
     "name": "stderr",
     "output_type": "stream",
     "text": [
      "C:\\Users\\Lasse\\Anaconda3\\lib\\site-packages\\autograd\\tracer.py:48: RuntimeWarning: overflow encountered in exp\n",
      "  return f_raw(*args, **kwargs)\n",
      "C:\\Users\\Lasse\\Anaconda3\\lib\\site-packages\\autograd\\tracer.py:48: RuntimeWarning: overflow encountered in matmul\n",
      "  return f_raw(*args, **kwargs)\n",
      "C:\\Users\\Lasse\\Anaconda3\\lib\\site-packages\\autograd\\tracer.py:48: RuntimeWarning: invalid value encountered in matmul\n",
      "  return f_raw(*args, **kwargs)\n"
     ]
    },
    {
     "name": "stdout",
     "output_type": "stream",
     "text": [
      "Exploding/vanishing gradient encounterd\n"
     ]
    },
    {
     "name": "stderr",
     "output_type": "stream",
     "text": [
      "C:\\Users\\Lasse\\Anaconda3\\lib\\site-packages\\autograd\\tracer.py:48: RuntimeWarning: overflow encountered in matmul\n",
      "  return f_raw(*args, **kwargs)\n",
      "C:\\Users\\Lasse\\AppData\\Local\\Temp/ipykernel_21904/1137956241.py:240: RuntimeWarning: invalid value encountered in multiply\n",
      "  step_size_0 = np.matmul(step_size, self.weights[1].T) * self.d_act(self.values[0]) # chain rule\n",
      "C:\\Users\\Lasse\\Anaconda3\\lib\\site-packages\\autograd\\tracer.py:48: RuntimeWarning: invalid value encountered in matmul\n",
      "  return f_raw(*args, **kwargs)\n",
      "C:\\Users\\Lasse\\Anaconda3\\lib\\site-packages\\numpy\\core\\fromnumeric.py:87: RuntimeWarning: overflow encountered in reduce\n",
      "  return ufunc.reduce(obj, axis, dtype, out, **passkwargs)\n",
      "C:\\Users\\Lasse\\AppData\\Local\\Temp/ipykernel_21904/1137956241.py:171: RuntimeWarning: invalid value encountered in add\n",
      "  z_hidden = np.matmul(self.X_mini_i, self.weights[0]) + self.biases[0]\n",
      "C:\\Users\\Lasse\\AppData\\Local\\Temp/ipykernel_21904/1137956241.py:113: RuntimeWarning: invalid value encountered in multiply\n",
      "  return x * (x > 0)\n"
     ]
    },
    {
     "name": "stdout",
     "output_type": "stream",
     "text": [
      "Exploding/vanishing gradient encounterd\n"
     ]
    },
    {
     "name": "stderr",
     "output_type": "stream",
     "text": [
      "C:\\Users\\Lasse\\Anaconda3\\lib\\site-packages\\autograd\\tracer.py:48: RuntimeWarning: overflow encountered in exp\n",
      "  return f_raw(*args, **kwargs)\n",
      "C:\\Users\\Lasse\\Anaconda3\\lib\\site-packages\\autograd\\tracer.py:48: RuntimeWarning: overflow encountered in matmul\n",
      "  return f_raw(*args, **kwargs)\n",
      "C:\\Users\\Lasse\\Anaconda3\\lib\\site-packages\\autograd\\tracer.py:48: RuntimeWarning: invalid value encountered in matmul\n",
      "  return f_raw(*args, **kwargs)\n"
     ]
    },
    {
     "name": "stdout",
     "output_type": "stream",
     "text": [
      "Exploding/vanishing gradient encounterd\n"
     ]
    }
   ],
   "source": [
    "np.random.seed(653)\n",
    "for i in range(len(n_layers_list)):\n",
    "    n_layers = n_layers_list[i]\n",
    "    for j in range(len(n_neurons_list)):\n",
    "        n_neurons = n_neurons_list[j]\n",
    "        NN_Rel_xav_sig = NN(X_train,X_test,z_train,z_test,n_layers,n_neurons,act_3,n_outputs,innit_1,cls,out_func)\n",
    "        NN_Rel_he_sig = NN(X_train,X_test,z_train,z_test,n_layers,n_neurons,act_3,n_outputs,innit_2,cls,out_func)\n",
    "        NN_Rel_xav_tanh = NN(A_train,A_test,t_train,t_test,n_layers,n_neurons,act_3,n_outputs,innit_1,cls,out_func_2)\n",
    "        NN_Rel_he_tanh = NN(A_train,A_test,t_train,t_test,n_layers,n_neurons,act_3,n_outputs,innit_2,cls,out_func_2)\n",
    "        \n",
    "        NN_Rel_xav_sig.train_nn(n_epochs,batch_size,eta_Rel_xav_sig,lmb_Rel_xav_sig)\n",
    "        NN_Rel_he_sig.train_nn(n_epochs,batch_size,eta_Rel_he_sig,lmb_Rel_he_sig)\n",
    "        NN_Rel_xav_tanh.train_nn(n_epochs,batch_size,eta_Rel_xav_tanh,lmb_Rel_xav_tanh)\n",
    "        NN_Rel_he_tanh.train_nn(n_epochs,batch_size,eta_Rel_he_tanh,lmb_Rel_he_tanh)\n",
    "        \n",
    "        #Predictions\n",
    "        z_pred_xav_sig = NN_Rel_xav_sig.predict(X_test)\n",
    "        z_pred_he_sig = NN_Rel_he_sig.predict(X_test)\n",
    "        z_pred_xav_tanh = NN_Rel_xav_tanh.predict(A_test)\n",
    "        z_pred_he_tanh = NN_Rel_he_tanh.predict(A_test)\n",
    "        \n",
    "        #accuracy scores\n",
    "        acc_Rel_he_sig[i,j] = accuracy_score(z_test,z_pred_he_sig)\n",
    "        acc_Rel_xav_sig[i,j] = accuracy_score(z_test,z_pred_xav_sig)\n",
    "        \n",
    "        acc_Rel_xav_tanh[i,j] = accuracy_score(t_test,z_pred_xav_tanh)\n",
    "        acc_Rel_he_tanh[i,j] = accuracy_score(t_test,z_pred_he_tanh)\n",
    "        \n",
    "        \n",
    "df_grid_Rel_he_sig = pd.DataFrame(acc_Rel_he_sig, index = n_layers_list, columns = n_neurons_list)\n",
    "df_grid_Rel_he_tanh = pd.DataFrame(acc_Rel_he_tanh, index = n_layers_list, columns = n_neurons_list)\n",
    "df_grid_Rel_xav_sig = pd.DataFrame(acc_Rel_xav_sig, index = n_layers_list, columns = n_neurons_list)\n",
    "df_grid_Rel_xav_tanh = pd.DataFrame(acc_Rel_xav_tanh, index = n_layers_list, columns = n_neurons_list)"
   ]
  },
  {
   "cell_type": "code",
   "execution_count": 72,
   "id": "53261805",
   "metadata": {},
   "outputs": [
    {
     "name": "stdout",
     "output_type": "stream",
     "text": [
      "10    0.938596\n",
      "20    0.947368\n",
      "30    0.947368\n",
      "40    0.938596\n",
      "50    0.929825\n",
      "dtype: float64\n"
     ]
    },
    {
     "data": {
      "text/plain": [
       "(2, 20)"
      ]
     },
     "execution_count": 72,
     "metadata": {},
     "output_type": "execute_result"
    }
   ],
   "source": [
    "print(df_grid_Rel_he_sig.max())\n",
    "df_grid_Rel_he_sig.stack().index[np.argmax(df_grid_Rel_he_sig.values)] #(layers,neurons)\n"
   ]
  },
  {
   "cell_type": "code",
   "execution_count": 73,
   "id": "4d24eeae",
   "metadata": {},
   "outputs": [
    {
     "data": {
      "text/plain": [
       "(2, 20)"
      ]
     },
     "execution_count": 73,
     "metadata": {},
     "output_type": "execute_result"
    }
   ],
   "source": [
    "df_grid_Rel_he_tanh.max()\n",
    "df_grid_Rel_he_tanh.stack().index[np.argmax(df_grid_Rel_he_tanh.values)] #(layers,neurons)\n"
   ]
  },
  {
   "cell_type": "code",
   "execution_count": 74,
   "id": "351c623a",
   "metadata": {},
   "outputs": [
    {
     "data": {
      "text/plain": [
       "(3, 30)"
      ]
     },
     "execution_count": 74,
     "metadata": {},
     "output_type": "execute_result"
    }
   ],
   "source": [
    "df_grid_Rel_xav_sig.max()\n",
    "df_grid_Rel_xav_sig.stack().index[np.argmax(df_grid_Rel_xav_sig.values)] #(layers,neurons)\n"
   ]
  },
  {
   "cell_type": "code",
   "execution_count": 75,
   "id": "a183b13d",
   "metadata": {},
   "outputs": [
    {
     "data": {
      "text/plain": [
       "(1, 40)"
      ]
     },
     "execution_count": 75,
     "metadata": {},
     "output_type": "execute_result"
    }
   ],
   "source": [
    "df_grid_Rel_xav_tanh.max()\n",
    "df_grid_Rel_xav_tanh.stack().index[np.argmax(df_grid_Rel_xav_tanh.values)] #(layers,neurons)"
   ]
  },
  {
   "cell_type": "markdown",
   "id": "e990e74a",
   "metadata": {},
   "source": [
    "Layers and neurons for RELU activation function"
   ]
  },
  {
   "cell_type": "code",
   "execution_count": 76,
   "id": "bd37c24e",
   "metadata": {},
   "outputs": [],
   "source": [
    "brain_Rel_xav_sig = [3,30]\n",
    "brain_Rel_he_sig = [2,20]\n",
    "brain_Rel_xav_tanh = [1,40]\n",
    "brain_Rel_he_tanh = [2,20]"
   ]
  },
  {
   "cell_type": "markdown",
   "id": "808a2f5d",
   "metadata": {},
   "source": [
    "# Lastly Leaky Relu"
   ]
  },
  {
   "cell_type": "code",
   "execution_count": 77,
   "id": "6319f191",
   "metadata": {},
   "outputs": [
    {
     "name": "stderr",
     "output_type": "stream",
     "text": [
      "C:\\Users\\Lasse\\Anaconda3\\lib\\site-packages\\autograd\\tracer.py:48: RuntimeWarning: overflow encountered in exp\n",
      "  return f_raw(*args, **kwargs)\n",
      "C:\\Users\\Lasse\\Anaconda3\\lib\\site-packages\\autograd\\tracer.py:48: RuntimeWarning: overflow encountered in matmul\n",
      "  return f_raw(*args, **kwargs)\n",
      "C:\\Users\\Lasse\\Anaconda3\\lib\\site-packages\\autograd\\tracer.py:48: RuntimeWarning: invalid value encountered in matmul\n",
      "  return f_raw(*args, **kwargs)\n"
     ]
    },
    {
     "name": "stdout",
     "output_type": "stream",
     "text": [
      "Exploding/vanishing gradient encounterd\n"
     ]
    },
    {
     "name": "stderr",
     "output_type": "stream",
     "text": [
      "C:\\Users\\Lasse\\Anaconda3\\lib\\site-packages\\autograd\\tracer.py:48: RuntimeWarning: overflow encountered in exp\n",
      "  return f_raw(*args, **kwargs)\n",
      "C:\\Users\\Lasse\\Anaconda3\\lib\\site-packages\\autograd\\tracer.py:48: RuntimeWarning: overflow encountered in matmul\n",
      "  return f_raw(*args, **kwargs)\n",
      "C:\\Users\\Lasse\\Anaconda3\\lib\\site-packages\\autograd\\tracer.py:48: RuntimeWarning: invalid value encountered in matmul\n",
      "  return f_raw(*args, **kwargs)\n"
     ]
    },
    {
     "name": "stdout",
     "output_type": "stream",
     "text": [
      "Exploding/vanishing gradient encounterd\n"
     ]
    },
    {
     "name": "stderr",
     "output_type": "stream",
     "text": [
      "C:\\Users\\Lasse\\Anaconda3\\lib\\site-packages\\autograd\\tracer.py:48: RuntimeWarning: overflow encountered in exp\n",
      "  return f_raw(*args, **kwargs)\n",
      "C:\\Users\\Lasse\\Anaconda3\\lib\\site-packages\\autograd\\tracer.py:48: RuntimeWarning: overflow encountered in matmul\n",
      "  return f_raw(*args, **kwargs)\n",
      "C:\\Users\\Lasse\\Anaconda3\\lib\\site-packages\\autograd\\tracer.py:48: RuntimeWarning: invalid value encountered in matmul\n",
      "  return f_raw(*args, **kwargs)\n"
     ]
    },
    {
     "name": "stdout",
     "output_type": "stream",
     "text": [
      "Exploding/vanishing gradient encounterd\n"
     ]
    },
    {
     "name": "stderr",
     "output_type": "stream",
     "text": [
      "C:\\Users\\Lasse\\Anaconda3\\lib\\site-packages\\autograd\\tracer.py:48: RuntimeWarning: overflow encountered in exp\n",
      "  return f_raw(*args, **kwargs)\n",
      "C:\\Users\\Lasse\\Anaconda3\\lib\\site-packages\\autograd\\tracer.py:48: RuntimeWarning: overflow encountered in matmul\n",
      "  return f_raw(*args, **kwargs)\n",
      "C:\\Users\\Lasse\\AppData\\Local\\Temp/ipykernel_21904/1137956241.py:124: RuntimeWarning: invalid value encountered in multiply\n",
      "  y1 = ((x >= 0) * x)\n",
      "C:\\Users\\Lasse\\AppData\\Local\\Temp/ipykernel_21904/1137956241.py:125: RuntimeWarning: invalid value encountered in multiply\n",
      "  y2 = ((x < 0) * x * alpha)\n"
     ]
    },
    {
     "name": "stdout",
     "output_type": "stream",
     "text": [
      "Exploding/vanishing gradient encounterd\n"
     ]
    },
    {
     "name": "stderr",
     "output_type": "stream",
     "text": [
      "C:\\Users\\Lasse\\Anaconda3\\lib\\site-packages\\autograd\\tracer.py:48: RuntimeWarning: overflow encountered in exp\n",
      "  return f_raw(*args, **kwargs)\n",
      "C:\\Users\\Lasse\\Anaconda3\\lib\\site-packages\\autograd\\tracer.py:48: RuntimeWarning: overflow encountered in matmul\n",
      "  return f_raw(*args, **kwargs)\n",
      "C:\\Users\\Lasse\\Anaconda3\\lib\\site-packages\\autograd\\tracer.py:48: RuntimeWarning: invalid value encountered in matmul\n",
      "  return f_raw(*args, **kwargs)\n",
      "C:\\Users\\Lasse\\Anaconda3\\lib\\site-packages\\numpy\\core\\fromnumeric.py:87: RuntimeWarning: invalid value encountered in reduce\n",
      "  return ufunc.reduce(obj, axis, dtype, out, **passkwargs)\n"
     ]
    },
    {
     "name": "stdout",
     "output_type": "stream",
     "text": [
      "Exploding/vanishing gradient encounterd\n"
     ]
    },
    {
     "name": "stderr",
     "output_type": "stream",
     "text": [
      "C:\\Users\\Lasse\\Anaconda3\\lib\\site-packages\\autograd\\tracer.py:48: RuntimeWarning: overflow encountered in exp\n",
      "  return f_raw(*args, **kwargs)\n",
      "C:\\Users\\Lasse\\Anaconda3\\lib\\site-packages\\autograd\\tracer.py:48: RuntimeWarning: overflow encountered in matmul\n",
      "  return f_raw(*args, **kwargs)\n",
      "C:\\Users\\Lasse\\Anaconda3\\lib\\site-packages\\autograd\\tracer.py:48: RuntimeWarning: invalid value encountered in matmul\n",
      "  return f_raw(*args, **kwargs)\n"
     ]
    },
    {
     "name": "stdout",
     "output_type": "stream",
     "text": [
      "Exploding/vanishing gradient encounterd\n"
     ]
    },
    {
     "name": "stderr",
     "output_type": "stream",
     "text": [
      "C:\\Users\\Lasse\\Anaconda3\\lib\\site-packages\\autograd\\tracer.py:48: RuntimeWarning: overflow encountered in exp\n",
      "  return f_raw(*args, **kwargs)\n",
      "C:\\Users\\Lasse\\Anaconda3\\lib\\site-packages\\autograd\\tracer.py:48: RuntimeWarning: overflow encountered in matmul\n",
      "  return f_raw(*args, **kwargs)\n",
      "C:\\Users\\Lasse\\Anaconda3\\lib\\site-packages\\autograd\\tracer.py:48: RuntimeWarning: invalid value encountered in matmul\n",
      "  return f_raw(*args, **kwargs)\n"
     ]
    },
    {
     "name": "stdout",
     "output_type": "stream",
     "text": [
      "Exploding/vanishing gradient encounterd\n"
     ]
    },
    {
     "name": "stderr",
     "output_type": "stream",
     "text": [
      "C:\\Users\\Lasse\\Anaconda3\\lib\\site-packages\\autograd\\tracer.py:48: RuntimeWarning: overflow encountered in matmul\n",
      "  return f_raw(*args, **kwargs)\n",
      "C:\\Users\\Lasse\\Anaconda3\\lib\\site-packages\\autograd\\tracer.py:48: RuntimeWarning: invalid value encountered in matmul\n",
      "  return f_raw(*args, **kwargs)\n",
      "C:\\Users\\Lasse\\AppData\\Local\\Temp/ipykernel_21904/1137956241.py:124: RuntimeWarning: invalid value encountered in multiply\n",
      "  y1 = ((x >= 0) * x)\n",
      "C:\\Users\\Lasse\\AppData\\Local\\Temp/ipykernel_21904/1137956241.py:125: RuntimeWarning: invalid value encountered in multiply\n",
      "  y2 = ((x < 0) * x * alpha)\n"
     ]
    },
    {
     "name": "stdout",
     "output_type": "stream",
     "text": [
      "Exploding/vanishing gradient encounterd\n"
     ]
    },
    {
     "name": "stderr",
     "output_type": "stream",
     "text": [
      "C:\\Users\\Lasse\\Anaconda3\\lib\\site-packages\\autograd\\tracer.py:48: RuntimeWarning: overflow encountered in exp\n",
      "  return f_raw(*args, **kwargs)\n",
      "C:\\Users\\Lasse\\Anaconda3\\lib\\site-packages\\autograd\\tracer.py:48: RuntimeWarning: overflow encountered in matmul\n",
      "  return f_raw(*args, **kwargs)\n",
      "C:\\Users\\Lasse\\Anaconda3\\lib\\site-packages\\autograd\\tracer.py:48: RuntimeWarning: invalid value encountered in matmul\n",
      "  return f_raw(*args, **kwargs)\n"
     ]
    },
    {
     "name": "stdout",
     "output_type": "stream",
     "text": [
      "Exploding/vanishing gradient encounterd\n"
     ]
    }
   ],
   "source": [
    "np.random.seed(653)\n",
    "for i in range(len(n_layers_list)):\n",
    "    n_layers = n_layers_list[i]\n",
    "    for j in range(len(n_neurons_list)):\n",
    "        n_neurons = n_neurons_list[j]\n",
    "        NN_LRel_xav_sig = NN(X_train,X_test,z_train,z_test,n_layers,n_neurons,act_4,n_outputs,innit_1,cls,out_func)\n",
    "        NN_LRel_he_sig = NN(X_train,X_test,z_train,z_test,n_layers,n_neurons,act_4,n_outputs,innit_2,cls,out_func)\n",
    "        NN_LRel_xav_tanh = NN(A_train,A_test,t_train,t_test,n_layers,n_neurons,act_4,n_outputs,innit_1,cls,out_func_2)\n",
    "        NN_LRel_he_tanh = NN(A_train,A_test,t_train,t_test,n_layers,n_neurons,act_4,n_outputs,innit_2,cls,out_func_2)\n",
    "\n",
    "   \n",
    "        NN_LRel_xav_sig.train_nn(n_epochs,batch_size,eta_LRel_xav_sig,lmb_LRel_xav_sig)\n",
    "        NN_LRel_he_sig.train_nn(n_epochs,batch_size,eta_LRel_he_sig,lmb_LRel_he_sig)\n",
    "        NN_LRel_xav_tanh.train_nn(n_epochs,batch_size,eta_LRel_xav_tanh,lmb_LRel_xav_tanh)\n",
    "        NN_LRel_he_tanh.train_nn(n_epochs,batch_size,eta_LRel_he_tanh,lmb_LRel_he_tanh)\n",
    "        \n",
    "        #Predictions\n",
    "        z_pred_xav_sig = NN_LRel_xav_sig.predict(X_test)\n",
    "        z_pred_he_sig = NN_LRel_he_sig.predict(X_test)\n",
    "        z_pred_xav_tanh = NN_LRel_xav_tanh.predict(A_test)\n",
    "        z_pred_he_tanh = NN_LRel_he_tanh.predict(A_test)\n",
    "        \n",
    "        #accuracy scores\n",
    "        acc_LRel_he_sig[i,j] = accuracy_score(z_test,z_pred_he_sig)\n",
    "        acc_LRel_xav_sig[i,j] = accuracy_score(z_test,z_pred_xav_sig)\n",
    "        \n",
    "        acc_LRel_xav_tanh[i,j] = accuracy_score(t_test,z_pred_xav_tanh)\n",
    "        acc_LRel_he_tanh[i,j] = accuracy_score(t_test,z_pred_he_tanh)\n",
    "        \n",
    "        \n",
    "df_grid_LRel_he_sig = pd.DataFrame(acc_LRel_he_sig, index = n_layers_list, columns = n_neurons_list)\n",
    "df_grid_LRel_he_tanh = pd.DataFrame(acc_LRel_he_tanh, index = n_layers_list, columns = n_neurons_list)\n",
    "df_grid_LRel_xav_sig = pd.DataFrame(acc_LRel_xav_sig, index = n_layers_list, columns = n_neurons_list)\n",
    "df_grid_LRel_xav_tanh = pd.DataFrame(acc_LRel_xav_tanh, index = n_layers_list, columns = n_neurons_list)"
   ]
  },
  {
   "cell_type": "code",
   "execution_count": 78,
   "id": "8aa13892",
   "metadata": {},
   "outputs": [
    {
     "name": "stdout",
     "output_type": "stream",
     "text": [
      "10    0.938596\n",
      "20    0.947368\n",
      "30    0.947368\n",
      "40    0.938596\n",
      "50    0.929825\n",
      "dtype: float64\n"
     ]
    },
    {
     "data": {
      "text/plain": [
       "(2, 20)"
      ]
     },
     "execution_count": 78,
     "metadata": {},
     "output_type": "execute_result"
    }
   ],
   "source": [
    "print(df_grid_LRel_he_sig.max())\n",
    "df_grid_LRel_he_sig.stack().index[np.argmax(df_grid_LRel_he_sig.values)] #(layers,neurons)\n"
   ]
  },
  {
   "cell_type": "code",
   "execution_count": 79,
   "id": "150d271d",
   "metadata": {},
   "outputs": [
    {
     "data": {
      "text/plain": [
       "(2, 20)"
      ]
     },
     "execution_count": 79,
     "metadata": {},
     "output_type": "execute_result"
    }
   ],
   "source": [
    "df_grid_LRel_he_tanh.max()\n",
    "df_grid_LRel_he_tanh.stack().index[np.argmax(df_grid_LRel_he_tanh.values)] #(layers,neurons)\n"
   ]
  },
  {
   "cell_type": "code",
   "execution_count": 80,
   "id": "c0587061",
   "metadata": {},
   "outputs": [
    {
     "data": {
      "text/plain": [
       "(3, 30)"
      ]
     },
     "execution_count": 80,
     "metadata": {},
     "output_type": "execute_result"
    }
   ],
   "source": [
    "df_grid_LRel_xav_sig.max()\n",
    "df_grid_LRel_xav_sig.stack().index[np.argmax(df_grid_LRel_xav_sig.values)] #(layers,neurons)\n"
   ]
  },
  {
   "cell_type": "code",
   "execution_count": 81,
   "id": "0b1a0456",
   "metadata": {
    "scrolled": true
   },
   "outputs": [
    {
     "data": {
      "text/plain": [
       "(1, 40)"
      ]
     },
     "execution_count": 81,
     "metadata": {},
     "output_type": "execute_result"
    }
   ],
   "source": [
    "df_grid_LRel_xav_tanh.max()\n",
    "df_grid_LRel_xav_tanh.stack().index[np.argmax(df_grid_LRel_xav_tanh.values)] #(layers,neurons)"
   ]
  },
  {
   "cell_type": "markdown",
   "id": "d4ce5f57",
   "metadata": {},
   "source": [
    "Layers and neurons for LRELU activation function"
   ]
  },
  {
   "cell_type": "code",
   "execution_count": 82,
   "id": "919fb8cb",
   "metadata": {},
   "outputs": [],
   "source": [
    "brain_LRel_xav_sig = [3,30]\n",
    "brain_LRel_he_sig = [2,20]\n",
    "brain_LRel_xav_tanh = [1,40]\n",
    "brain_LRel_he_tanh = [2,20]"
   ]
  },
  {
   "cell_type": "markdown",
   "id": "c79f0130",
   "metadata": {},
   "source": [
    "# Now that all parameters are tuned drumroll, the convergence test over number of epochs"
   ]
  },
  {
   "cell_type": "code",
   "execution_count": 83,
   "id": "0e86ed08",
   "metadata": {},
   "outputs": [],
   "source": [
    "\n",
    "\n",
    "n_epochs = np.arange(1,101,1)\n",
    "\n",
    "\n",
    "\n",
    "#Sigmoid cost scores\n",
    "acc_sig_xav_sig = np.zeros((len(n_epochs+1)))\n",
    "acc_sig_xav_tanh =np.zeros((len(n_epochs+1)))\n",
    "acc_sig_he_sig = np.zeros((len(n_epochs+1)))\n",
    "acc_sig_he_tanh = np.zeros((len(n_epochs+1)))\n",
    "\n",
    "# tanh cost scores\n",
    "acc_tanh_xav_sig = np.zeros((len(n_epochs+1)))\n",
    "acc_tanh_xav_tanh = np.zeros((len(n_epochs+1)))\n",
    "acc_tanh_he_sig = np.zeros((len(n_epochs+1)))\n",
    "acc_tanh_he_tanh= np.zeros((len(n_epochs+1)))\n",
    "\n",
    "# Relu cost scores\n",
    "acc_Rel_xav_sig = np.zeros((len(n_epochs+1)))\n",
    "acc_Rel_xav_tanh = np.zeros((len(n_epochs+1)))\n",
    "acc_Rel_he_sig =np.zeros((len(n_epochs+1)))\n",
    "acc_Rel_he_tanh = np.zeros((len(n_epochs+1)))\n",
    "#Leaky Relu cost scores\n",
    "acc_LRel_xav_sig = np.zeros((len(n_epochs+1)))\n",
    "acc_LRel_xav_tanh = np.zeros((len(n_epochs+1)))\n",
    "acc_LRel_he_sig = np.zeros((len(n_epochs+1)))\n",
    "acc_LRel_he_tanh = np.zeros((len(n_epochs+1)))\n"
   ]
  },
  {
   "cell_type": "markdown",
   "id": "bb290709",
   "metadata": {},
   "source": [
    "# Sigmoid"
   ]
  },
  {
   "cell_type": "code",
   "execution_count": 87,
   "id": "c5bf4fd7",
   "metadata": {},
   "outputs": [],
   "source": [
    "\n",
    "\n",
    "\n",
    "np.random.seed(653)\n",
    "\n",
    "brain_sig_xav_sig = [4,10] #layers, neurons\n",
    "brain_sig_he_sig = [2,40]\n",
    "brain_sig_xav_tanh = [1,40] #layers, neurons\n",
    "brain_sig_he_tanh = [1,10]\n",
    "for i in range(len(n_epochs)):\n",
    "    k = n_epochs[i]\n",
    "   #resetting neural network for each itteration\n",
    "    NN_sig_xav_sig = NN(X_train,X_test,z_train,z_test,4,10,act_1,n_outputs,innit_1,cls,out_func)\n",
    "    NN_sig_he_sig = NN(X_train,X_test,z_train,z_test,2,40,act_1,n_outputs,innit_2,cls,out_func)\n",
    "    NN_sig_xav_tanh = NN(A_train,A_test,t_train,t_test,1,40,act_1,n_outputs,innit_1,cls,out_func_2)\n",
    "    NN_sig_he_tanh = NN(A_train,A_test,t_train,t_test,1,10,act_1,n_outputs,innit_2,cls,out_func_2) # resett the neural network\n",
    "        #training nerual network\n",
    "    NN_sig_xav_sig.train_nn(k,batch_size,eta_sig_xav_sig,lmb_sig_xav_sig)\n",
    "    NN_sig_he_sig.train_nn(k,batch_size,eta_sig_he_sig,lmb_sig_he_sig)\n",
    "    NN_sig_xav_tanh.train_nn(k,batch_size,eta_sig_xav_tanh,lmb_sig_xav_tanh)\n",
    "    NN_sig_he_tanh.train_nn(k,batch_size,eta_sig_he_tanh,lmb_sig_he_tanh)\n",
    "        \n",
    "    #Predictions\n",
    "    z_pred_xav_sig = NN_sig_xav_sig.predict(X_test)\n",
    "    z_pred_he_sig = NN_sig_he_sig.predict(X_test)\n",
    "    z_pred_xav_tanh = NN_sig_xav_tanh.predict(A_test)\n",
    "    z_pred_he_tanh = NN_sig_he_tanh.predict(A_test)\n",
    "        \n",
    "        #accuracy scores\n",
    "    acc_sig_he_sig[i] = accuracy_score(z_test,z_pred_he_sig)\n",
    "    acc_sig_xav_sig[i] = accuracy_score(z_test,z_pred_xav_sig)\n",
    "        \n",
    "    acc_sig_xav_tanh[i] = accuracy_score(t_test,z_pred_xav_tanh)\n",
    "    acc_sig_he_tanh[i] = accuracy_score(t_test,z_pred_he_tanh)"
   ]
  },
  {
   "cell_type": "markdown",
   "id": "34b443fd",
   "metadata": {},
   "source": [
    " # tanh"
   ]
  },
  {
   "cell_type": "code",
   "execution_count": 88,
   "id": "6f823b2e",
   "metadata": {},
   "outputs": [],
   "source": [
    "\n",
    "brain_tanh_xav_sig = [2,40]\n",
    "brain_tanh_he_sig = [3,50]\n",
    "brain_tanh_xav_tanh = [1,50]\n",
    "brain_tanh_he_tanh = [4,50]\n",
    "np.random.seed(653)\n",
    "for i in range(len(n_epochs)):\n",
    "    k = n_epochs[i]\n",
    "    NN_tanh_xav_sig = NN(X_train,X_test,z_train,z_test,2,40,act_2,n_outputs,innit_1,cls,out_func)\n",
    "    NN_tanh_he_sig = NN(X_train,X_test,z_train,z_test,3,50,act_2,n_outputs,innit_2,cls,out_func)\n",
    "    NN_tanh_xav_tanh = NN(A_train,A_test,t_train,t_test,1,50,act_2,n_outputs,innit_1,cls,out_func_2)\n",
    "    NN_tanh_he_tanh = NN(A_train,A_test,t_train,t_test,4,50,act_2,n_outputs,innit_2,cls,out_func_2)\n",
    "    #training nerual network\n",
    "    NN_tanh_xav_sig.train_nn(k,batch_size,eta_tanh_xav_sig,lmb_tanh_xav_sig)\n",
    "    NN_tanh_he_sig.train_nn(k,batch_size,eta_tanh_he_sig,lmb_tanh_he_sig)\n",
    "    NN_tanh_xav_tanh.train_nn(k,batch_size,eta_tanh_xav_tanh,lmb_tanh_xav_tanh)\n",
    "    NN_tanh_he_tanh.train_nn(k,batch_size,eta_tanh_he_tanh,lmb_tanh_he_tanh)\n",
    "\n",
    "    #Predictions\n",
    "    z_pred_xav_sig = NN_tanh_xav_sig.predict(X_test)\n",
    "    z_pred_he_sig = NN_tanh_he_sig.predict(X_test)\n",
    "    z_pred_xav_tanh = NN_tanh_xav_tanh.predict(A_test)\n",
    "    z_pred_he_tanh = NN_tanh_he_tanh.predict(A_test)\n",
    "\n",
    "    #accuracy scores\n",
    "    acc_tanh_he_sig[i] = accuracy_score(z_test,z_pred_he_sig)\n",
    "    acc_tanh_xav_sig[i] = accuracy_score(z_test,z_pred_xav_sig)\n",
    "\n",
    "    acc_tanh_xav_tanh[i] = accuracy_score(t_test,z_pred_xav_tanh)\n",
    "    acc_tanh_he_tanh[i] = accuracy_score(t_test,z_pred_he_tanh)\n"
   ]
  },
  {
   "cell_type": "markdown",
   "id": "83c5eb6e",
   "metadata": {},
   "source": [
    "# RELU"
   ]
  },
  {
   "cell_type": "code",
   "execution_count": 89,
   "id": "3a07c587",
   "metadata": {},
   "outputs": [],
   "source": [
    "np.random.seed(653)\n",
    "brain_Rel_xav_sig = [3,30]\n",
    "brain_Rel_he_sig = [2,20]\n",
    "brain_Rel_xav_tanh = [1,40]\n",
    "brain_Rel_he_tanh = [2,20]\n",
    "for i in range(len(n_epochs)):\n",
    "    k = n_epochs[i]\n",
    "    NN_Rel_xav_sig = NN(X_train,X_test,z_train,z_test,3,30,act_3,n_outputs,innit_1,cls,out_func)\n",
    "    NN_Rel_he_sig = NN(X_train,X_test,z_train,z_test,2,20,act_3,n_outputs,innit_2,cls,out_func)\n",
    "    NN_Rel_xav_tanh = NN(A_train,A_test,t_train,t_test,1,40,act_3,n_outputs,innit_1,cls,out_func_2)\n",
    "    NN_Rel_he_tanh = NN(A_train,A_test,t_train,t_test,2,20,act_3,n_outputs,innit_2,cls,out_func_2)\n",
    "\n",
    "    NN_Rel_xav_sig.train_nn(k,batch_size,eta_Rel_xav_sig,lmb_Rel_xav_sig)\n",
    "    NN_Rel_he_sig.train_nn(k,batch_size,eta_Rel_he_sig,lmb_Rel_he_sig)\n",
    "    NN_Rel_xav_tanh.train_nn(k,batch_size,eta_Rel_xav_tanh,lmb_Rel_xav_tanh)\n",
    "    NN_Rel_he_tanh.train_nn(k,batch_size,eta_Rel_he_tanh,lmb_Rel_he_tanh)\n",
    "\n",
    "    #Predictions\n",
    "    z_pred_xav_sig = NN_Rel_xav_sig.predict(X_test)\n",
    "    z_pred_he_sig = NN_Rel_he_sig.predict(X_test)\n",
    "    z_pred_xav_tanh = NN_Rel_xav_tanh.predict(A_test)\n",
    "    z_pred_he_tanh = NN_Rel_he_tanh.predict(A_test)\n",
    "\n",
    "    #accuracy scores\n",
    "    acc_Rel_he_sig[i] = accuracy_score(z_test,z_pred_he_sig)\n",
    "    acc_Rel_xav_sig[i] = accuracy_score(z_test,z_pred_xav_sig)\n",
    "\n",
    "    acc_Rel_xav_tanh[i] = accuracy_score(t_test,z_pred_xav_tanh)\n",
    "    acc_Rel_he_tanh[i] = accuracy_score(t_test,z_pred_he_tanh)"
   ]
  },
  {
   "cell_type": "markdown",
   "id": "e34f4660",
   "metadata": {},
   "source": [
    "# Leaky RELU"
   ]
  },
  {
   "cell_type": "code",
   "execution_count": 90,
   "id": "131a5659",
   "metadata": {},
   "outputs": [],
   "source": [
    "np.random.seed(653)\n",
    "brain_LRel_xav_sig = [3,30]\n",
    "brain_LRel_he_sig = [2,20]\n",
    "brain_LRel_xav_tanh = [1,40]\n",
    "brain_LRel_he_tanh = [2,20]\n",
    "for i in range(len(n_epochs)):\n",
    "    k = n_epochs[i]\n",
    "    NN_LRel_xav_sig = NN(X_train,X_test,z_train,z_test,3,30,act_4,n_outputs,innit_1,cls,out_func)\n",
    "    NN_LRel_he_sig = NN(X_train,X_test,z_train,z_test,2,20,act_4,n_outputs,innit_2,cls,out_func)\n",
    "    NN_LRel_xav_tanh = NN(A_train,A_test,t_train,t_test,1,40,act_4,n_outputs,innit_1,cls,out_func_2)\n",
    "    NN_LRel_he_tanh = NN(A_train,A_test,t_train,t_test,2,20,act_4,n_outputs,innit_2,cls,out_func_2)\n",
    "\n",
    "\n",
    "    NN_LRel_xav_sig.train_nn(k,batch_size,eta_LRel_xav_sig,lmb_LRel_xav_sig)\n",
    "    NN_LRel_he_sig.train_nn(k,batch_size,eta_LRel_he_sig,lmb_LRel_he_sig)\n",
    "    NN_LRel_xav_tanh.train_nn(k,batch_size,eta_LRel_xav_tanh,lmb_LRel_xav_tanh)\n",
    "    NN_LRel_he_tanh.train_nn(k,batch_size,eta_LRel_he_tanh,lmb_LRel_he_tanh)\n",
    "\n",
    "    #Predictions\n",
    "    z_pred_xav_sig = NN_LRel_xav_sig.predict(X_test)\n",
    "    z_pred_he_sig = NN_LRel_he_sig.predict(X_test)\n",
    "    z_pred_xav_tanh = NN_LRel_xav_tanh.predict(A_test)\n",
    "    z_pred_he_tanh = NN_LRel_he_tanh.predict(A_test)\n",
    "\n",
    "    #accuracy scores\n",
    "    acc_LRel_he_sig[i] = accuracy_score(z_test,z_pred_he_sig)\n",
    "    acc_LRel_xav_sig[i] = accuracy_score(z_test,z_pred_xav_sig)\n",
    "\n",
    "    acc_LRel_xav_tanh[i] = accuracy_score(t_test,z_pred_xav_tanh)\n",
    "    acc_LRel_he_tanh[i] = accuracy_score(t_test,z_pred_he_tanh)"
   ]
  },
  {
   "cell_type": "code",
   "execution_count": 91,
   "id": "28d01f09",
   "metadata": {},
   "outputs": [
    {
     "name": "stdout",
     "output_type": "stream",
     "text": [
      "<generator object avg at 0x0000014E1865C4A0>\n"
     ]
    }
   ],
   "source": [
    "LEN = 10\n",
    "\n",
    "def avg(data):\n",
    "    datasum = cnt = 0 \n",
    "    for num in data:\n",
    "        datasum += num\n",
    "        cnt += 1\n",
    "        if cnt == LEN: \n",
    "            yield datasum / LEN\n",
    "            datasum = cnt = 0 \n",
    "    if cnt: \n",
    "        yield datasum / cnt\n",
    "print(avg(acc_LRel_he_sig))"
   ]
  },
  {
   "cell_type": "code",
   "execution_count": 106,
   "id": "4c92f28c",
   "metadata": {
    "scrolled": false
   },
   "outputs": [
    {
     "data": {
      "image/png": "[encoded data removed]",
      "text/plain": [
       "<Figure size 432x288 with 1 Axes>"
      ]
     },
     "metadata": {
      "needs_background": "light"
     },
     "output_type": "display_data"
    }
   ],
   "source": [
    "#plt.plot(n_epochs, acc_sig_he_sig, label='sigmoid & He')\n",
    "#plt.plot(n_epochs, acc_sig_xav_sig, label='Sigmoid & Xav')\n",
    "#plt.plot(n_epochs, acc_tanh_he_sig, label='tanh & He')\n",
    "#plt.plot(n_epochs, acc_tanh_xav_sig, label='tanh & Xav')\n",
    "plt.plot(n_epochs,acc_Rel_he_sig, label='Relu & He')\n",
    "#plt.plot(n_epochs, acc_Rel_xav_sig, label='Relu & Xav')\n",
    "plt.plot(n_epochs, acc_LRel_he_sig, label='LRelu & He')\n",
    "#plt.plot(n_epochs, acc_LRel_xav_sig, label='LRelu & Xav')\n",
    "plt.legend()\n",
    "plt.xlabel(\"n_epochs\")\n",
    "plt.ylabel(\"accuracy\")\n",
    "\n",
    "plt.ylim(0.9,1)\n",
    "plt.title(\"accurucy sigmoid output function\")\n",
    "plt.show()\n",
    "\n"
   ]
  },
  {
   "cell_type": "code",
   "execution_count": 93,
   "id": "0ad83845",
   "metadata": {},
   "outputs": [
    {
     "name": "stdout",
     "output_type": "stream",
     "text": [
      "0.6897368421052632\n",
      "0.9187719298245611\n"
     ]
    }
   ],
   "source": [
    "print(acc_sig_xav_sig.mean())\n",
    "print(acc_sig_he_sig.mean())"
   ]
  },
  {
   "cell_type": "code",
   "execution_count": 94,
   "id": "a9d8415b",
   "metadata": {},
   "outputs": [
    {
     "name": "stdout",
     "output_type": "stream",
     "text": [
      "0.7985964912280701\n",
      "0.8425438596491226\n"
     ]
    }
   ],
   "source": [
    "print(acc_tanh_xav_sig.mean())\n",
    "print(acc_tanh_he_sig.mean())"
   ]
  },
  {
   "cell_type": "code",
   "execution_count": 95,
   "id": "6e83521b",
   "metadata": {
    "scrolled": true
   },
   "outputs": [
    {
     "name": "stdout",
     "output_type": "stream",
     "text": [
      "0.900877192982456\n",
      "0.9355263157894735\n",
      "2\n"
     ]
    }
   ],
   "source": [
    "print(acc_Rel_xav_sig.mean())\n",
    "print(acc_Rel_he_sig.mean())\n",
    "print(np.argmax(acc_Rel_he_sig))"
   ]
  },
  {
   "cell_type": "code",
   "execution_count": 96,
   "id": "2a937c7d",
   "metadata": {},
   "outputs": [
    {
     "name": "stdout",
     "output_type": "stream",
     "text": [
      "0.9014035087719298\n",
      "0.9355263157894735\n",
      "2\n"
     ]
    }
   ],
   "source": [
    "print(acc_LRel_xav_sig.mean())\n",
    "print(acc_LRel_he_sig.mean())\n",
    "print(np.argmax(acc_LRel_he_sig))"
   ]
  },
  {
   "cell_type": "code",
   "execution_count": 116,
   "id": "7c88ca8d",
   "metadata": {
    "scrolled": true
   },
   "outputs": [
    {
     "data": {
      "image/png": "[encoded data removed]",
      "text/plain": [
       "<Figure size 432x288 with 1 Axes>"
      ]
     },
     "metadata": {
      "needs_background": "light"
     },
     "output_type": "display_data"
    }
   ],
   "source": [
    "plt.plot(n_epochs, acc_sig_he_tanh, label='sigmoid & He')\n",
    "plt.plot(n_epochs, acc_sig_xav_tanh, label='Sigmoid & Xav')\n",
    "#plt.plot(n_epochs, acc_tanh_he_tanh, label='tanh & He')\n",
    "#plt.plot(n_epochs, acc_tanh_xav_tanh, label='tanh & Xav')\n",
    "#plt.plot(n_epochs,acc_Rel_he_tanh, label='Relu & He')\n",
    "#plt.plot(n_epochs, acc_Rel_xav_tanh, label='Relu & Xav')\n",
    "#plt.plot(n_epochs, acc_LRel_he_tanh, label='LRelu & He')\n",
    "#plt.plot(n_epochs, acc_LRel_xav_tanh, label='LRelu & Xav')\n",
    "plt.legend()\n",
    "plt.xlabel(\"n_epochs\")\n",
    "plt.ylabel(\"accuracy\")\n",
    "plt.ylim(0.8,1)\n",
    "plt.title(\"accurucy tanh output function\")\n",
    "plt.show()\n"
   ]
  },
  {
   "cell_type": "code",
   "execution_count": 107,
   "id": "da8373a7",
   "metadata": {
    "scrolled": true
   },
   "outputs": [
    {
     "name": "stdout",
     "output_type": "stream",
     "text": [
      "0.928157894736842\n",
      "0.9280701754385965\n",
      "9\n"
     ]
    }
   ],
   "source": [
    "print(acc_sig_xav_tanh.mean())\n",
    "print(acc_sig_he_tanh.mean())\n",
    "print(np.argmax(acc_sig_he_tanh))"
   ]
  },
  {
   "cell_type": "code",
   "execution_count": 113,
   "id": "ec216827",
   "metadata": {},
   "outputs": [
    {
     "name": "stdout",
     "output_type": "stream",
     "text": [
      "0.8414912280701753\n",
      "0.8988596491228068\n",
      "46\n"
     ]
    }
   ],
   "source": [
    "print(acc_tanh_xav_tanh.mean())\n",
    "print(acc_tanh_he_tanh.mean())\n",
    "print(np.argmax(acc_tanh_he_tanh))"
   ]
  },
  {
   "cell_type": "code",
   "execution_count": 114,
   "id": "c668e219",
   "metadata": {},
   "outputs": [
    {
     "name": "stdout",
     "output_type": "stream",
     "text": [
      "0.9237719298245612\n",
      "0.9242105263157895\n",
      "30\n"
     ]
    }
   ],
   "source": [
    "print(acc_Rel_xav_tanh.mean())\n",
    "print(acc_Rel_he_tanh.mean())\n",
    "print(np.argmax(acc_Rel_he_tanh))"
   ]
  },
  {
   "cell_type": "code",
   "execution_count": 115,
   "id": "1175ca4a",
   "metadata": {},
   "outputs": [
    {
     "name": "stdout",
     "output_type": "stream",
     "text": [
      "0.9237719298245612\n",
      "0.9245614035087719\n",
      "30\n"
     ]
    }
   ],
   "source": [
    "print(acc_LRel_xav_tanh.mean())\n",
    "print(acc_LRel_he_tanh.mean())\n",
    "print(np.argmax(acc_LRel_he_tanh))"
   ]
  },
  {
   "cell_type": "markdown",
   "id": "2e901fd4",
   "metadata": {},
   "source": [
    "# Comparing now with scikit "
   ]
  },
  {
   "cell_type": "markdown",
   "id": "7e9c1527",
   "metadata": {},
   "source": [
    "Since Sigmoid underperformed the comparison will be between tanh and Relu of our own network vs that of scikit. "
   ]
  },
  {
   "cell_type": "code",
   "execution_count": 102,
   "id": "c39c8fcd",
   "metadata": {},
   "outputs": [],
   "source": [
    "from sklearn.neural_network import MLPClassifier"
   ]
  },
  {
   "cell_type": "code",
   "execution_count": 103,
   "id": "b54d9092",
   "metadata": {},
   "outputs": [
    {
     "name": "stderr",
     "output_type": "stream",
     "text": [
      "C:\\Users\\Lasse\\Anaconda3\\lib\\site-packages\\sklearn\\neural_network\\_multilayer_perceptron.py:614: ConvergenceWarning: Stochastic Optimizer: Maximum iterations (1) reached and the optimization hasn't converged yet.\n",
      "  warnings.warn(\n",
      "C:\\Users\\Lasse\\Anaconda3\\lib\\site-packages\\sklearn\\neural_network\\_multilayer_perceptron.py:614: ConvergenceWarning: Stochastic Optimizer: Maximum iterations (1) reached and the optimization hasn't converged yet.\n",
      "  warnings.warn(\n",
      "C:\\Users\\Lasse\\Anaconda3\\lib\\site-packages\\sklearn\\neural_network\\_multilayer_perceptron.py:614: ConvergenceWarning: Stochastic Optimizer: Maximum iterations (2) reached and the optimization hasn't converged yet.\n",
      "  warnings.warn(\n",
      "C:\\Users\\Lasse\\Anaconda3\\lib\\site-packages\\sklearn\\neural_network\\_multilayer_perceptron.py:614: ConvergenceWarning: Stochastic Optimizer: Maximum iterations (2) reached and the optimization hasn't converged yet.\n",
      "  warnings.warn(\n",
      "C:\\Users\\Lasse\\Anaconda3\\lib\\site-packages\\sklearn\\neural_network\\_multilayer_perceptron.py:614: ConvergenceWarning: Stochastic Optimizer: Maximum iterations (3) reached and the optimization hasn't converged yet.\n",
      "  warnings.warn(\n",
      "C:\\Users\\Lasse\\Anaconda3\\lib\\site-packages\\sklearn\\neural_network\\_multilayer_perceptron.py:614: ConvergenceWarning: Stochastic Optimizer: Maximum iterations (3) reached and the optimization hasn't converged yet.\n",
      "  warnings.warn(\n",
      "C:\\Users\\Lasse\\Anaconda3\\lib\\site-packages\\sklearn\\neural_network\\_multilayer_perceptron.py:614: ConvergenceWarning: Stochastic Optimizer: Maximum iterations (4) reached and the optimization hasn't converged yet.\n",
      "  warnings.warn(\n",
      "C:\\Users\\Lasse\\Anaconda3\\lib\\site-packages\\sklearn\\neural_network\\_multilayer_perceptron.py:614: ConvergenceWarning: Stochastic Optimizer: Maximum iterations (4) reached and the optimization hasn't converged yet.\n",
      "  warnings.warn(\n",
      "C:\\Users\\Lasse\\Anaconda3\\lib\\site-packages\\sklearn\\neural_network\\_multilayer_perceptron.py:614: ConvergenceWarning: Stochastic Optimizer: Maximum iterations (5) reached and the optimization hasn't converged yet.\n",
      "  warnings.warn(\n",
      "C:\\Users\\Lasse\\Anaconda3\\lib\\site-packages\\sklearn\\neural_network\\_multilayer_perceptron.py:614: ConvergenceWarning: Stochastic Optimizer: Maximum iterations (5) reached and the optimization hasn't converged yet.\n",
      "  warnings.warn(\n",
      "C:\\Users\\Lasse\\Anaconda3\\lib\\site-packages\\sklearn\\neural_network\\_multilayer_perceptron.py:614: ConvergenceWarning: Stochastic Optimizer: Maximum iterations (6) reached and the optimization hasn't converged yet.\n",
      "  warnings.warn(\n",
      "C:\\Users\\Lasse\\Anaconda3\\lib\\site-packages\\sklearn\\neural_network\\_multilayer_perceptron.py:614: ConvergenceWarning: Stochastic Optimizer: Maximum iterations (6) reached and the optimization hasn't converged yet.\n",
      "  warnings.warn(\n",
      "C:\\Users\\Lasse\\Anaconda3\\lib\\site-packages\\sklearn\\neural_network\\_multilayer_perceptron.py:614: ConvergenceWarning: Stochastic Optimizer: Maximum iterations (7) reached and the optimization hasn't converged yet.\n",
      "  warnings.warn(\n",
      "C:\\Users\\Lasse\\Anaconda3\\lib\\site-packages\\sklearn\\neural_network\\_multilayer_perceptron.py:614: ConvergenceWarning: Stochastic Optimizer: Maximum iterations (7) reached and the optimization hasn't converged yet.\n",
      "  warnings.warn(\n",
      "C:\\Users\\Lasse\\Anaconda3\\lib\\site-packages\\sklearn\\neural_network\\_multilayer_perceptron.py:614: ConvergenceWarning: Stochastic Optimizer: Maximum iterations (8) reached and the optimization hasn't converged yet.\n",
      "  warnings.warn(\n",
      "C:\\Users\\Lasse\\Anaconda3\\lib\\site-packages\\sklearn\\neural_network\\_multilayer_perceptron.py:614: ConvergenceWarning: Stochastic Optimizer: Maximum iterations (8) reached and the optimization hasn't converged yet.\n",
      "  warnings.warn(\n",
      "C:\\Users\\Lasse\\Anaconda3\\lib\\site-packages\\sklearn\\neural_network\\_multilayer_perceptron.py:614: ConvergenceWarning: Stochastic Optimizer: Maximum iterations (9) reached and the optimization hasn't converged yet.\n",
      "  warnings.warn(\n",
      "C:\\Users\\Lasse\\Anaconda3\\lib\\site-packages\\sklearn\\neural_network\\_multilayer_perceptron.py:614: ConvergenceWarning: Stochastic Optimizer: Maximum iterations (9) reached and the optimization hasn't converged yet.\n",
      "  warnings.warn(\n",
      "C:\\Users\\Lasse\\Anaconda3\\lib\\site-packages\\sklearn\\neural_network\\_multilayer_perceptron.py:614: ConvergenceWarning: Stochastic Optimizer: Maximum iterations (10) reached and the optimization hasn't converged yet.\n",
      "  warnings.warn(\n",
      "C:\\Users\\Lasse\\Anaconda3\\lib\\site-packages\\sklearn\\neural_network\\_multilayer_perceptron.py:614: ConvergenceWarning: Stochastic Optimizer: Maximum iterations (10) reached and the optimization hasn't converged yet.\n",
      "  warnings.warn(\n",
      "C:\\Users\\Lasse\\Anaconda3\\lib\\site-packages\\sklearn\\neural_network\\_multilayer_perceptron.py:614: ConvergenceWarning: Stochastic Optimizer: Maximum iterations (11) reached and the optimization hasn't converged yet.\n",
      "  warnings.warn(\n",
      "C:\\Users\\Lasse\\Anaconda3\\lib\\site-packages\\sklearn\\neural_network\\_multilayer_perceptron.py:614: ConvergenceWarning: Stochastic Optimizer: Maximum iterations (11) reached and the optimization hasn't converged yet.\n",
      "  warnings.warn(\n",
      "C:\\Users\\Lasse\\Anaconda3\\lib\\site-packages\\sklearn\\neural_network\\_multilayer_perceptron.py:614: ConvergenceWarning: Stochastic Optimizer: Maximum iterations (12) reached and the optimization hasn't converged yet.\n",
      "  warnings.warn(\n",
      "C:\\Users\\Lasse\\Anaconda3\\lib\\site-packages\\sklearn\\neural_network\\_multilayer_perceptron.py:614: ConvergenceWarning: Stochastic Optimizer: Maximum iterations (12) reached and the optimization hasn't converged yet.\n",
      "  warnings.warn(\n",
      "C:\\Users\\Lasse\\Anaconda3\\lib\\site-packages\\sklearn\\neural_network\\_multilayer_perceptron.py:614: ConvergenceWarning: Stochastic Optimizer: Maximum iterations (13) reached and the optimization hasn't converged yet.\n",
      "  warnings.warn(\n",
      "C:\\Users\\Lasse\\Anaconda3\\lib\\site-packages\\sklearn\\neural_network\\_multilayer_perceptron.py:614: ConvergenceWarning: Stochastic Optimizer: Maximum iterations (13) reached and the optimization hasn't converged yet.\n",
      "  warnings.warn(\n",
      "C:\\Users\\Lasse\\Anaconda3\\lib\\site-packages\\sklearn\\neural_network\\_multilayer_perceptron.py:614: ConvergenceWarning: Stochastic Optimizer: Maximum iterations (14) reached and the optimization hasn't converged yet.\n",
      "  warnings.warn(\n",
      "C:\\Users\\Lasse\\Anaconda3\\lib\\site-packages\\sklearn\\neural_network\\_multilayer_perceptron.py:614: ConvergenceWarning: Stochastic Optimizer: Maximum iterations (14) reached and the optimization hasn't converged yet.\n",
      "  warnings.warn(\n",
      "C:\\Users\\Lasse\\Anaconda3\\lib\\site-packages\\sklearn\\neural_network\\_multilayer_perceptron.py:614: ConvergenceWarning: Stochastic Optimizer: Maximum iterations (15) reached and the optimization hasn't converged yet.\n",
      "  warnings.warn(\n",
      "C:\\Users\\Lasse\\Anaconda3\\lib\\site-packages\\sklearn\\neural_network\\_multilayer_perceptron.py:614: ConvergenceWarning: Stochastic Optimizer: Maximum iterations (15) reached and the optimization hasn't converged yet.\n",
      "  warnings.warn(\n",
      "C:\\Users\\Lasse\\Anaconda3\\lib\\site-packages\\sklearn\\neural_network\\_multilayer_perceptron.py:614: ConvergenceWarning: Stochastic Optimizer: Maximum iterations (16) reached and the optimization hasn't converged yet.\n",
      "  warnings.warn(\n",
      "C:\\Users\\Lasse\\Anaconda3\\lib\\site-packages\\sklearn\\neural_network\\_multilayer_perceptron.py:614: ConvergenceWarning: Stochastic Optimizer: Maximum iterations (16) reached and the optimization hasn't converged yet.\n",
      "  warnings.warn(\n",
      "C:\\Users\\Lasse\\Anaconda3\\lib\\site-packages\\sklearn\\neural_network\\_multilayer_perceptron.py:614: ConvergenceWarning: Stochastic Optimizer: Maximum iterations (17) reached and the optimization hasn't converged yet.\n",
      "  warnings.warn(\n",
      "C:\\Users\\Lasse\\Anaconda3\\lib\\site-packages\\sklearn\\neural_network\\_multilayer_perceptron.py:614: ConvergenceWarning: Stochastic Optimizer: Maximum iterations (17) reached and the optimization hasn't converged yet.\n",
      "  warnings.warn(\n",
      "C:\\Users\\Lasse\\Anaconda3\\lib\\site-packages\\sklearn\\neural_network\\_multilayer_perceptron.py:614: ConvergenceWarning: Stochastic Optimizer: Maximum iterations (18) reached and the optimization hasn't converged yet.\n",
      "  warnings.warn(\n",
      "C:\\Users\\Lasse\\Anaconda3\\lib\\site-packages\\sklearn\\neural_network\\_multilayer_perceptron.py:614: ConvergenceWarning: Stochastic Optimizer: Maximum iterations (18) reached and the optimization hasn't converged yet.\n",
      "  warnings.warn(\n"
     ]
    },
    {
     "name": "stderr",
     "output_type": "stream",
     "text": [
      "C:\\Users\\Lasse\\Anaconda3\\lib\\site-packages\\sklearn\\neural_network\\_multilayer_perceptron.py:614: ConvergenceWarning: Stochastic Optimizer: Maximum iterations (19) reached and the optimization hasn't converged yet.\n",
      "  warnings.warn(\n",
      "C:\\Users\\Lasse\\Anaconda3\\lib\\site-packages\\sklearn\\neural_network\\_multilayer_perceptron.py:614: ConvergenceWarning: Stochastic Optimizer: Maximum iterations (19) reached and the optimization hasn't converged yet.\n",
      "  warnings.warn(\n",
      "C:\\Users\\Lasse\\Anaconda3\\lib\\site-packages\\sklearn\\neural_network\\_multilayer_perceptron.py:614: ConvergenceWarning: Stochastic Optimizer: Maximum iterations (20) reached and the optimization hasn't converged yet.\n",
      "  warnings.warn(\n",
      "C:\\Users\\Lasse\\Anaconda3\\lib\\site-packages\\sklearn\\neural_network\\_multilayer_perceptron.py:614: ConvergenceWarning: Stochastic Optimizer: Maximum iterations (20) reached and the optimization hasn't converged yet.\n",
      "  warnings.warn(\n",
      "C:\\Users\\Lasse\\Anaconda3\\lib\\site-packages\\sklearn\\neural_network\\_multilayer_perceptron.py:614: ConvergenceWarning: Stochastic Optimizer: Maximum iterations (21) reached and the optimization hasn't converged yet.\n",
      "  warnings.warn(\n",
      "C:\\Users\\Lasse\\Anaconda3\\lib\\site-packages\\sklearn\\neural_network\\_multilayer_perceptron.py:614: ConvergenceWarning: Stochastic Optimizer: Maximum iterations (21) reached and the optimization hasn't converged yet.\n",
      "  warnings.warn(\n",
      "C:\\Users\\Lasse\\Anaconda3\\lib\\site-packages\\sklearn\\neural_network\\_multilayer_perceptron.py:614: ConvergenceWarning: Stochastic Optimizer: Maximum iterations (22) reached and the optimization hasn't converged yet.\n",
      "  warnings.warn(\n",
      "C:\\Users\\Lasse\\Anaconda3\\lib\\site-packages\\sklearn\\neural_network\\_multilayer_perceptron.py:614: ConvergenceWarning: Stochastic Optimizer: Maximum iterations (22) reached and the optimization hasn't converged yet.\n",
      "  warnings.warn(\n",
      "C:\\Users\\Lasse\\Anaconda3\\lib\\site-packages\\sklearn\\neural_network\\_multilayer_perceptron.py:614: ConvergenceWarning: Stochastic Optimizer: Maximum iterations (23) reached and the optimization hasn't converged yet.\n",
      "  warnings.warn(\n",
      "C:\\Users\\Lasse\\Anaconda3\\lib\\site-packages\\sklearn\\neural_network\\_multilayer_perceptron.py:614: ConvergenceWarning: Stochastic Optimizer: Maximum iterations (23) reached and the optimization hasn't converged yet.\n",
      "  warnings.warn(\n",
      "C:\\Users\\Lasse\\Anaconda3\\lib\\site-packages\\sklearn\\neural_network\\_multilayer_perceptron.py:614: ConvergenceWarning: Stochastic Optimizer: Maximum iterations (24) reached and the optimization hasn't converged yet.\n",
      "  warnings.warn(\n",
      "C:\\Users\\Lasse\\Anaconda3\\lib\\site-packages\\sklearn\\neural_network\\_multilayer_perceptron.py:614: ConvergenceWarning: Stochastic Optimizer: Maximum iterations (24) reached and the optimization hasn't converged yet.\n",
      "  warnings.warn(\n",
      "C:\\Users\\Lasse\\Anaconda3\\lib\\site-packages\\sklearn\\neural_network\\_multilayer_perceptron.py:614: ConvergenceWarning: Stochastic Optimizer: Maximum iterations (25) reached and the optimization hasn't converged yet.\n",
      "  warnings.warn(\n",
      "C:\\Users\\Lasse\\Anaconda3\\lib\\site-packages\\sklearn\\neural_network\\_multilayer_perceptron.py:614: ConvergenceWarning: Stochastic Optimizer: Maximum iterations (25) reached and the optimization hasn't converged yet.\n",
      "  warnings.warn(\n",
      "C:\\Users\\Lasse\\Anaconda3\\lib\\site-packages\\sklearn\\neural_network\\_multilayer_perceptron.py:614: ConvergenceWarning: Stochastic Optimizer: Maximum iterations (26) reached and the optimization hasn't converged yet.\n",
      "  warnings.warn(\n",
      "C:\\Users\\Lasse\\Anaconda3\\lib\\site-packages\\sklearn\\neural_network\\_multilayer_perceptron.py:614: ConvergenceWarning: Stochastic Optimizer: Maximum iterations (26) reached and the optimization hasn't converged yet.\n",
      "  warnings.warn(\n",
      "C:\\Users\\Lasse\\Anaconda3\\lib\\site-packages\\sklearn\\neural_network\\_multilayer_perceptron.py:614: ConvergenceWarning: Stochastic Optimizer: Maximum iterations (27) reached and the optimization hasn't converged yet.\n",
      "  warnings.warn(\n",
      "C:\\Users\\Lasse\\Anaconda3\\lib\\site-packages\\sklearn\\neural_network\\_multilayer_perceptron.py:614: ConvergenceWarning: Stochastic Optimizer: Maximum iterations (27) reached and the optimization hasn't converged yet.\n",
      "  warnings.warn(\n",
      "C:\\Users\\Lasse\\Anaconda3\\lib\\site-packages\\sklearn\\neural_network\\_multilayer_perceptron.py:614: ConvergenceWarning: Stochastic Optimizer: Maximum iterations (28) reached and the optimization hasn't converged yet.\n",
      "  warnings.warn(\n",
      "C:\\Users\\Lasse\\Anaconda3\\lib\\site-packages\\sklearn\\neural_network\\_multilayer_perceptron.py:614: ConvergenceWarning: Stochastic Optimizer: Maximum iterations (28) reached and the optimization hasn't converged yet.\n",
      "  warnings.warn(\n",
      "C:\\Users\\Lasse\\Anaconda3\\lib\\site-packages\\sklearn\\neural_network\\_multilayer_perceptron.py:614: ConvergenceWarning: Stochastic Optimizer: Maximum iterations (29) reached and the optimization hasn't converged yet.\n",
      "  warnings.warn(\n",
      "C:\\Users\\Lasse\\Anaconda3\\lib\\site-packages\\sklearn\\neural_network\\_multilayer_perceptron.py:614: ConvergenceWarning: Stochastic Optimizer: Maximum iterations (29) reached and the optimization hasn't converged yet.\n",
      "  warnings.warn(\n",
      "C:\\Users\\Lasse\\Anaconda3\\lib\\site-packages\\sklearn\\neural_network\\_multilayer_perceptron.py:614: ConvergenceWarning: Stochastic Optimizer: Maximum iterations (30) reached and the optimization hasn't converged yet.\n",
      "  warnings.warn(\n",
      "C:\\Users\\Lasse\\Anaconda3\\lib\\site-packages\\sklearn\\neural_network\\_multilayer_perceptron.py:614: ConvergenceWarning: Stochastic Optimizer: Maximum iterations (30) reached and the optimization hasn't converged yet.\n",
      "  warnings.warn(\n",
      "C:\\Users\\Lasse\\Anaconda3\\lib\\site-packages\\sklearn\\neural_network\\_multilayer_perceptron.py:614: ConvergenceWarning: Stochastic Optimizer: Maximum iterations (31) reached and the optimization hasn't converged yet.\n",
      "  warnings.warn(\n",
      "C:\\Users\\Lasse\\Anaconda3\\lib\\site-packages\\sklearn\\neural_network\\_multilayer_perceptron.py:614: ConvergenceWarning: Stochastic Optimizer: Maximum iterations (31) reached and the optimization hasn't converged yet.\n",
      "  warnings.warn(\n",
      "C:\\Users\\Lasse\\Anaconda3\\lib\\site-packages\\sklearn\\neural_network\\_multilayer_perceptron.py:614: ConvergenceWarning: Stochastic Optimizer: Maximum iterations (32) reached and the optimization hasn't converged yet.\n",
      "  warnings.warn(\n",
      "C:\\Users\\Lasse\\Anaconda3\\lib\\site-packages\\sklearn\\neural_network\\_multilayer_perceptron.py:614: ConvergenceWarning: Stochastic Optimizer: Maximum iterations (32) reached and the optimization hasn't converged yet.\n",
      "  warnings.warn(\n",
      "C:\\Users\\Lasse\\Anaconda3\\lib\\site-packages\\sklearn\\neural_network\\_multilayer_perceptron.py:614: ConvergenceWarning: Stochastic Optimizer: Maximum iterations (33) reached and the optimization hasn't converged yet.\n",
      "  warnings.warn(\n",
      "C:\\Users\\Lasse\\Anaconda3\\lib\\site-packages\\sklearn\\neural_network\\_multilayer_perceptron.py:614: ConvergenceWarning: Stochastic Optimizer: Maximum iterations (33) reached and the optimization hasn't converged yet.\n",
      "  warnings.warn(\n",
      "C:\\Users\\Lasse\\Anaconda3\\lib\\site-packages\\sklearn\\neural_network\\_multilayer_perceptron.py:614: ConvergenceWarning: Stochastic Optimizer: Maximum iterations (34) reached and the optimization hasn't converged yet.\n",
      "  warnings.warn(\n",
      "C:\\Users\\Lasse\\Anaconda3\\lib\\site-packages\\sklearn\\neural_network\\_multilayer_perceptron.py:614: ConvergenceWarning: Stochastic Optimizer: Maximum iterations (34) reached and the optimization hasn't converged yet.\n",
      "  warnings.warn(\n",
      "C:\\Users\\Lasse\\Anaconda3\\lib\\site-packages\\sklearn\\neural_network\\_multilayer_perceptron.py:614: ConvergenceWarning: Stochastic Optimizer: Maximum iterations (35) reached and the optimization hasn't converged yet.\n",
      "  warnings.warn(\n",
      "C:\\Users\\Lasse\\Anaconda3\\lib\\site-packages\\sklearn\\neural_network\\_multilayer_perceptron.py:614: ConvergenceWarning: Stochastic Optimizer: Maximum iterations (35) reached and the optimization hasn't converged yet.\n",
      "  warnings.warn(\n",
      "C:\\Users\\Lasse\\Anaconda3\\lib\\site-packages\\sklearn\\neural_network\\_multilayer_perceptron.py:614: ConvergenceWarning: Stochastic Optimizer: Maximum iterations (36) reached and the optimization hasn't converged yet.\n",
      "  warnings.warn(\n",
      "C:\\Users\\Lasse\\Anaconda3\\lib\\site-packages\\sklearn\\neural_network\\_multilayer_perceptron.py:614: ConvergenceWarning: Stochastic Optimizer: Maximum iterations (36) reached and the optimization hasn't converged yet.\n",
      "  warnings.warn(\n"
     ]
    },
    {
     "name": "stderr",
     "output_type": "stream",
     "text": [
      "C:\\Users\\Lasse\\Anaconda3\\lib\\site-packages\\sklearn\\neural_network\\_multilayer_perceptron.py:614: ConvergenceWarning: Stochastic Optimizer: Maximum iterations (37) reached and the optimization hasn't converged yet.\n",
      "  warnings.warn(\n",
      "C:\\Users\\Lasse\\Anaconda3\\lib\\site-packages\\sklearn\\neural_network\\_multilayer_perceptron.py:614: ConvergenceWarning: Stochastic Optimizer: Maximum iterations (37) reached and the optimization hasn't converged yet.\n",
      "  warnings.warn(\n",
      "C:\\Users\\Lasse\\Anaconda3\\lib\\site-packages\\sklearn\\neural_network\\_multilayer_perceptron.py:614: ConvergenceWarning: Stochastic Optimizer: Maximum iterations (38) reached and the optimization hasn't converged yet.\n",
      "  warnings.warn(\n",
      "C:\\Users\\Lasse\\Anaconda3\\lib\\site-packages\\sklearn\\neural_network\\_multilayer_perceptron.py:614: ConvergenceWarning: Stochastic Optimizer: Maximum iterations (38) reached and the optimization hasn't converged yet.\n",
      "  warnings.warn(\n",
      "C:\\Users\\Lasse\\Anaconda3\\lib\\site-packages\\sklearn\\neural_network\\_multilayer_perceptron.py:614: ConvergenceWarning: Stochastic Optimizer: Maximum iterations (39) reached and the optimization hasn't converged yet.\n",
      "  warnings.warn(\n",
      "C:\\Users\\Lasse\\Anaconda3\\lib\\site-packages\\sklearn\\neural_network\\_multilayer_perceptron.py:614: ConvergenceWarning: Stochastic Optimizer: Maximum iterations (39) reached and the optimization hasn't converged yet.\n",
      "  warnings.warn(\n",
      "C:\\Users\\Lasse\\Anaconda3\\lib\\site-packages\\sklearn\\neural_network\\_multilayer_perceptron.py:614: ConvergenceWarning: Stochastic Optimizer: Maximum iterations (40) reached and the optimization hasn't converged yet.\n",
      "  warnings.warn(\n",
      "C:\\Users\\Lasse\\Anaconda3\\lib\\site-packages\\sklearn\\neural_network\\_multilayer_perceptron.py:614: ConvergenceWarning: Stochastic Optimizer: Maximum iterations (40) reached and the optimization hasn't converged yet.\n",
      "  warnings.warn(\n",
      "C:\\Users\\Lasse\\Anaconda3\\lib\\site-packages\\sklearn\\neural_network\\_multilayer_perceptron.py:614: ConvergenceWarning: Stochastic Optimizer: Maximum iterations (41) reached and the optimization hasn't converged yet.\n",
      "  warnings.warn(\n",
      "C:\\Users\\Lasse\\Anaconda3\\lib\\site-packages\\sklearn\\neural_network\\_multilayer_perceptron.py:614: ConvergenceWarning: Stochastic Optimizer: Maximum iterations (41) reached and the optimization hasn't converged yet.\n",
      "  warnings.warn(\n",
      "C:\\Users\\Lasse\\Anaconda3\\lib\\site-packages\\sklearn\\neural_network\\_multilayer_perceptron.py:614: ConvergenceWarning: Stochastic Optimizer: Maximum iterations (42) reached and the optimization hasn't converged yet.\n",
      "  warnings.warn(\n",
      "C:\\Users\\Lasse\\Anaconda3\\lib\\site-packages\\sklearn\\neural_network\\_multilayer_perceptron.py:614: ConvergenceWarning: Stochastic Optimizer: Maximum iterations (42) reached and the optimization hasn't converged yet.\n",
      "  warnings.warn(\n",
      "C:\\Users\\Lasse\\Anaconda3\\lib\\site-packages\\sklearn\\neural_network\\_multilayer_perceptron.py:614: ConvergenceWarning: Stochastic Optimizer: Maximum iterations (43) reached and the optimization hasn't converged yet.\n",
      "  warnings.warn(\n",
      "C:\\Users\\Lasse\\Anaconda3\\lib\\site-packages\\sklearn\\neural_network\\_multilayer_perceptron.py:614: ConvergenceWarning: Stochastic Optimizer: Maximum iterations (43) reached and the optimization hasn't converged yet.\n",
      "  warnings.warn(\n",
      "C:\\Users\\Lasse\\Anaconda3\\lib\\site-packages\\sklearn\\neural_network\\_multilayer_perceptron.py:614: ConvergenceWarning: Stochastic Optimizer: Maximum iterations (44) reached and the optimization hasn't converged yet.\n",
      "  warnings.warn(\n",
      "C:\\Users\\Lasse\\Anaconda3\\lib\\site-packages\\sklearn\\neural_network\\_multilayer_perceptron.py:614: ConvergenceWarning: Stochastic Optimizer: Maximum iterations (44) reached and the optimization hasn't converged yet.\n",
      "  warnings.warn(\n",
      "C:\\Users\\Lasse\\Anaconda3\\lib\\site-packages\\sklearn\\neural_network\\_multilayer_perceptron.py:614: ConvergenceWarning: Stochastic Optimizer: Maximum iterations (45) reached and the optimization hasn't converged yet.\n",
      "  warnings.warn(\n",
      "C:\\Users\\Lasse\\Anaconda3\\lib\\site-packages\\sklearn\\neural_network\\_multilayer_perceptron.py:614: ConvergenceWarning: Stochastic Optimizer: Maximum iterations (45) reached and the optimization hasn't converged yet.\n",
      "  warnings.warn(\n",
      "C:\\Users\\Lasse\\Anaconda3\\lib\\site-packages\\sklearn\\neural_network\\_multilayer_perceptron.py:614: ConvergenceWarning: Stochastic Optimizer: Maximum iterations (46) reached and the optimization hasn't converged yet.\n",
      "  warnings.warn(\n",
      "C:\\Users\\Lasse\\Anaconda3\\lib\\site-packages\\sklearn\\neural_network\\_multilayer_perceptron.py:614: ConvergenceWarning: Stochastic Optimizer: Maximum iterations (46) reached and the optimization hasn't converged yet.\n",
      "  warnings.warn(\n",
      "C:\\Users\\Lasse\\Anaconda3\\lib\\site-packages\\sklearn\\neural_network\\_multilayer_perceptron.py:614: ConvergenceWarning: Stochastic Optimizer: Maximum iterations (47) reached and the optimization hasn't converged yet.\n",
      "  warnings.warn(\n",
      "C:\\Users\\Lasse\\Anaconda3\\lib\\site-packages\\sklearn\\neural_network\\_multilayer_perceptron.py:614: ConvergenceWarning: Stochastic Optimizer: Maximum iterations (47) reached and the optimization hasn't converged yet.\n",
      "  warnings.warn(\n",
      "C:\\Users\\Lasse\\Anaconda3\\lib\\site-packages\\sklearn\\neural_network\\_multilayer_perceptron.py:614: ConvergenceWarning: Stochastic Optimizer: Maximum iterations (48) reached and the optimization hasn't converged yet.\n",
      "  warnings.warn(\n",
      "C:\\Users\\Lasse\\Anaconda3\\lib\\site-packages\\sklearn\\neural_network\\_multilayer_perceptron.py:614: ConvergenceWarning: Stochastic Optimizer: Maximum iterations (48) reached and the optimization hasn't converged yet.\n",
      "  warnings.warn(\n",
      "C:\\Users\\Lasse\\Anaconda3\\lib\\site-packages\\sklearn\\neural_network\\_multilayer_perceptron.py:614: ConvergenceWarning: Stochastic Optimizer: Maximum iterations (49) reached and the optimization hasn't converged yet.\n",
      "  warnings.warn(\n",
      "C:\\Users\\Lasse\\Anaconda3\\lib\\site-packages\\sklearn\\neural_network\\_multilayer_perceptron.py:614: ConvergenceWarning: Stochastic Optimizer: Maximum iterations (49) reached and the optimization hasn't converged yet.\n",
      "  warnings.warn(\n",
      "C:\\Users\\Lasse\\Anaconda3\\lib\\site-packages\\sklearn\\neural_network\\_multilayer_perceptron.py:614: ConvergenceWarning: Stochastic Optimizer: Maximum iterations (50) reached and the optimization hasn't converged yet.\n",
      "  warnings.warn(\n",
      "C:\\Users\\Lasse\\Anaconda3\\lib\\site-packages\\sklearn\\neural_network\\_multilayer_perceptron.py:614: ConvergenceWarning: Stochastic Optimizer: Maximum iterations (50) reached and the optimization hasn't converged yet.\n",
      "  warnings.warn(\n",
      "C:\\Users\\Lasse\\Anaconda3\\lib\\site-packages\\sklearn\\neural_network\\_multilayer_perceptron.py:614: ConvergenceWarning: Stochastic Optimizer: Maximum iterations (51) reached and the optimization hasn't converged yet.\n",
      "  warnings.warn(\n",
      "C:\\Users\\Lasse\\Anaconda3\\lib\\site-packages\\sklearn\\neural_network\\_multilayer_perceptron.py:614: ConvergenceWarning: Stochastic Optimizer: Maximum iterations (51) reached and the optimization hasn't converged yet.\n",
      "  warnings.warn(\n",
      "C:\\Users\\Lasse\\Anaconda3\\lib\\site-packages\\sklearn\\neural_network\\_multilayer_perceptron.py:614: ConvergenceWarning: Stochastic Optimizer: Maximum iterations (52) reached and the optimization hasn't converged yet.\n",
      "  warnings.warn(\n",
      "C:\\Users\\Lasse\\Anaconda3\\lib\\site-packages\\sklearn\\neural_network\\_multilayer_perceptron.py:614: ConvergenceWarning: Stochastic Optimizer: Maximum iterations (52) reached and the optimization hasn't converged yet.\n",
      "  warnings.warn(\n",
      "C:\\Users\\Lasse\\Anaconda3\\lib\\site-packages\\sklearn\\neural_network\\_multilayer_perceptron.py:614: ConvergenceWarning: Stochastic Optimizer: Maximum iterations (53) reached and the optimization hasn't converged yet.\n",
      "  warnings.warn(\n",
      "C:\\Users\\Lasse\\Anaconda3\\lib\\site-packages\\sklearn\\neural_network\\_multilayer_perceptron.py:614: ConvergenceWarning: Stochastic Optimizer: Maximum iterations (53) reached and the optimization hasn't converged yet.\n",
      "  warnings.warn(\n",
      "C:\\Users\\Lasse\\Anaconda3\\lib\\site-packages\\sklearn\\neural_network\\_multilayer_perceptron.py:614: ConvergenceWarning: Stochastic Optimizer: Maximum iterations (54) reached and the optimization hasn't converged yet.\n",
      "  warnings.warn(\n",
      "C:\\Users\\Lasse\\Anaconda3\\lib\\site-packages\\sklearn\\neural_network\\_multilayer_perceptron.py:614: ConvergenceWarning: Stochastic Optimizer: Maximum iterations (54) reached and the optimization hasn't converged yet.\n",
      "  warnings.warn(\n"
     ]
    },
    {
     "name": "stderr",
     "output_type": "stream",
     "text": [
      "C:\\Users\\Lasse\\Anaconda3\\lib\\site-packages\\sklearn\\neural_network\\_multilayer_perceptron.py:614: ConvergenceWarning: Stochastic Optimizer: Maximum iterations (55) reached and the optimization hasn't converged yet.\n",
      "  warnings.warn(\n",
      "C:\\Users\\Lasse\\Anaconda3\\lib\\site-packages\\sklearn\\neural_network\\_multilayer_perceptron.py:614: ConvergenceWarning: Stochastic Optimizer: Maximum iterations (55) reached and the optimization hasn't converged yet.\n",
      "  warnings.warn(\n",
      "C:\\Users\\Lasse\\Anaconda3\\lib\\site-packages\\sklearn\\neural_network\\_multilayer_perceptron.py:614: ConvergenceWarning: Stochastic Optimizer: Maximum iterations (56) reached and the optimization hasn't converged yet.\n",
      "  warnings.warn(\n",
      "C:\\Users\\Lasse\\Anaconda3\\lib\\site-packages\\sklearn\\neural_network\\_multilayer_perceptron.py:614: ConvergenceWarning: Stochastic Optimizer: Maximum iterations (56) reached and the optimization hasn't converged yet.\n",
      "  warnings.warn(\n",
      "C:\\Users\\Lasse\\Anaconda3\\lib\\site-packages\\sklearn\\neural_network\\_multilayer_perceptron.py:614: ConvergenceWarning: Stochastic Optimizer: Maximum iterations (57) reached and the optimization hasn't converged yet.\n",
      "  warnings.warn(\n",
      "C:\\Users\\Lasse\\Anaconda3\\lib\\site-packages\\sklearn\\neural_network\\_multilayer_perceptron.py:614: ConvergenceWarning: Stochastic Optimizer: Maximum iterations (57) reached and the optimization hasn't converged yet.\n",
      "  warnings.warn(\n",
      "C:\\Users\\Lasse\\Anaconda3\\lib\\site-packages\\sklearn\\neural_network\\_multilayer_perceptron.py:614: ConvergenceWarning: Stochastic Optimizer: Maximum iterations (58) reached and the optimization hasn't converged yet.\n",
      "  warnings.warn(\n",
      "C:\\Users\\Lasse\\Anaconda3\\lib\\site-packages\\sklearn\\neural_network\\_multilayer_perceptron.py:614: ConvergenceWarning: Stochastic Optimizer: Maximum iterations (58) reached and the optimization hasn't converged yet.\n",
      "  warnings.warn(\n",
      "C:\\Users\\Lasse\\Anaconda3\\lib\\site-packages\\sklearn\\neural_network\\_multilayer_perceptron.py:614: ConvergenceWarning: Stochastic Optimizer: Maximum iterations (59) reached and the optimization hasn't converged yet.\n",
      "  warnings.warn(\n",
      "C:\\Users\\Lasse\\Anaconda3\\lib\\site-packages\\sklearn\\neural_network\\_multilayer_perceptron.py:614: ConvergenceWarning: Stochastic Optimizer: Maximum iterations (59) reached and the optimization hasn't converged yet.\n",
      "  warnings.warn(\n",
      "C:\\Users\\Lasse\\Anaconda3\\lib\\site-packages\\sklearn\\neural_network\\_multilayer_perceptron.py:614: ConvergenceWarning: Stochastic Optimizer: Maximum iterations (60) reached and the optimization hasn't converged yet.\n",
      "  warnings.warn(\n",
      "C:\\Users\\Lasse\\Anaconda3\\lib\\site-packages\\sklearn\\neural_network\\_multilayer_perceptron.py:614: ConvergenceWarning: Stochastic Optimizer: Maximum iterations (60) reached and the optimization hasn't converged yet.\n",
      "  warnings.warn(\n",
      "C:\\Users\\Lasse\\Anaconda3\\lib\\site-packages\\sklearn\\neural_network\\_multilayer_perceptron.py:614: ConvergenceWarning: Stochastic Optimizer: Maximum iterations (61) reached and the optimization hasn't converged yet.\n",
      "  warnings.warn(\n",
      "C:\\Users\\Lasse\\Anaconda3\\lib\\site-packages\\sklearn\\neural_network\\_multilayer_perceptron.py:614: ConvergenceWarning: Stochastic Optimizer: Maximum iterations (61) reached and the optimization hasn't converged yet.\n",
      "  warnings.warn(\n",
      "C:\\Users\\Lasse\\Anaconda3\\lib\\site-packages\\sklearn\\neural_network\\_multilayer_perceptron.py:614: ConvergenceWarning: Stochastic Optimizer: Maximum iterations (62) reached and the optimization hasn't converged yet.\n",
      "  warnings.warn(\n",
      "C:\\Users\\Lasse\\Anaconda3\\lib\\site-packages\\sklearn\\neural_network\\_multilayer_perceptron.py:614: ConvergenceWarning: Stochastic Optimizer: Maximum iterations (62) reached and the optimization hasn't converged yet.\n",
      "  warnings.warn(\n",
      "C:\\Users\\Lasse\\Anaconda3\\lib\\site-packages\\sklearn\\neural_network\\_multilayer_perceptron.py:614: ConvergenceWarning: Stochastic Optimizer: Maximum iterations (63) reached and the optimization hasn't converged yet.\n",
      "  warnings.warn(\n",
      "C:\\Users\\Lasse\\Anaconda3\\lib\\site-packages\\sklearn\\neural_network\\_multilayer_perceptron.py:614: ConvergenceWarning: Stochastic Optimizer: Maximum iterations (63) reached and the optimization hasn't converged yet.\n",
      "  warnings.warn(\n",
      "C:\\Users\\Lasse\\Anaconda3\\lib\\site-packages\\sklearn\\neural_network\\_multilayer_perceptron.py:614: ConvergenceWarning: Stochastic Optimizer: Maximum iterations (64) reached and the optimization hasn't converged yet.\n",
      "  warnings.warn(\n",
      "C:\\Users\\Lasse\\Anaconda3\\lib\\site-packages\\sklearn\\neural_network\\_multilayer_perceptron.py:614: ConvergenceWarning: Stochastic Optimizer: Maximum iterations (64) reached and the optimization hasn't converged yet.\n",
      "  warnings.warn(\n",
      "C:\\Users\\Lasse\\Anaconda3\\lib\\site-packages\\sklearn\\neural_network\\_multilayer_perceptron.py:614: ConvergenceWarning: Stochastic Optimizer: Maximum iterations (65) reached and the optimization hasn't converged yet.\n",
      "  warnings.warn(\n",
      "C:\\Users\\Lasse\\Anaconda3\\lib\\site-packages\\sklearn\\neural_network\\_multilayer_perceptron.py:614: ConvergenceWarning: Stochastic Optimizer: Maximum iterations (65) reached and the optimization hasn't converged yet.\n",
      "  warnings.warn(\n",
      "C:\\Users\\Lasse\\Anaconda3\\lib\\site-packages\\sklearn\\neural_network\\_multilayer_perceptron.py:614: ConvergenceWarning: Stochastic Optimizer: Maximum iterations (66) reached and the optimization hasn't converged yet.\n",
      "  warnings.warn(\n",
      "C:\\Users\\Lasse\\Anaconda3\\lib\\site-packages\\sklearn\\neural_network\\_multilayer_perceptron.py:614: ConvergenceWarning: Stochastic Optimizer: Maximum iterations (66) reached and the optimization hasn't converged yet.\n",
      "  warnings.warn(\n",
      "C:\\Users\\Lasse\\Anaconda3\\lib\\site-packages\\sklearn\\neural_network\\_multilayer_perceptron.py:614: ConvergenceWarning: Stochastic Optimizer: Maximum iterations (67) reached and the optimization hasn't converged yet.\n",
      "  warnings.warn(\n",
      "C:\\Users\\Lasse\\Anaconda3\\lib\\site-packages\\sklearn\\neural_network\\_multilayer_perceptron.py:614: ConvergenceWarning: Stochastic Optimizer: Maximum iterations (67) reached and the optimization hasn't converged yet.\n",
      "  warnings.warn(\n",
      "C:\\Users\\Lasse\\Anaconda3\\lib\\site-packages\\sklearn\\neural_network\\_multilayer_perceptron.py:614: ConvergenceWarning: Stochastic Optimizer: Maximum iterations (68) reached and the optimization hasn't converged yet.\n",
      "  warnings.warn(\n",
      "C:\\Users\\Lasse\\Anaconda3\\lib\\site-packages\\sklearn\\neural_network\\_multilayer_perceptron.py:614: ConvergenceWarning: Stochastic Optimizer: Maximum iterations (68) reached and the optimization hasn't converged yet.\n",
      "  warnings.warn(\n",
      "C:\\Users\\Lasse\\Anaconda3\\lib\\site-packages\\sklearn\\neural_network\\_multilayer_perceptron.py:614: ConvergenceWarning: Stochastic Optimizer: Maximum iterations (69) reached and the optimization hasn't converged yet.\n",
      "  warnings.warn(\n",
      "C:\\Users\\Lasse\\Anaconda3\\lib\\site-packages\\sklearn\\neural_network\\_multilayer_perceptron.py:614: ConvergenceWarning: Stochastic Optimizer: Maximum iterations (69) reached and the optimization hasn't converged yet.\n",
      "  warnings.warn(\n",
      "C:\\Users\\Lasse\\Anaconda3\\lib\\site-packages\\sklearn\\neural_network\\_multilayer_perceptron.py:614: ConvergenceWarning: Stochastic Optimizer: Maximum iterations (70) reached and the optimization hasn't converged yet.\n",
      "  warnings.warn(\n",
      "C:\\Users\\Lasse\\Anaconda3\\lib\\site-packages\\sklearn\\neural_network\\_multilayer_perceptron.py:614: ConvergenceWarning: Stochastic Optimizer: Maximum iterations (70) reached and the optimization hasn't converged yet.\n",
      "  warnings.warn(\n",
      "C:\\Users\\Lasse\\Anaconda3\\lib\\site-packages\\sklearn\\neural_network\\_multilayer_perceptron.py:614: ConvergenceWarning: Stochastic Optimizer: Maximum iterations (71) reached and the optimization hasn't converged yet.\n",
      "  warnings.warn(\n",
      "C:\\Users\\Lasse\\Anaconda3\\lib\\site-packages\\sklearn\\neural_network\\_multilayer_perceptron.py:614: ConvergenceWarning: Stochastic Optimizer: Maximum iterations (71) reached and the optimization hasn't converged yet.\n",
      "  warnings.warn(\n",
      "C:\\Users\\Lasse\\Anaconda3\\lib\\site-packages\\sklearn\\neural_network\\_multilayer_perceptron.py:614: ConvergenceWarning: Stochastic Optimizer: Maximum iterations (72) reached and the optimization hasn't converged yet.\n",
      "  warnings.warn(\n",
      "C:\\Users\\Lasse\\Anaconda3\\lib\\site-packages\\sklearn\\neural_network\\_multilayer_perceptron.py:614: ConvergenceWarning: Stochastic Optimizer: Maximum iterations (72) reached and the optimization hasn't converged yet.\n",
      "  warnings.warn(\n"
     ]
    },
    {
     "name": "stderr",
     "output_type": "stream",
     "text": [
      "C:\\Users\\Lasse\\Anaconda3\\lib\\site-packages\\sklearn\\neural_network\\_multilayer_perceptron.py:614: ConvergenceWarning: Stochastic Optimizer: Maximum iterations (73) reached and the optimization hasn't converged yet.\n",
      "  warnings.warn(\n",
      "C:\\Users\\Lasse\\Anaconda3\\lib\\site-packages\\sklearn\\neural_network\\_multilayer_perceptron.py:614: ConvergenceWarning: Stochastic Optimizer: Maximum iterations (73) reached and the optimization hasn't converged yet.\n",
      "  warnings.warn(\n",
      "C:\\Users\\Lasse\\Anaconda3\\lib\\site-packages\\sklearn\\neural_network\\_multilayer_perceptron.py:614: ConvergenceWarning: Stochastic Optimizer: Maximum iterations (74) reached and the optimization hasn't converged yet.\n",
      "  warnings.warn(\n",
      "C:\\Users\\Lasse\\Anaconda3\\lib\\site-packages\\sklearn\\neural_network\\_multilayer_perceptron.py:614: ConvergenceWarning: Stochastic Optimizer: Maximum iterations (74) reached and the optimization hasn't converged yet.\n",
      "  warnings.warn(\n",
      "C:\\Users\\Lasse\\Anaconda3\\lib\\site-packages\\sklearn\\neural_network\\_multilayer_perceptron.py:614: ConvergenceWarning: Stochastic Optimizer: Maximum iterations (75) reached and the optimization hasn't converged yet.\n",
      "  warnings.warn(\n",
      "C:\\Users\\Lasse\\Anaconda3\\lib\\site-packages\\sklearn\\neural_network\\_multilayer_perceptron.py:614: ConvergenceWarning: Stochastic Optimizer: Maximum iterations (75) reached and the optimization hasn't converged yet.\n",
      "  warnings.warn(\n",
      "C:\\Users\\Lasse\\Anaconda3\\lib\\site-packages\\sklearn\\neural_network\\_multilayer_perceptron.py:614: ConvergenceWarning: Stochastic Optimizer: Maximum iterations (76) reached and the optimization hasn't converged yet.\n",
      "  warnings.warn(\n",
      "C:\\Users\\Lasse\\Anaconda3\\lib\\site-packages\\sklearn\\neural_network\\_multilayer_perceptron.py:614: ConvergenceWarning: Stochastic Optimizer: Maximum iterations (76) reached and the optimization hasn't converged yet.\n",
      "  warnings.warn(\n",
      "C:\\Users\\Lasse\\Anaconda3\\lib\\site-packages\\sklearn\\neural_network\\_multilayer_perceptron.py:614: ConvergenceWarning: Stochastic Optimizer: Maximum iterations (77) reached and the optimization hasn't converged yet.\n",
      "  warnings.warn(\n",
      "C:\\Users\\Lasse\\Anaconda3\\lib\\site-packages\\sklearn\\neural_network\\_multilayer_perceptron.py:614: ConvergenceWarning: Stochastic Optimizer: Maximum iterations (77) reached and the optimization hasn't converged yet.\n",
      "  warnings.warn(\n",
      "C:\\Users\\Lasse\\Anaconda3\\lib\\site-packages\\sklearn\\neural_network\\_multilayer_perceptron.py:614: ConvergenceWarning: Stochastic Optimizer: Maximum iterations (78) reached and the optimization hasn't converged yet.\n",
      "  warnings.warn(\n",
      "C:\\Users\\Lasse\\Anaconda3\\lib\\site-packages\\sklearn\\neural_network\\_multilayer_perceptron.py:614: ConvergenceWarning: Stochastic Optimizer: Maximum iterations (78) reached and the optimization hasn't converged yet.\n",
      "  warnings.warn(\n",
      "C:\\Users\\Lasse\\Anaconda3\\lib\\site-packages\\sklearn\\neural_network\\_multilayer_perceptron.py:614: ConvergenceWarning: Stochastic Optimizer: Maximum iterations (79) reached and the optimization hasn't converged yet.\n",
      "  warnings.warn(\n",
      "C:\\Users\\Lasse\\Anaconda3\\lib\\site-packages\\sklearn\\neural_network\\_multilayer_perceptron.py:614: ConvergenceWarning: Stochastic Optimizer: Maximum iterations (79) reached and the optimization hasn't converged yet.\n",
      "  warnings.warn(\n",
      "C:\\Users\\Lasse\\Anaconda3\\lib\\site-packages\\sklearn\\neural_network\\_multilayer_perceptron.py:614: ConvergenceWarning: Stochastic Optimizer: Maximum iterations (80) reached and the optimization hasn't converged yet.\n",
      "  warnings.warn(\n",
      "C:\\Users\\Lasse\\Anaconda3\\lib\\site-packages\\sklearn\\neural_network\\_multilayer_perceptron.py:614: ConvergenceWarning: Stochastic Optimizer: Maximum iterations (80) reached and the optimization hasn't converged yet.\n",
      "  warnings.warn(\n",
      "C:\\Users\\Lasse\\Anaconda3\\lib\\site-packages\\sklearn\\neural_network\\_multilayer_perceptron.py:614: ConvergenceWarning: Stochastic Optimizer: Maximum iterations (81) reached and the optimization hasn't converged yet.\n",
      "  warnings.warn(\n",
      "C:\\Users\\Lasse\\Anaconda3\\lib\\site-packages\\sklearn\\neural_network\\_multilayer_perceptron.py:614: ConvergenceWarning: Stochastic Optimizer: Maximum iterations (81) reached and the optimization hasn't converged yet.\n",
      "  warnings.warn(\n",
      "C:\\Users\\Lasse\\Anaconda3\\lib\\site-packages\\sklearn\\neural_network\\_multilayer_perceptron.py:614: ConvergenceWarning: Stochastic Optimizer: Maximum iterations (82) reached and the optimization hasn't converged yet.\n",
      "  warnings.warn(\n",
      "C:\\Users\\Lasse\\Anaconda3\\lib\\site-packages\\sklearn\\neural_network\\_multilayer_perceptron.py:614: ConvergenceWarning: Stochastic Optimizer: Maximum iterations (82) reached and the optimization hasn't converged yet.\n",
      "  warnings.warn(\n",
      "C:\\Users\\Lasse\\Anaconda3\\lib\\site-packages\\sklearn\\neural_network\\_multilayer_perceptron.py:614: ConvergenceWarning: Stochastic Optimizer: Maximum iterations (83) reached and the optimization hasn't converged yet.\n",
      "  warnings.warn(\n",
      "C:\\Users\\Lasse\\Anaconda3\\lib\\site-packages\\sklearn\\neural_network\\_multilayer_perceptron.py:614: ConvergenceWarning: Stochastic Optimizer: Maximum iterations (83) reached and the optimization hasn't converged yet.\n",
      "  warnings.warn(\n",
      "C:\\Users\\Lasse\\Anaconda3\\lib\\site-packages\\sklearn\\neural_network\\_multilayer_perceptron.py:614: ConvergenceWarning: Stochastic Optimizer: Maximum iterations (84) reached and the optimization hasn't converged yet.\n",
      "  warnings.warn(\n",
      "C:\\Users\\Lasse\\Anaconda3\\lib\\site-packages\\sklearn\\neural_network\\_multilayer_perceptron.py:614: ConvergenceWarning: Stochastic Optimizer: Maximum iterations (84) reached and the optimization hasn't converged yet.\n",
      "  warnings.warn(\n",
      "C:\\Users\\Lasse\\Anaconda3\\lib\\site-packages\\sklearn\\neural_network\\_multilayer_perceptron.py:614: ConvergenceWarning: Stochastic Optimizer: Maximum iterations (85) reached and the optimization hasn't converged yet.\n",
      "  warnings.warn(\n",
      "C:\\Users\\Lasse\\Anaconda3\\lib\\site-packages\\sklearn\\neural_network\\_multilayer_perceptron.py:614: ConvergenceWarning: Stochastic Optimizer: Maximum iterations (85) reached and the optimization hasn't converged yet.\n",
      "  warnings.warn(\n",
      "C:\\Users\\Lasse\\Anaconda3\\lib\\site-packages\\sklearn\\neural_network\\_multilayer_perceptron.py:614: ConvergenceWarning: Stochastic Optimizer: Maximum iterations (86) reached and the optimization hasn't converged yet.\n",
      "  warnings.warn(\n",
      "C:\\Users\\Lasse\\Anaconda3\\lib\\site-packages\\sklearn\\neural_network\\_multilayer_perceptron.py:614: ConvergenceWarning: Stochastic Optimizer: Maximum iterations (86) reached and the optimization hasn't converged yet.\n",
      "  warnings.warn(\n",
      "C:\\Users\\Lasse\\Anaconda3\\lib\\site-packages\\sklearn\\neural_network\\_multilayer_perceptron.py:614: ConvergenceWarning: Stochastic Optimizer: Maximum iterations (87) reached and the optimization hasn't converged yet.\n",
      "  warnings.warn(\n",
      "C:\\Users\\Lasse\\Anaconda3\\lib\\site-packages\\sklearn\\neural_network\\_multilayer_perceptron.py:614: ConvergenceWarning: Stochastic Optimizer: Maximum iterations (87) reached and the optimization hasn't converged yet.\n",
      "  warnings.warn(\n",
      "C:\\Users\\Lasse\\Anaconda3\\lib\\site-packages\\sklearn\\neural_network\\_multilayer_perceptron.py:614: ConvergenceWarning: Stochastic Optimizer: Maximum iterations (88) reached and the optimization hasn't converged yet.\n",
      "  warnings.warn(\n",
      "C:\\Users\\Lasse\\Anaconda3\\lib\\site-packages\\sklearn\\neural_network\\_multilayer_perceptron.py:614: ConvergenceWarning: Stochastic Optimizer: Maximum iterations (88) reached and the optimization hasn't converged yet.\n",
      "  warnings.warn(\n",
      "C:\\Users\\Lasse\\Anaconda3\\lib\\site-packages\\sklearn\\neural_network\\_multilayer_perceptron.py:614: ConvergenceWarning: Stochastic Optimizer: Maximum iterations (89) reached and the optimization hasn't converged yet.\n",
      "  warnings.warn(\n",
      "C:\\Users\\Lasse\\Anaconda3\\lib\\site-packages\\sklearn\\neural_network\\_multilayer_perceptron.py:614: ConvergenceWarning: Stochastic Optimizer: Maximum iterations (89) reached and the optimization hasn't converged yet.\n",
      "  warnings.warn(\n",
      "C:\\Users\\Lasse\\Anaconda3\\lib\\site-packages\\sklearn\\neural_network\\_multilayer_perceptron.py:614: ConvergenceWarning: Stochastic Optimizer: Maximum iterations (90) reached and the optimization hasn't converged yet.\n",
      "  warnings.warn(\n",
      "C:\\Users\\Lasse\\Anaconda3\\lib\\site-packages\\sklearn\\neural_network\\_multilayer_perceptron.py:614: ConvergenceWarning: Stochastic Optimizer: Maximum iterations (90) reached and the optimization hasn't converged yet.\n",
      "  warnings.warn(\n"
     ]
    },
    {
     "name": "stderr",
     "output_type": "stream",
     "text": [
      "C:\\Users\\Lasse\\Anaconda3\\lib\\site-packages\\sklearn\\neural_network\\_multilayer_perceptron.py:614: ConvergenceWarning: Stochastic Optimizer: Maximum iterations (91) reached and the optimization hasn't converged yet.\n",
      "  warnings.warn(\n",
      "C:\\Users\\Lasse\\Anaconda3\\lib\\site-packages\\sklearn\\neural_network\\_multilayer_perceptron.py:614: ConvergenceWarning: Stochastic Optimizer: Maximum iterations (91) reached and the optimization hasn't converged yet.\n",
      "  warnings.warn(\n",
      "C:\\Users\\Lasse\\Anaconda3\\lib\\site-packages\\sklearn\\neural_network\\_multilayer_perceptron.py:614: ConvergenceWarning: Stochastic Optimizer: Maximum iterations (92) reached and the optimization hasn't converged yet.\n",
      "  warnings.warn(\n",
      "C:\\Users\\Lasse\\Anaconda3\\lib\\site-packages\\sklearn\\neural_network\\_multilayer_perceptron.py:614: ConvergenceWarning: Stochastic Optimizer: Maximum iterations (92) reached and the optimization hasn't converged yet.\n",
      "  warnings.warn(\n",
      "C:\\Users\\Lasse\\Anaconda3\\lib\\site-packages\\sklearn\\neural_network\\_multilayer_perceptron.py:614: ConvergenceWarning: Stochastic Optimizer: Maximum iterations (93) reached and the optimization hasn't converged yet.\n",
      "  warnings.warn(\n",
      "C:\\Users\\Lasse\\Anaconda3\\lib\\site-packages\\sklearn\\neural_network\\_multilayer_perceptron.py:614: ConvergenceWarning: Stochastic Optimizer: Maximum iterations (93) reached and the optimization hasn't converged yet.\n",
      "  warnings.warn(\n",
      "C:\\Users\\Lasse\\Anaconda3\\lib\\site-packages\\sklearn\\neural_network\\_multilayer_perceptron.py:614: ConvergenceWarning: Stochastic Optimizer: Maximum iterations (94) reached and the optimization hasn't converged yet.\n",
      "  warnings.warn(\n",
      "C:\\Users\\Lasse\\Anaconda3\\lib\\site-packages\\sklearn\\neural_network\\_multilayer_perceptron.py:614: ConvergenceWarning: Stochastic Optimizer: Maximum iterations (94) reached and the optimization hasn't converged yet.\n",
      "  warnings.warn(\n",
      "C:\\Users\\Lasse\\Anaconda3\\lib\\site-packages\\sklearn\\neural_network\\_multilayer_perceptron.py:614: ConvergenceWarning: Stochastic Optimizer: Maximum iterations (95) reached and the optimization hasn't converged yet.\n",
      "  warnings.warn(\n",
      "C:\\Users\\Lasse\\Anaconda3\\lib\\site-packages\\sklearn\\neural_network\\_multilayer_perceptron.py:614: ConvergenceWarning: Stochastic Optimizer: Maximum iterations (95) reached and the optimization hasn't converged yet.\n",
      "  warnings.warn(\n",
      "C:\\Users\\Lasse\\Anaconda3\\lib\\site-packages\\sklearn\\neural_network\\_multilayer_perceptron.py:614: ConvergenceWarning: Stochastic Optimizer: Maximum iterations (96) reached and the optimization hasn't converged yet.\n",
      "  warnings.warn(\n",
      "C:\\Users\\Lasse\\Anaconda3\\lib\\site-packages\\sklearn\\neural_network\\_multilayer_perceptron.py:614: ConvergenceWarning: Stochastic Optimizer: Maximum iterations (96) reached and the optimization hasn't converged yet.\n",
      "  warnings.warn(\n",
      "C:\\Users\\Lasse\\Anaconda3\\lib\\site-packages\\sklearn\\neural_network\\_multilayer_perceptron.py:614: ConvergenceWarning: Stochastic Optimizer: Maximum iterations (97) reached and the optimization hasn't converged yet.\n",
      "  warnings.warn(\n",
      "C:\\Users\\Lasse\\Anaconda3\\lib\\site-packages\\sklearn\\neural_network\\_multilayer_perceptron.py:614: ConvergenceWarning: Stochastic Optimizer: Maximum iterations (97) reached and the optimization hasn't converged yet.\n",
      "  warnings.warn(\n",
      "C:\\Users\\Lasse\\Anaconda3\\lib\\site-packages\\sklearn\\neural_network\\_multilayer_perceptron.py:614: ConvergenceWarning: Stochastic Optimizer: Maximum iterations (98) reached and the optimization hasn't converged yet.\n",
      "  warnings.warn(\n",
      "C:\\Users\\Lasse\\Anaconda3\\lib\\site-packages\\sklearn\\neural_network\\_multilayer_perceptron.py:614: ConvergenceWarning: Stochastic Optimizer: Maximum iterations (98) reached and the optimization hasn't converged yet.\n",
      "  warnings.warn(\n",
      "C:\\Users\\Lasse\\Anaconda3\\lib\\site-packages\\sklearn\\neural_network\\_multilayer_perceptron.py:614: ConvergenceWarning: Stochastic Optimizer: Maximum iterations (99) reached and the optimization hasn't converged yet.\n",
      "  warnings.warn(\n",
      "C:\\Users\\Lasse\\Anaconda3\\lib\\site-packages\\sklearn\\neural_network\\_multilayer_perceptron.py:614: ConvergenceWarning: Stochastic Optimizer: Maximum iterations (99) reached and the optimization hasn't converged yet.\n",
      "  warnings.warn(\n",
      "C:\\Users\\Lasse\\Anaconda3\\lib\\site-packages\\sklearn\\neural_network\\_multilayer_perceptron.py:614: ConvergenceWarning: Stochastic Optimizer: Maximum iterations (100) reached and the optimization hasn't converged yet.\n",
      "  warnings.warn(\n",
      "C:\\Users\\Lasse\\Anaconda3\\lib\\site-packages\\sklearn\\neural_network\\_multilayer_perceptron.py:614: ConvergenceWarning: Stochastic Optimizer: Maximum iterations (100) reached and the optimization hasn't converged yet.\n",
      "  warnings.warn(\n"
     ]
    }
   ],
   "source": [
    "\n",
    "sickit_tanh_score=[]\n",
    "sickit_Rel_score = []\n",
    "for i in range(len(n_epochs)):\n",
    "    epoch = n_epochs[i]\n",
    "    regr_tanh = MLPClassifier(random_state=1,alpha = lmb_tanh_he_sig,activation=\"tanh\",batch_size=batch_size, max_iter=epoch,learning_rate_init=eta_tanh_he_sig,solver=\"sgd\").fit(X_train, z_train)\n",
    "    regr_tanh.predict(X_test)\n",
    "    \n",
    "    regr_Relu = MLPClassifier(random_state=1,alpha = lmb_Rel_he_sig,activation=\"relu\",batch_size=batch_size, max_iter=epoch,learning_rate_init=eta_Rel_xav_sig,solver =\"sgd\").fit(X_train, z_train)\n",
    "    regr_Relu.predict(X_test)\n",
    "    \n",
    "    sickit_tanh_score.append(regr_tanh.score(X_test,z_test))\n",
    "    sickit_Rel_score.append(regr_Relu.score(X_test,z_test))\n",
    "\n",
    "\n"
   ]
  },
  {
   "cell_type": "code",
   "execution_count": 118,
   "id": "1ef6fa89",
   "metadata": {},
   "outputs": [
    {
     "data": {
      "image/png": "[encoded data removed]",
      "text/plain": [
       "<Figure size 432x288 with 1 Axes>"
      ]
     },
     "metadata": {
      "needs_background": "light"
     },
     "output_type": "display_data"
    }
   ],
   "source": [
    "#plt.plot(n_epochs, r2_sig_he, label='sigmoid & He')\n",
    "plt.plot(n_epochs, acc_LRel_he_sig, label='Own NN:L-Relu & He')\n",
    "plt.plot(n_epochs, acc_Rel_he_sig, label=' Own NN:Relu & He')\n",
    "#plt.plot(n_epochs, r2_tanh_he, label='own,tanh & He')\n",
    "plt.plot(n_epochs, sickit_tanh_score, label='sickit_tanh')\n",
    "plt.plot(n_epochs, sickit_Rel_score, label='sickit_relu')\n",
    "#plt.plot(n_epochs, r2_Rel_he, label='own Relu & He')\n",
    "#plt.plot(n_epochs, r2_LRel_he, label='LRelu & He')\n",
    "#plt.plot(n_epochs, r2_LRel_xav, label='LRelu & Xav')\n",
    "plt.legend()\n",
    "plt.xlabel(\"n_epochs\")\n",
    "plt.ylabel(\"accuracy\")\n",
    "plt.ylim(0.7,1)\n",
    "plt.title(\"accuracy score Comparing sickit vs own nn\")\n",
    "plt.show()\n",
    "\n"
   ]
  },
  {
   "cell_type": "code",
   "execution_count": null,
   "id": "76598517",
   "metadata": {},
   "outputs": [],
   "source": []
  }
 ],
 "metadata": {
  "kernelspec": {
   "display_name": "Python 3 (ipykernel)",
   "language": "python",
   "name": "python3"
  },
  "language_info": {
   "codemirror_mode": {
    "name": "ipython",
    "version": 3
   },
   "file_extension": ".py",
   "mimetype": "text/x-python",
   "name": "python",
   "nbconvert_exporter": "python",
   "pygments_lexer": "ipython3",
   "version": "3.9.7"
  }
 },
 "nbformat": 4,
 "nbformat_minor": 5
}
