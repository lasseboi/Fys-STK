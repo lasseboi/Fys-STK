{
 "cells": [
  {
   "cell_type": "code",
   "execution_count": 70,
   "id": "1344b8a2",
   "metadata": {},
   "outputs": [],
   "source": [
    "#Importing packages\n",
    "import numpy as np\n",
    "from sklearn.model_selection import train_test_split\n",
    "from sklearn.preprocessing import StandardScaler\n",
    "import matplotlib.pyplot as plt\n",
    "from sklearn.preprocessing import PolynomialFeatures\n",
    "from sklearn import  linear_model\n",
    "from sklearn.metrics import mean_squared_error, r2_score"
   ]
  },
  {
   "cell_type": "code",
   "execution_count": 71,
   "id": "0eb6d164",
   "metadata": {},
   "outputs": [],
   "source": [
    "def betaAndYtildeGenerator(X_train,y_train):\n",
    "    beta = np.linalg.inv(X_train.T @ X_train) @ X_train.T @ y_train\n",
    "    ytilde = X_train @ beta\n",
    "    return beta,ytilde\n",
    "#Setting up the Feature matrix\n"
   ]
  },
  {
   "cell_type": "code",
   "execution_count": 72,
   "id": "f1ee7dde",
   "metadata": {},
   "outputs": [],
   "source": [
    "def X_generator(x, y, n ):\n",
    "    if len(x.shape) > 1:\n",
    "        x = np.ravel(x)\n",
    "        y = np.ravel(y)\n",
    "\n",
    "    N = len(x)\n",
    "    l = int((n+1)*(n+2)/2)  # Number of elements in beta\n",
    "    X = np.ones((N,l))\n",
    "\n",
    "    for i in range(1,n+1):\n",
    "        q = int((i)*(i+1)/2)\n",
    "        for k in range(i+1):\n",
    "            X[:,q+k] = (x**(i-k))*(y**k)\n",
    "\n",
    "    return X\n"
   ]
  },
  {
   "cell_type": "code",
   "execution_count": 73,
   "id": "996de8af",
   "metadata": {},
   "outputs": [],
   "source": [
    "# split in training and test data\n",
    "def traningDataGenerator(X,y):\n",
    "    X_train, X_test, y_train, y_test = train_test_split(X,y,test_size=0.2)\n",
    "    return X_train, X_test, y_train, y_test"
   ]
  },
  {
   "cell_type": "code",
   "execution_count": 74,
   "id": "48a97ea1",
   "metadata": {},
   "outputs": [],
   "source": [
    "#Functions for R2 and MSE\n",
    "def R2(y_data, y_model):\n",
    "    return 1 - np.sum((y_data - y_model) ** 2) / np.sum((y_data - np.mean(y_data)) ** 2)\n",
    "def MSE(y_data,y_model):\n",
    "    n = np.size(y_model)\n",
    "    return np.sum((y_data-y_model)**2)/n\n",
    "#,random_state=11"
   ]
  },
  {
   "cell_type": "code",
   "execution_count": 75,
   "id": "972b8d00",
   "metadata": {},
   "outputs": [],
   "source": [
    "\n",
    "def FrankeFunction(x,y):\n",
    "    term1 = 0.75*np.exp(-(0.25*(9*x-2)**2) - 0.25*((9*y-2)**2))\n",
    "    term2 = 0.75*np.exp(-((9*x+1)**2)/49.0 - 0.1*(9*y+1))\n",
    "    term3 = 0.5*np.exp(-(9*x-7)**2/4.0 - 0.25*((9*y-3)**2))\n",
    "    term4 = -0.2*np.exp(-(9*x-4)**2 - (9*y-7)**2)\n",
    "    return term1 + term2 + term3 + term4\n"
   ]
  },
  {
   "cell_type": "code",
   "execution_count": 76,
   "id": "90c2a3a7",
   "metadata": {},
   "outputs": [],
   "source": [
    "#Function for generating noise\n",
    "def noiseGeneration(z_input, scaling = 1):\n",
    "    nosyZ= z_input + np.random.randn(*z_input.shape) * scaling\n",
    "    return nosyZ"
   ]
  },
  {
   "cell_type": "code",
   "execution_count": 77,
   "id": "f192d7ca",
   "metadata": {},
   "outputs": [],
   "source": [
    "#Fuction for making x and y of given size\n",
    "def makeData(n_size=20):\n",
    "    x = np.linspace(0,1,n_size)\n",
    "    y = np.linspace(0,1,n_size)\n",
    "    return x,y"
   ]
  },
  {
   "cell_type": "code",
   "execution_count": 78,
   "id": "66c6ad9d",
   "metadata": {},
   "outputs": [
    {
     "name": "stdout",
     "output_type": "stream",
     "text": [
      "MSE before scaling: 0.14\n",
      "R2 score before scaling -0.16\n",
      "Feature min values before scaling:\n",
      " [1. 0. 0. 0. 0. 0. 0. 0. 0. 0. 0. 0. 0. 0. 0. 0. 0. 0. 0. 0. 0.]\n",
      "Feature max values before scaling:\n",
      " [1.         0.89473684 0.89473684 0.80055402 0.80055402 0.80055402\n",
      " 0.71628517 0.71628517 0.71628517 0.71628517 0.64088673 0.64088673\n",
      " 0.64088673 0.64088673 0.64088673 0.57342497 0.57342497 0.57342497\n",
      " 0.57342497 0.57342497 0.57342497]\n",
      "Feature min values after scaling:\n",
      " [ 0.         -1.70637588 -1.70637588 -1.15133222 -1.15133222 -1.15133222\n",
      " -0.92352812 -0.92352812 -0.92352812 -0.92352812 -0.79284977 -0.79284977\n",
      " -0.79284977 -0.79284977 -0.79284977 -0.7049131  -0.7049131  -0.7049131\n",
      " -0.7049131  -0.7049131  -0.7049131 ]\n",
      "Feature max values after scaling:\n",
      " [0.         1.5393181  1.5393181  1.94928524 1.94928524 1.94928524\n",
      " 2.24815691 2.24815691 2.24815691 2.24815691 2.48477048 2.48477048\n",
      " 2.48477048 2.48477048 2.48477048 2.67725746 2.67725746 2.67725746\n",
      " 2.67725746 2.67725746 2.67725746]\n",
      "MSE after  scaling: 0.13\n",
      "R2 score for  scaled data: -0.02\n"
     ]
    }
   ],
   "source": [
    "#not my code. Stole it from week35\n",
    "import sklearn.linear_model as skl\n",
    "clf = skl.LinearRegression().fit(X_train, y_train)\n",
    "\n",
    "# The mean squared error and R2 score\n",
    "print(\"MSE before scaling: {:.2f}\".format(mean_squared_error(clf.predict(X_test), y_test)))\n",
    "print(\"R2 score before scaling {:.2f}\".format(clf.score(X_test,y_test)))\n",
    "\n",
    "scaler = StandardScaler()\n",
    "scaler.fit(X_train)\n",
    "X_train_scaled = scaler.transform(X_train)\n",
    "X_test_scaled = scaler.transform(X_test)\n",
    "\n",
    "print(\"Feature min values before scaling:\\n {}\".format(X_train.min(axis=0)))\n",
    "print(\"Feature max values before scaling:\\n {}\".format(X_train.max(axis=0)))\n",
    "\n",
    "print(\"Feature min values after scaling:\\n {}\".format(X_train_scaled.min(axis=0)))\n",
    "print(\"Feature max values after scaling:\\n {}\".format(X_train_scaled.max(axis=0)))\n",
    "\n",
    "clf = skl.LinearRegression().fit(X_train_scaled, y_train)\n",
    "\n",
    "\n",
    "print(\"MSE after  scaling: {:.2f}\".format(mean_squared_error(clf.predict(X_test_scaled), y_test)))\n",
    "print(\"R2 score for  scaled data: {:.2f}\".format(clf.score(X_test_scaled,y_test)))"
   ]
  },
  {
   "cell_type": "code",
   "execution_count": 98,
   "id": "661cd5c1",
   "metadata": {},
   "outputs": [
    {
     "name": "stdout",
     "output_type": "stream",
     "text": [
      "0.7884525209170212\n",
      "0.7597984657602582\n",
      "0.8947935954151971\n",
      "0.9558459112383696\n",
      "0.9554465202541761\n",
      "[  0.78908426   3.22194527   3.22194528 -10.42713691 -10.42713691\n",
      " -10.42713691  10.96615184  10.96615184  10.96615184  10.96615184\n",
      "  -4.65860688  -4.65860688  -4.65860688  -4.65860688  -4.65860688\n",
      "   0.61560546   0.61560546   0.61560546   0.61560546   0.61560546\n",
      "   0.61560545]\n",
      "Training R2\n",
      "0.9845390540315052\n",
      "Training MSE\n",
      "0.0025242653365456945\n",
      "Test R2\n",
      "0.9554465202541761\n",
      "Test MSE\n",
      "0.010527802914983104\n"
     ]
    }
   ],
   "source": [
    "N = 20 #data size\n",
    "x, y = makeData(N)\n",
    "z = FrankeFunction(x, y)\n",
    "z = noiseGeneration(z,0.1)\n",
    "R2_test = []\n",
    "R2_train = []\n",
    "MSE_test = []\n",
    "MSE_train = []\n",
    "numOfPoly_index = []\n",
    "beta_index = []\n",
    "for i in range(5):\n",
    "    numOfPoly = i +1 \n",
    "    X = X_generator(x,y, numOfPoly)\n",
    "    X_train, X_test, y_train, y_test = traningDataGenerator(X,z)\n",
    "# matrix inversion to find beta\n",
    "    beta = np.linalg.pinv(X_train.T @ X_train) @ X_train.T @ y_train\n",
    "# and then make the prediction\n",
    "    ytilde = X_train @ beta\n",
    "    ypredict = X_test @ beta\n",
    "    R2_test.append(R2(y_test,ypredict))\n",
    "    R2_train.append(R2(y_train,ytilde))\n",
    "    MSE_train.append(MSE(y_train,ytilde))\n",
    "    MSE_test.append(MSE(y_test,ypredict))\n",
    "    numOfPoly_index.append(numOfPoly)\n",
    "    beta_index.append(beta)\n",
    "    print(R2(y_test,ypredict))    \n",
    "print(beta)\n",
    "print(\"Training R2\")\n",
    "print(R2(y_train,ytilde))\n",
    "print(\"Training MSE\")\n",
    "print(MSE(y_train,ytilde))\n",
    "print(\"Test R2\")\n",
    "print(R2(y_test,ypredict))\n",
    "print(\"Test MSE\")\n",
    "print(MSE(y_test,ypredict))\n",
    "\n",
    "\n"
   ]
  },
  {
   "cell_type": "code",
   "execution_count": 99,
   "id": "cb894394",
   "metadata": {},
   "outputs": [
    {
     "data": {
      "text/plain": [
       "<Figure size 720x432 with 0 Axes>"
      ]
     },
     "metadata": {},
     "output_type": "display_data"
    },
    {
     "data": {
      "image/png": "[encoded data removed]",
      "text/plain": [
       "<Figure size 432x288 with 1 Axes>"
      ]
     },
     "metadata": {
      "needs_background": "light"
     },
     "output_type": "display_data"
    }
   ],
   "source": [
    "import matplotlib.pyplot as plt\n",
    "plt.figure(figsize=(10, 6))\n",
    "fig, ax = plt.subplots()\n",
    "ax.set_xlabel('number of polynomials')\n",
    "ax.set_ylabel('R2',color =\"black\")\n",
    "ax.plot(numOfPoly_index,R2_train ,  label='R2 training',linewidth=3.0, c= \"black\")\n",
    "ax.plot(numOfPoly_index,R2_test ,label=\"R2 test\",linewidth=3.0, c= \"red\")\n",
    "plt.grid()\n",
    "\n",
    "leg = ax.legend();"
   ]
  },
  {
   "cell_type": "code",
   "execution_count": 100,
   "id": "9bf35530",
   "metadata": {},
   "outputs": [
    {
     "data": {
      "text/plain": [
       "<Figure size 720x432 with 0 Axes>"
      ]
     },
     "metadata": {},
     "output_type": "display_data"
    },
    {
     "data": {
      "image/png": "[encoded data removed]",
      "text/plain": [
       "<Figure size 432x288 with 1 Axes>"
      ]
     },
     "metadata": {
      "needs_background": "light"
     },
     "output_type": "display_data"
    }
   ],
   "source": [
    "import matplotlib.pyplot as plt\n",
    "plt.figure(figsize=(10, 6))\n",
    "fig, ax = plt.subplots()\n",
    "ax.set_xlabel('number of polynomials')\n",
    "ax.set_ylabel('MSE',color =\"black\")\n",
    "ax.plot(numOfPoly_index,MSE_train ,  label='MSE training',linewidth=3.0, c= \"black\")\n",
    "ax.plot(numOfPoly_index,MSE_test ,label=\"MSE test\",linewidth=3.0, c= \"red\")\n",
    "plt.grid()\n",
    "\n",
    "leg = ax.legend();"
   ]
  },
  {
   "cell_type": "code",
   "execution_count": 101,
   "id": "49b0edb4",
   "metadata": {},
   "outputs": [
    {
     "data": {
      "text/plain": [
       "<Figure size 720x432 with 0 Axes>"
      ]
     },
     "metadata": {},
     "output_type": "display_data"
    },
    {
     "data": {
      "image/png": "[encoded data removed]",
      "text/plain": [
       "<Figure size 432x288 with 1 Axes>"
      ]
     },
     "metadata": {
      "needs_background": "light"
     },
     "output_type": "display_data"
    }
   ],
   "source": [
    "#ehh not sure if this is usefull. But they say we should plot beta. So I did...\n",
    "import matplotlib.pyplot as plt\n",
    "plt.figure(figsize=(10, 6))\n",
    "fig, ax = plt.subplots()\n",
    "ax.set_xlabel('beta 0 to 20')\n",
    "ax.set_ylabel('Beta value',color =\"black\")\n",
    "ax.plot(beta_index[0],  label='Beta with poly 1', c= \"black\")\n",
    "ax.plot(beta_index[1], label=\"Beta with poly 2\", c= \"red\")\n",
    "ax.plot(beta_index[2], label=\"Beta with poly 3\", c= \"green\")\n",
    "ax.plot(beta_index[3], label=\"Beta with poly 4\", c= \"blue\")\n",
    "ax.plot(beta_index[4], label=\"Beta with poly 5\", c= \"yellow\")\n",
    "plt.grid()\n",
    "\n",
    "leg = ax.legend();"
   ]
  },
  {
   "cell_type": "code",
   "execution_count": 26,
   "id": "b864ab89",
   "metadata": {},
   "outputs": [],
   "source": [
    "#this dosen't work atm because of meshgrid not beeing active when making z.\n",
    "def plotEverything(x,y,z):    \n",
    "    from mpl_toolkits.mplot3d import Axes3D\n",
    "    import matplotlib.pyplot as plt\n",
    "    from matplotlib import cm\n",
    "    from matplotlib.ticker import LinearLocator, FormatStrFormatter\n",
    "    import numpy as np\n",
    "    from random import random, seed\n",
    "\n",
    "    fig = plt.figure()\n",
    "    ax = fig.gca(projection='3d')\n",
    "    #x,y = np.meshgrid(x,y)    \n",
    "    # Plot the surface.\n",
    "    surf = ax.plot_surface(x, y, z, cmap=cm.coolwarm,\n",
    "    linewidth=0, antialiased=False)\n",
    "    # Customize the z axis.\n",
    "    ax.set_zlim(-0.10, 1.40)\n",
    "    ax.zaxis.set_major_locator(LinearLocator(10))\n",
    "    ax.zaxis.set_major_formatter(FormatStrFormatter('%.02f'))\n",
    "    # Add a color bar which maps values to colors.\n",
    "    fig.colorbar(surf, shrink=0.5, aspect=5)\n",
    "    plt.show()\n",
    "    return none"
   ]
  },
  {
   "cell_type": "code",
   "execution_count": null,
   "id": "d7ccbb3d",
   "metadata": {},
   "outputs": [],
   "source": []
  }
 ],
 "metadata": {
  "kernelspec": {
   "display_name": "Python 3 (ipykernel)",
   "language": "python",
   "name": "python3"
  },
  "language_info": {
   "codemirror_mode": {
    "name": "ipython",
    "version": 3
   },
   "file_extension": ".py",
   "mimetype": "text/x-python",
   "name": "python",
   "nbconvert_exporter": "python",
   "pygments_lexer": "ipython3",
   "version": "3.9.12"
  }
 },
 "nbformat": 4,
 "nbformat_minor": 5
}
