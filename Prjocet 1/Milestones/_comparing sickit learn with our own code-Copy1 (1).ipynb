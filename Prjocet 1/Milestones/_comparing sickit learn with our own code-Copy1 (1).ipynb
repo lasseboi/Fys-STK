{
 "cells": [
  {
   "cell_type": "code",
   "execution_count": 1,
   "id": "c42f8e94",
   "metadata": {},
   "outputs": [],
   "source": [
    "#Importing packages\n",
    "import numpy as np\n",
    "from sklearn.model_selection import train_test_split\n",
    "from sklearn.preprocessing import StandardScaler\n",
    "import matplotlib.pyplot as plt\n",
    "from sklearn.preprocessing import PolynomialFeatures\n",
    "from sklearn import  linear_model\n",
    "from sklearn.metrics import mean_squared_error, r2_score"
   ]
  },
  {
   "cell_type": "code",
   "execution_count": 2,
   "id": "1c25ef37",
   "metadata": {},
   "outputs": [],
   "source": [
    "#creating the model based on feature matrix and optimal beta coeficients\n",
    "def betaAndYtildeGenerator(X_train,y_train):\n",
    "    beta = np.linalg.pinv(X_train.T @ X_train) @ X_train.T @ y_train\n",
    "    ytilde = X_train @ beta\n",
    "    return beta,ytilde\n"
   ]
  },
  {
   "cell_type": "code",
   "execution_count": 3,
   "id": "956552ee",
   "metadata": {},
   "outputs": [],
   "source": [
    "#Setting up the Feature matrix\n",
    "def X_generator(x, y, n ):\n",
    "    if len(x.shape) > 1:\n",
    "        x = np.ravel(x)\n",
    "        y = np.ravel(y)\n",
    "\n",
    "    N = len(x)\n",
    "    l = int((n+1)*(n+2)/2)  # Number of elements in beta\n",
    "    X = np.ones((N,l))\n",
    "\n",
    "    for i in range(1,n+1):\n",
    "        q = int((i)*(i+1)/2)\n",
    "        for k in range(i+1):\n",
    "            X[:,q+k] = (x**(i-k))*(y**k)\n",
    "\n",
    "    return X\n"
   ]
  },
  {
   "cell_type": "code",
   "execution_count": 4,
   "id": "34fc94e1",
   "metadata": {},
   "outputs": [],
   "source": [
    "# split in training and test data\n",
    "def traningDataGenerator(X,y):\n",
    "    X_train, X_test, y_train, y_test = train_test_split(X,y,test_size=0.2,random_state= 11)\n",
    "    return X_train, X_test, y_train, y_test"
   ]
  },
  {
   "cell_type": "code",
   "execution_count": 5,
   "id": "c604bad8",
   "metadata": {},
   "outputs": [],
   "source": [
    "#Functions for R2 and MSE\n",
    "def R2(y_data, y_model):\n",
    "    return 1 - np.sum((y_data - y_model) ** 2) / np.sum((y_data - np.mean(y_data)) ** 2)\n",
    "def MSE(y_data,y_model):\n",
    "    n = np.size(y_model)\n",
    "    return np.sum((y_data-y_model)**2)/n"
   ]
  },
  {
   "cell_type": "code",
   "execution_count": 6,
   "id": "9c6feb18",
   "metadata": {},
   "outputs": [],
   "source": [
    "def FrankeFunction(x,y):\n",
    "    term1 = 0.75*np.exp(-(0.25*(9*x-2)**2) - 0.25*((9*y-2)**2))\n",
    "    term2 = 0.75*np.exp(-((9*x+1)**2)/49.0 - 0.1*(9*y+1))\n",
    "    term3 = 0.5*np.exp(-(9*x-7)**2/4.0 - 0.25*((9*y-3)**2))\n",
    "    term4 = -0.2*np.exp(-(9*x-4)**2 - (9*y-7)**2)\n",
    "    return term1 + term2 + term3 + term4"
   ]
  },
  {
   "cell_type": "code",
   "execution_count": 7,
   "id": "abbcfc4f",
   "metadata": {},
   "outputs": [],
   "source": [
    "#Function for generating noise\n",
    "def noiseGeneration(z_input, scaling = 1):\n",
    "    np.random.seed(5)\n",
    "    nosyZ= z_input + np.random.randn(*z_input.shape) * scaling\n",
    "    return nosyZ"
   ]
  },
  {
   "cell_type": "code",
   "execution_count": 8,
   "id": "905eefd8",
   "metadata": {},
   "outputs": [],
   "source": [
    "#Fuction for making x and y of given size\n",
    "def makeData(n_size=20):\n",
    "    x = np.linspace(0,1,n_size)\n",
    "    y = np.linspace(0,1,n_size)\n",
    "    return x,y"
   ]
  },
  {
   "cell_type": "code",
   "execution_count": 9,
   "id": "cfed58e0",
   "metadata": {},
   "outputs": [],
   "source": [
    "#Scaling function for the feature matrix\n",
    "def scale(X_train,X_test,y_train,y_test):\n",
    "    scaler = StandardScaler()\n",
    "    scaler_x = scaler.fit(X_train) # Scaling x-data\n",
    "    X_train_scaled = scaler_x.transform(X_train)\n",
    "    X_test_scaled = scaler_x.transform(X_test)\n",
    "    \n",
    "    scaler_y = scaler.fit(y_train.reshape(-1,1))\n",
    "    y_train_scaled = scaler_y.transform(y_train.reshape(-1,1)).ravel()\n",
    "    y_test_scaled = scaler_y.transform(y_test.reshape(-1,1)).ravel()\n",
    "    return X_train_scaled,X_test_scaled,y_train_scaled,y_test_scaled"
   ]
  },
  {
   "cell_type": "code",
   "execution_count": 10,
   "id": "5d9c5430",
   "metadata": {},
   "outputs": [
    {
     "name": "stdout",
     "output_type": "stream",
     "text": [
      "(400,)\n",
      "0\n"
     ]
    },
    {
     "ename": "LinAlgError",
     "evalue": "Singular matrix",
     "output_type": "error",
     "traceback": [
      "\u001b[1;31m---------------------------------------------------------------------------\u001b[0m",
      "\u001b[1;31mLinAlgError\u001b[0m                               Traceback (most recent call last)",
      "\u001b[1;32m~\\AppData\\Local\\Temp/ipykernel_14296/3517634227.py\u001b[0m in \u001b[0;36m<module>\u001b[1;34m\u001b[0m\n\u001b[0;32m     43\u001b[0m     \u001b[0mbeta\u001b[0m \u001b[1;33m=\u001b[0m \u001b[0mnp\u001b[0m\u001b[1;33m.\u001b[0m\u001b[0mlinalg\u001b[0m\u001b[1;33m.\u001b[0m\u001b[0mpinv\u001b[0m\u001b[1;33m(\u001b[0m\u001b[0mX_train\u001b[0m\u001b[1;33m.\u001b[0m\u001b[0mT\u001b[0m \u001b[1;33m@\u001b[0m \u001b[0mX_train\u001b[0m\u001b[1;33m)\u001b[0m \u001b[1;33m@\u001b[0m \u001b[0mX_train\u001b[0m\u001b[1;33m.\u001b[0m\u001b[0mT\u001b[0m \u001b[1;33m@\u001b[0m \u001b[0my_train\u001b[0m\u001b[1;33m\u001b[0m\u001b[1;33m\u001b[0m\u001b[0m\n\u001b[0;32m     44\u001b[0m     \u001b[0mintercept\u001b[0m \u001b[1;33m=\u001b[0m \u001b[0mnp\u001b[0m\u001b[1;33m.\u001b[0m\u001b[0mmean\u001b[0m\u001b[1;33m(\u001b[0m\u001b[0my_offset\u001b[0m \u001b[1;33m-\u001b[0m \u001b[0mX_offset\u001b[0m \u001b[1;33m@\u001b[0m \u001b[0mbeta\u001b[0m\u001b[1;33m)\u001b[0m\u001b[1;33m\u001b[0m\u001b[1;33m\u001b[0m\u001b[0m\n\u001b[1;32m---> 45\u001b[1;33m     \u001b[0mbeta_scaled\u001b[0m \u001b[1;33m=\u001b[0m \u001b[0mnp\u001b[0m\u001b[1;33m.\u001b[0m\u001b[0mlinalg\u001b[0m\u001b[1;33m.\u001b[0m\u001b[0minv\u001b[0m\u001b[1;33m(\u001b[0m\u001b[0mX_train_scaled\u001b[0m\u001b[1;33m.\u001b[0m\u001b[0mT\u001b[0m \u001b[1;33m@\u001b[0m \u001b[0mX_train_scaled\u001b[0m\u001b[1;33m)\u001b[0m \u001b[1;33m@\u001b[0m \u001b[0mX_train_scaled\u001b[0m\u001b[1;33m.\u001b[0m\u001b[0mT\u001b[0m \u001b[1;33m@\u001b[0m \u001b[0my_train_scaled\u001b[0m \u001b[1;31m#scaled\u001b[0m\u001b[1;33m\u001b[0m\u001b[1;33m\u001b[0m\u001b[0m\n\u001b[0m\u001b[0;32m     46\u001b[0m     \u001b[0mintercept_scaled\u001b[0m \u001b[1;33m=\u001b[0m \u001b[0mnp\u001b[0m\u001b[1;33m.\u001b[0m\u001b[0mmean\u001b[0m\u001b[1;33m(\u001b[0m\u001b[0my_offset_scaled\u001b[0m \u001b[1;33m-\u001b[0m \u001b[0mX_offset_scaled\u001b[0m \u001b[1;33m@\u001b[0m \u001b[0mbeta_scaled\u001b[0m\u001b[1;33m)\u001b[0m\u001b[1;33m\u001b[0m\u001b[1;33m\u001b[0m\u001b[0m\n\u001b[0;32m     47\u001b[0m \u001b[1;33m\u001b[0m\u001b[0m\n",
      "\u001b[1;32m<__array_function__ internals>\u001b[0m in \u001b[0;36minv\u001b[1;34m(*args, **kwargs)\u001b[0m\n",
      "\u001b[1;32m~\\Anaconda3\\lib\\site-packages\\numpy\\linalg\\linalg.py\u001b[0m in \u001b[0;36minv\u001b[1;34m(a)\u001b[0m\n\u001b[0;32m    543\u001b[0m     \u001b[0msignature\u001b[0m \u001b[1;33m=\u001b[0m \u001b[1;34m'D->D'\u001b[0m \u001b[1;32mif\u001b[0m \u001b[0misComplexType\u001b[0m\u001b[1;33m(\u001b[0m\u001b[0mt\u001b[0m\u001b[1;33m)\u001b[0m \u001b[1;32melse\u001b[0m \u001b[1;34m'd->d'\u001b[0m\u001b[1;33m\u001b[0m\u001b[1;33m\u001b[0m\u001b[0m\n\u001b[0;32m    544\u001b[0m     \u001b[0mextobj\u001b[0m \u001b[1;33m=\u001b[0m \u001b[0mget_linalg_error_extobj\u001b[0m\u001b[1;33m(\u001b[0m\u001b[0m_raise_linalgerror_singular\u001b[0m\u001b[1;33m)\u001b[0m\u001b[1;33m\u001b[0m\u001b[1;33m\u001b[0m\u001b[0m\n\u001b[1;32m--> 545\u001b[1;33m     \u001b[0mainv\u001b[0m \u001b[1;33m=\u001b[0m \u001b[0m_umath_linalg\u001b[0m\u001b[1;33m.\u001b[0m\u001b[0minv\u001b[0m\u001b[1;33m(\u001b[0m\u001b[0ma\u001b[0m\u001b[1;33m,\u001b[0m \u001b[0msignature\u001b[0m\u001b[1;33m=\u001b[0m\u001b[0msignature\u001b[0m\u001b[1;33m,\u001b[0m \u001b[0mextobj\u001b[0m\u001b[1;33m=\u001b[0m\u001b[0mextobj\u001b[0m\u001b[1;33m)\u001b[0m\u001b[1;33m\u001b[0m\u001b[1;33m\u001b[0m\u001b[0m\n\u001b[0m\u001b[0;32m    546\u001b[0m     \u001b[1;32mreturn\u001b[0m \u001b[0mwrap\u001b[0m\u001b[1;33m(\u001b[0m\u001b[0mainv\u001b[0m\u001b[1;33m.\u001b[0m\u001b[0mastype\u001b[0m\u001b[1;33m(\u001b[0m\u001b[0mresult_t\u001b[0m\u001b[1;33m,\u001b[0m \u001b[0mcopy\u001b[0m\u001b[1;33m=\u001b[0m\u001b[1;32mFalse\u001b[0m\u001b[1;33m)\u001b[0m\u001b[1;33m)\u001b[0m\u001b[1;33m\u001b[0m\u001b[1;33m\u001b[0m\u001b[0m\n\u001b[0;32m    547\u001b[0m \u001b[1;33m\u001b[0m\u001b[0m\n",
      "\u001b[1;32m~\\Anaconda3\\lib\\site-packages\\numpy\\linalg\\linalg.py\u001b[0m in \u001b[0;36m_raise_linalgerror_singular\u001b[1;34m(err, flag)\u001b[0m\n\u001b[0;32m     86\u001b[0m \u001b[1;33m\u001b[0m\u001b[0m\n\u001b[0;32m     87\u001b[0m \u001b[1;32mdef\u001b[0m \u001b[0m_raise_linalgerror_singular\u001b[0m\u001b[1;33m(\u001b[0m\u001b[0merr\u001b[0m\u001b[1;33m,\u001b[0m \u001b[0mflag\u001b[0m\u001b[1;33m)\u001b[0m\u001b[1;33m:\u001b[0m\u001b[1;33m\u001b[0m\u001b[1;33m\u001b[0m\u001b[0m\n\u001b[1;32m---> 88\u001b[1;33m     \u001b[1;32mraise\u001b[0m \u001b[0mLinAlgError\u001b[0m\u001b[1;33m(\u001b[0m\u001b[1;34m\"Singular matrix\"\u001b[0m\u001b[1;33m)\u001b[0m\u001b[1;33m\u001b[0m\u001b[1;33m\u001b[0m\u001b[0m\n\u001b[0m\u001b[0;32m     89\u001b[0m \u001b[1;33m\u001b[0m\u001b[0m\n\u001b[0;32m     90\u001b[0m \u001b[1;32mdef\u001b[0m \u001b[0m_raise_linalgerror_nonposdef\u001b[0m\u001b[1;33m(\u001b[0m\u001b[0merr\u001b[0m\u001b[1;33m,\u001b[0m \u001b[0mflag\u001b[0m\u001b[1;33m)\u001b[0m\u001b[1;33m:\u001b[0m\u001b[1;33m\u001b[0m\u001b[1;33m\u001b[0m\u001b[0m\n",
      "\u001b[1;31mLinAlgError\u001b[0m: Singular matrix"
     ]
    }
   ],
   "source": [
    "np.random.seed(870)\n",
    "N = 20 #data size\n",
    "x, y = makeData(N)\n",
    "x_mesh, y_mesh = np.meshgrid(x,y)\n",
    "\n",
    "x_flat = np.ravel(x_mesh) \n",
    "y_flat = np.ravel(y_mesh)\n",
    "print(x_flat.shape)\n",
    "z = FrankeFunction(x_flat, y_flat)\n",
    "z = noiseGeneration(z,0.1)\n",
    "\n",
    "#creating lists\n",
    "R2_test = []\n",
    "R2_train = []\n",
    "R2_test_scaled = []\n",
    "R2_train_scaled = []\n",
    "MSE_test = []\n",
    "MSE_train = []\n",
    "MSE_test_scaled = []\n",
    "MSE_train_scaled = []\n",
    "numOfPoly_index = []\n",
    "beta_index = []\n",
    "beta_index_scaled = []\n",
    "numOfPoly_max = 15\n",
    "#for loop for number of polynomials\n",
    "for i in range(0, numOfPoly_max +1 ):\n",
    "    numOfPoly = i  \n",
    "    print(numOfPoly)\n",
    "    X = X_generator(x_flat,y_flat, numOfPoly)\n",
    "    Xs = X_generator(x_flat,y_flat, numOfPoly)\n",
    "    if i > 0:\n",
    "        Xs = np.delete(Xs,0,1)\n",
    "    X_train, X_test, y_train, y_test = traningDataGenerator(X,z)\n",
    "    X_train_s, X_test_s, y_train_s, y_test_s = traningDataGenerator(Xs,z)\n",
    "    X_offset = np.mean(X_train,axis=0)\n",
    "    y_offset = np.mean(y_train,axis=0)\n",
    "    \n",
    "    #scaling the data\n",
    "    X_train_scaled, X_test_scaled, y_train_scaled,y_test_scaled = scale(X_train_s, X_test_s ,y_train_s,y_test_s)\n",
    "    X_offset_scaled = np.mean(X_train_scaled,axis=0)\n",
    "    y_offset_scaled = np.mean(y_train_scaled,axis=0)\n",
    "    # matrix inversion to find beta\n",
    "    beta = np.linalg.pinv(X_train.T @ X_train) @ X_train.T @ y_train\n",
    "    intercept = np.mean(y_offset - X_offset @ beta)\n",
    "    beta_scaled = np.linalg.inv(X_train_scaled.T @ X_train_scaled) @ X_train_scaled.T @ y_train_scaled #scaled\n",
    "    intercept_scaled = np.mean(y_offset_scaled - X_offset_scaled @ beta_scaled)\n",
    "    \n",
    "    # and then make the prediction\n",
    "    \n",
    "    ytilde = X_train @ beta \n",
    "    ytilde_scaled = X_train_scaled @ beta_scaled + y_offset_scaled #scaled\n",
    "    ypredict = X_test @ beta \n",
    "    ypredict_scaled = X_test_scaled @ beta_scaled + y_offset_scaled #scaled\n",
    "    \n",
    "    R2_test.append(R2(y_test,ypredict))\n",
    "    R2_test_scaled.append(R2(y_test_scaled,ypredict_scaled)) #scaled\n",
    "    \n",
    "    R2_train.append(R2(y_train,ytilde))\n",
    "    R2_train_scaled.append(R2(y_train_scaled,ytilde_scaled)) #scaled\n",
    "    \n",
    "    MSE_train.append(MSE(y_train,ytilde))\n",
    "    MSE_train_scaled.append(MSE(y_train_scaled,ytilde_scaled)) #scaled\n",
    "    \n",
    "    MSE_test.append(MSE(y_test,ypredict))\n",
    "    MSE_test_scaled.append(MSE(y_test_scaled,ypredict_scaled)) #scaled\n",
    "    \n",
    "    numOfPoly_index.append(numOfPoly)\n",
    "    beta_index.append(beta)\n",
    "    beta_index_scaled.append(beta_scaled) #scaled\n",
    "     \n",
    "print(\"Training R2\")\n",
    "print(R2(y_train,ytilde))\n",
    "print(\"Training MSE\")\n",
    "print(MSE(y_train,ytilde))\n",
    "print(\"Test R2\")\n",
    "print(R2(y_test,ypredict))\n",
    "print(\"Test MSE\")\n",
    "print(MSE(y_test,ypredict))\n",
    "\n",
    "print(\"Training MSE_scaled\")\n",
    "print(MSE(y_train,ytilde_scaled))\n",
    "\n",
    "print(\"Test MSE_scaled\")\n",
    "print(MSE(y_test_scaled,ypredict_scaled))\n",
    "print(beta_index[0])\n",
    "print(intercept_scaled)\n",
    "print(intercept)\n",
    "print(beta_index_scaled[0])\n",
    "print(y_offset)"
   ]
  },
  {
   "cell_type": "code",
   "execution_count": 100,
   "id": "ab29ed39",
   "metadata": {},
   "outputs": [
    {
     "data": {
      "text/plain": [
       "<Figure size 720x432 with 0 Axes>"
      ]
     },
     "metadata": {},
     "output_type": "display_data"
    },
    {
     "data": {
      "image/png": "[encoded data removed]",
      "text/plain": [
       "<Figure size 432x288 with 1 Axes>"
      ]
     },
     "metadata": {
      "needs_background": "light"
     },
     "output_type": "display_data"
    }
   ],
   "source": [
    "plt.figure(figsize=(10, 6))\n",
    "fig, ax = plt.subplots()\n",
    "ax.set_xlabel('number of polynomials')\n",
    "ax.set_ylabel('MSE',color =\"black\")\n",
    "ax.plot(numOfPoly_index,MSE_test ,  label='MSE test',linewidth=3.0, c= \"red\")\n",
    "ax.plot(numOfPoly_index,MSE_train ,label=\"MSE train\",linewidth=3.0, c= \"black\")\n",
    "ax.plot(numOfPoly_index,R2_test ,  label='R2 test',linewidth=3.0, c= \"orange\")\n",
    "ax.plot(numOfPoly_index,R2_train ,label=\"R2 train\",linewidth=3.0, c= \"green\")\n",
    "plt.title(\"MSE with own code\")\n",
    "plt.grid()\n",
    "\n",
    "leg = ax.legend();"
   ]
  },
  {
   "cell_type": "code",
   "execution_count": 101,
   "id": "3e2f3c4b",
   "metadata": {},
   "outputs": [
    {
     "data": {
      "text/plain": [
       "<Figure size 720x432 with 0 Axes>"
      ]
     },
     "metadata": {},
     "output_type": "display_data"
    },
    {
     "data": {
      "image/png": "[encoded data removed]",
      "text/plain": [
       "<Figure size 432x288 with 1 Axes>"
      ]
     },
     "metadata": {
      "needs_background": "light"
     },
     "output_type": "display_data"
    }
   ],
   "source": [
    "import matplotlib.pyplot as plt\n",
    "plt.figure(figsize=(10, 6))\n",
    "fig, ax = plt.subplots()\n",
    "ax.set_xlabel('number of polynomials')\n",
    "ax.set_ylabel('MSE',color =\"black\")\n",
    "ax.plot(numOfPoly_index,MSE_train_scaled ,  label='MSE training scaled',linewidth=3.0, c= \"black\")\n",
    "ax.plot(numOfPoly_index,MSE_test_scaled ,label=\"MSE test scaled\",linewidth=3.0, c= \"red\")\n",
    "ax.plot(numOfPoly_index,R2_test_scaled ,  label='R2 test',linewidth=3.0, c= \"orange\")\n",
    "ax.plot(numOfPoly_index,R2_train_scaled ,label=\"R2 train\",linewidth=3.0, c= \"green\")\n",
    "ax.set_title('MSE scaled with own code')\n",
    "plt.grid()\n",
    "\n",
    "leg = ax.legend();"
   ]
  },
  {
   "cell_type": "code",
   "execution_count": 93,
   "id": "b7c14332",
   "metadata": {},
   "outputs": [
    {
     "name": "stdout",
     "output_type": "stream",
     "text": [
      "\n"
     ]
    },
    {
     "data": {
      "image/png": "[encoded data removed]",
      "text/plain": [
       "<Figure size 432x288 with 1 Axes>"
      ]
     },
     "metadata": {
      "needs_background": "light"
     },
     "output_type": "display_data"
    }
   ],
   "source": [
    "_PH_unscaled = len(beta) \n",
    "_PH_scaled = len(beta_scaled) \n",
    "variance_s = np.zeros(_PH_scaled +1)\n",
    "CI_s = np.zeros(_PH_scaled +1)\n",
    "variance = np.zeros(_PH_unscaled)\n",
    "CI = np.zeros(_PH_unscaled )\n",
    "\n",
    "for i in range(_PH_scaled ):\n",
    "    variance[i] = 0.1**2 * np.linalg.pinv(X_train.T @ X_train)[i,i]\n",
    "    CI[i] = 2*np.sqrt(variance[i])/np.sqrt(N)\n",
    "    variance_s[i] = 0.1**2 * np.linalg.pinv(X_train_scaled.T @ X_train_scaled)[i,i]\n",
    "    CI_s[i] = 2*np.sqrt(variance_s[i])/np.sqrt(N)\n",
    "\n",
    "print(\"\")\n",
    "plt.errorbar(np.arange(0,_PH_unscaled), beta, yerr=CI, fmt='o', ecolor='red', capsize=5, markersize=4, label='unscaled beta_i with confidence range')\n",
    "plt.errorbar(np.arange(0,_PH_scaled + 1),np.insert(beta_scaled,0,intercept_scaled), yerr=CI_s, fmt='x', ecolor='green', capsize=5, markersize=4, label='scaled beta_i with confidence range')\n",
    "plt.xlabel('i')\n",
    "plt.ylabel('beta [i]')\n",
    "plt.grid()\n",
    "plt.legend()\n",
    "plt.title(\"Confidence interval of the paramateres beta for a 5th order polynomial fit\")\n",
    "plt.show()"
   ]
  },
  {
   "cell_type": "code",
   "execution_count": 116,
   "id": "d9d5b2eb",
   "metadata": {},
   "outputs": [
    {
     "name": "stdout",
     "output_type": "stream",
     "text": [
      "enter the max degree:15\n",
      "max degree is : 15\n",
      "0\n",
      "1\n",
      "2\n",
      "3\n",
      "4\n",
      "5\n",
      "6\n",
      "7\n",
      "8\n",
      "9\n",
      "10\n",
      "11\n",
      "12\n",
      "13\n",
      "14\n",
      "15\n",
      "Coefficients: \n",
      " [ 8.09466934e-01 -7.76160236e+01 -1.38978416e+02  3.42989044e+03\n",
      "  2.59155159e+03  3.28832978e+03 -5.91450574e+04 -3.46542450e+04\n",
      " -4.86249995e+04 -2.78494489e+04  5.51749994e+05  3.74917676e+05\n",
      "  4.11398470e+05  3.66967966e+05  6.98711351e+04 -3.16476728e+06\n",
      " -3.04644611e+06 -1.79592338e+06 -3.53406268e+06 -9.23909317e+05\n",
      "  6.22019870e+05  1.18734463e+07  1.70785690e+07  6.23266881e+06\n",
      "  1.28977594e+07  1.60312273e+07 -2.72053098e+06 -7.44115248e+06\n",
      " -2.98736003e+07 -6.61436288e+07 -2.18313677e+07 -2.38949827e+07\n",
      " -6.32956904e+07 -3.55340219e+07  2.48362022e+07  4.10972606e+07\n",
      "  4.98349692e+07  1.81507337e+08  6.44279891e+07  3.42396366e+07\n",
      "  1.01067685e+08  1.89451266e+08  9.92296174e+06 -7.16921617e+07\n",
      " -1.47134856e+08 -5.06258756e+07 -3.60391680e+08 -1.35150773e+08\n",
      " -6.28025968e+07 -8.17724794e+07 -2.94801936e+08 -3.46205526e+08\n",
      "  1.53252783e+08  9.66274132e+07  3.66341568e+08  1.90528373e+07\n",
      "  5.23175770e+08  1.89279540e+08  1.23190797e+08  4.04215289e+07\n",
      "  2.10364300e+08  5.48411236e+08  3.66410564e+08 -4.33282439e+08\n",
      " -2.26476683e+07 -6.45066257e+08  2.45125719e+07 -5.53831509e+08\n",
      " -1.67679934e+08 -1.78185632e+08 -3.19077978e+07 -6.32238782e+07\n",
      " -3.57433916e+08 -6.51021118e+08 -1.64729723e+08  6.07276431e+08\n",
      " -1.27597851e+08  7.99129871e+08 -4.39614317e+07  4.18938518e+08\n",
      "  8.13005394e+07  1.72588590e+08  3.89606227e+07  3.59029619e+05\n",
      "  1.00135015e+08  3.75988955e+08  4.82003009e+08 -7.38486873e+07\n",
      " -5.03217865e+08  2.11598998e+08 -6.80367791e+08  3.18645941e+07\n",
      " -2.15623326e+08 -8.35315229e+06 -1.09392020e+08 -2.41313080e+07\n",
      " -7.40023877e+06  4.91940122e+06 -9.57462514e+07 -2.35180708e+08\n",
      " -2.07763395e+08  1.36084151e+08  2.47705160e+08 -1.59676661e+08\n",
      "  3.78618967e+08 -1.18765427e+07  6.78452857e+07 -1.04716820e+07\n",
      "  4.23090970e+07  3.37013586e+06  1.34528194e+07 -1.25567231e+07\n",
      "  9.29324345e+06  4.26144487e+07  8.08179422e+07  4.38012547e+07\n",
      " -6.70773573e+07 -6.62865022e+07  6.18159387e+07 -1.23931414e+08\n",
      "  1.86784097e+06 -9.85161994e+06  3.67534208e+06 -7.72148007e+06\n",
      "  1.53544585e+06 -5.25184863e+06  4.06583647e+06 -1.39379124e+06\n",
      " -8.89827727e+05 -8.89720970e+06 -1.10844140e+07 -2.69895628e+06\n",
      "  1.18988611e+07  7.28082354e+06 -9.94051478e+06  1.80866129e+07]\n",
      "Intercept scaled: \n",
      " -2.6768584287481064e-07\n",
      "Intercept: \n",
      " 0.0\n",
      " MSE training : \n",
      " 0.0057926292884954685\n",
      " MSE test : \n",
      " 0.17770110054583083\n",
      " MSE training_scaled : \n",
      " 0.06009615121057173\n",
      " MSE test_scaled : \n",
      " 1.8435437996829236\n"
     ]
    }
   ],
   "source": [
    "np.random.seed(870)\n",
    "from sklearn.pipeline import make_pipeline\n",
    "from sklearn.utils import resample\n",
    "\n",
    "\n",
    "\n",
    "N = 20 #data size\n",
    "x, y = makeData(N)\n",
    "x_mesh, y_mesh = np.meshgrid(x,y)\n",
    "x_flat = np.ravel(x_mesh) \n",
    "y_flat = np.ravel(y_mesh)\n",
    "\n",
    "z = FrankeFunction(x_flat, y_flat)\n",
    "z = noiseGeneration(z,0.1)\n",
    "max_degree = input(\"enter the max degree:\")\n",
    "max_degree = int(max_degree)\n",
    "print(\"max degree is :\",max_degree)\n",
    "\n",
    "max_degree = np.arange(0,max_degree + 1)\n",
    "MSE_test_sklearn = []\n",
    "MSE_test_scaled_sklearn = []\n",
    "numOfPoly_index = []\n",
    "beta_foef = []\n",
    "beta_foef_scaled = []\n",
    "for degree in (max_degree):\n",
    "    X = X_generator(x_flat,y_flat, degree)\n",
    "    Xs = X_generator(x_flat,y_flat, degree)\n",
    "    if degree > 0:\n",
    "        Xs = np.delete(Xs,0,1)\n",
    "    \n",
    "  \n",
    "   \n",
    "    X_train, X_test, y_train, y_test = traningDataGenerator(X,z)\n",
    "    X_train_s, X_test_s, y_train_s, y_test_s = traningDataGenerator(Xs,z)\n",
    "    \n",
    "    X_train_scaled, X_test_scaled, y_train_scaled, y_test_scaled = scale(X_train_s, X_test_s ,y_train_s, y_test_s)\n",
    "    \n",
    "    poly_reg_model = linear_model.LinearRegression(fit_intercept = False)\n",
    "    poly_reg_model_s = linear_model.LinearRegression(fit_intercept = True) # Can have fit intercept = True for scaled model \n",
    "    poly_reg_model.fit(X_train, y_train)\n",
    "    poly_reg_model_s.fit(X_train_scaled, y_train_scaled)\n",
    "    \n",
    "    y_tilde_scaled = poly_reg_model_s.predict(X_train_scaled)\n",
    "    y_pred_scaled = poly_reg_model_s.predict(X_test_scaled)\n",
    "    \n",
    "    y_tilde = poly_reg_model.predict(X_train)\n",
    "    y_pred = poly_reg_model.predict(X_test)\n",
    "    \n",
    "    #MSE_train_scaled.append(mean_squared_error(y_train_scaled, y_tilde_scaled))\n",
    "    MSE_test_scaled_sklearn.append(MSE(y_test_scaled, y_pred_scaled))\n",
    "    #MSE_train_sklearn.append(mean_squared_error(y_train_scaled, y_tilde_scaled))\n",
    "    MSE_test_sklearn.append(mean_squared_error(y_test, y_pred))\n",
    "    numOfPoly_index.append(degree)\n",
    "    beta_foef.append(poly_reg_model.coef_)\n",
    "    beta_foef_scaled.append(poly_reg_model_s.coef_)\n",
    "    print(degree)\n",
    "\n",
    "\n",
    "# The coefficients\n",
    "print(\"Coefficients: \\n\", poly_reg_model.coef_)\n",
    "print(\"Intercept scaled: \\n\", poly_reg_model_s.intercept_)\n",
    "print(\"Intercept: \\n\", poly_reg_model.intercept_)\n",
    "\n",
    "\n",
    "print(\" MSE training : \\n\",mean_squared_error(y_tilde, y_train))\n",
    "print(\" MSE test : \\n\",mean_squared_error(y_test, y_pred))\n",
    "\n",
    "print(\" MSE training_scaled : \\n\",mean_squared_error(y_tilde_scaled,y_train_scaled))\n",
    "print(\" MSE test_scaled : \\n\",mean_squared_error(y_test_scaled, y_pred_scaled))\n",
    "\n"
   ]
  },
  {
   "cell_type": "code",
   "execution_count": 117,
   "id": "c773af95",
   "metadata": {},
   "outputs": [
    {
     "data": {
      "text/plain": [
       "<Figure size 720x432 with 0 Axes>"
      ]
     },
     "metadata": {},
     "output_type": "display_data"
    },
    {
     "data": {
      "image/png": "[encoded data removed]",
      "text/plain": [
       "<Figure size 432x288 with 1 Axes>"
      ]
     },
     "metadata": {
      "needs_background": "light"
     },
     "output_type": "display_data"
    }
   ],
   "source": [
    "0.1806787700906097\n",
    "5.671487281234656e-14\n",
    "plt.figure(figsize=(10, 6))\n",
    "fig, ax = plt.subplots()\n",
    "ax.set_xlabel('number of polynomials')\n",
    "ax.set_ylabel('MSE',color =\"black\")\n",
    "#ax.plot(np.insert(MSE_test_scaled,0,0.7,axis = 0) ,  label='MSE own code',linewidth=3.0, c= \"red\")\n",
    "ax.plot(MSE_test_scaled_sklearn ,label=\"MSE sklearn\",linewidth=3.0, c= \"black\")\n",
    "ax.plot(MSE_test_scaled ,label=\"MSE own\",linewidth=3.0, c= \"red\")\n",
    "#ax.plot(MSE_test_sklearn ,label=\"MSE sklearn unskaled\",linewidth=3.0, c= \"green\")\n",
    "#ax.plot(MSE_test ,label=\"MSE own unskaled\",linewidth=3.0, c= \"yellow\")\n",
    "plt.title(\"MSEcomparing own code with sickit learn\")\n",
    "plt.grid()\n",
    "\n",
    "leg = ax.legend();\n"
   ]
  },
  {
   "cell_type": "code",
   "execution_count": null,
   "id": "1ea8a797",
   "metadata": {},
   "outputs": [],
   "source": [
    "(beta_foef_scaled)"
   ]
  },
  {
   "cell_type": "code",
   "execution_count": null,
   "id": "899f602e",
   "metadata": {
    "scrolled": true
   },
   "outputs": [],
   "source": [
    "(beta_foef)"
   ]
  },
  {
   "cell_type": "code",
   "execution_count": null,
   "id": "ccb16382",
   "metadata": {},
   "outputs": [],
   "source": [
    "print(X_test_scaled.shape)\n",
    "print(X_test.shape)"
   ]
  }
 ],
 "metadata": {
  "kernelspec": {
   "display_name": "Python 3 (ipykernel)",
   "language": "python",
   "name": "python3"
  },
  "language_info": {
   "codemirror_mode": {
    "name": "ipython",
    "version": 3
   },
   "file_extension": ".py",
   "mimetype": "text/x-python",
   "name": "python",
   "nbconvert_exporter": "python",
   "pygments_lexer": "ipython3",
   "version": "3.9.7"
  }
 },
 "nbformat": 4,
 "nbformat_minor": 5
}
